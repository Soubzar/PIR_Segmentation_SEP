{
 "cells": [
  {
   "cell_type": "markdown",
   "metadata": {},
   "source": [
    "# <span style=\"color:blue\"> Binary Segmentation with the U-Net Model\n",
    "\n",
    "**Segmenting a single object** - the ```Multiple Sclerosis``` dataset\n",
    "\n",
    "In this notebook, we will train a U-Net model to perform semantic segmentation on RGB images of cars from the **Multiple Sclerosis dataset**. The objective of this task is to accurately separate the lesions from their background.\n",
    "\n",
    "<span style=\"color:red\"> **Before proceeding**, ensure the dataset is available at ```D:\\PIR_SEP\\Datasets\\BRAIN_MRI_SLICES```  \n",
    "\n",
    "<span style=\"color:black\">\n",
    "\n",
    "The **U-Net** architecture is ideal for this task because it combines a contracting path (encoder) and an expanding path (decoder). This design effectively captures both high-level global features and fine-grained local details.\n",
    "\n",
    "This notebook will guide you through the following steps:\n",
    ">1. **Imports:** Setting up required libraries and packages.\n",
    ">2. **Data Loading and Visualization:** Understanding the dataset and preprocessing it for the task.\n",
    ">3. **Network Architecture Definition:** Implementing the U-Net model.\n",
    ">4. **Model Training:** Optimizing the network with backpropagation.\n",
    ">5. **Inference and Evaluation:** Testing the model on unseen data and assessing its performance using relevant metrics.\n",
    "\n",
    "---\n",
    "\n",
    "### <span style=\"color:brown\"> **What is Segmentation?**\n",
    "\n",
    "Segmentation involves assigning a class label to every pixel in an image.\n",
    "\n",
    "- **Binary Segmentation:** Identifies a single object class (e.g., car) against the background.\n",
    "- **Multi-Class Segmentation:** Differentiates between multiple object classes.\n",
    "\n",
    "---\n",
    "\n",
    "### <span style=\"color:brown\"> **Semantic vs. Instance Segmentation**\n",
    "\n",
    "When multiple objects of the same class appear in an image:\n",
    "- **Semantic Segmentation:** Assigns the same label to all objects of the same class.\n",
    "- **Instance Segmentation:** Differentiates and labels each object instance separately, enabling object counting.\n",
    "\n",
    "Instance separation can sometimes be performed using traditional image processing techniques after semantic segmentation.\n",
    "\n",
    "<img src=\"figures/SemanticIntanceSegmentation.png\" alt=\"Semantic vs Instance Segmentation\" style=\"width: 75%;\"/>\n",
    "\n",
    "**In this notebook, we focus on semantic segmentation** using the U-Net deep learning architecture.\n",
    "\n",
    "---\n",
    "\n",
    "### <span style=\"color:brown\"> **A Quick Overview of U-Net**\n",
    "\n",
    "The U-Net architecture is a fully **convolutional network** designed for segmentation tasks. Its key features include:\n",
    "- **Skip connections:** Directly link the encoder and decoder layers to preserve spatial details and scale information.\n",
    "- **Symmetrical design:** Combines downsampling for context (**encoder in orange**) with upsampling for precise localization (**decoder in green**).\n",
    "\n",
    "<img src=\"figures/UNet.png\" alt=\"U-Net Architecture\" style=\"width: 70%;\"/>\n"
   ]
  },
  {
   "cell_type": "markdown",
   "metadata": {},
   "source": [
    "## <span style=\"color:brown\"> 1. Imports \n",
    "Before we begin, we will import the necessary libraries for data handling, image transformations, and model training using PyTorch."
   ]
  },
  {
   "cell_type": "code",
   "execution_count": 3,
   "metadata": {},
   "outputs": [
    {
     "name": "stderr",
     "output_type": "stream",
     "text": [
      "C:\\Users\\selkhalifi\\.conda\\envs\\monai-dev\\Lib\\site-packages\\tqdm\\auto.py:21: TqdmWarning: IProgress not found. Please update jupyter and ipywidgets. See https://ipywidgets.readthedocs.io/en/stable/user_install.html\n",
      "  from .autonotebook import tqdm as notebook_tqdm\n"
     ]
    },
    {
     "name": "stdout",
     "output_type": "stream",
     "text": [
      "PyTorch version: 2.7.0+cu128\n",
      "Torchvision version: 0.22.0+cu128\n",
      "Numpy version: 1.26.4\n",
      "Monai version: 1.4.1rc1+48.g4305bb81\n"
     ]
    }
   ],
   "source": [
    "# Import libraries\n",
    "# PyTorch for building and training neural networks\n",
    "import torch\n",
    "import torch.nn as nn\n",
    "import torch.nn.functional as F\n",
    "from torch.utils.data import Dataset, DataLoader, random_split\n",
    "\n",
    "from torch import Tensor\n",
    "\n",
    "# Torchvision for data transformations\n",
    "import torchvision\n",
    "from torchvision import datasets, transforms\n",
    "\n",
    "# Torchinfo to display model summaries\n",
    "from torchinfo import summary\n",
    "\n",
    "# Numpy and Pathlib for data handling\n",
    "import numpy as np\n",
    "from pathlib import Path\n",
    "\n",
    "# Tqdm for progress bars\n",
    "from tqdm.auto import tqdm\n",
    "\n",
    "# Import the 'os' module, which provides functions for interacting with the operating system.\n",
    "# This module is useful for tasks like handling file paths, creating directories, and managing files.\n",
    "import os\n",
    "\n",
    "# Import specific types from the 'typing' module, which provides support for type hints in Python.\n",
    "# 'Optional' is used for indicating that a variable might be of a certain type or None.\n",
    "# 'Union' allows a variable to be one of several types.\n",
    "# 'Tuple' is used to specify a fixed-size sequence of elements of specified types.\n",
    "from typing import Optional, Union, Tuple\n",
    "\n",
    "# Monai for medical imaging, specific to preprocessing and loss functions\n",
    "import monai\n",
    "from monai.transforms import LoadImage\n",
    "# from monai.losses import DiceLoss\n",
    "\n",
    "# Matplotlib for data visualization\n",
    "import matplotlib\n",
    "import matplotlib.pyplot as plt\n",
    "from matplotlib.colors import ListedColormap\n",
    "%matplotlib inline\n",
    "\n",
    "# Import the 'glob' module, which provides a way to retrieve files matching a specified pattern. \n",
    "# This is useful for loading multiple image and mask files from directories.\n",
    "import glob\n",
    "# Import the 'Image' class from the 'PIL' (Python Imaging Library) module.\n",
    "# This class allows us to open, manipulate, and save various image file formats.\n",
    "from PIL import Image\n",
    "\n",
    "# Check and display library versions for reproducibility\n",
    "print(f\"PyTorch version: {torch.__version__}\")\n",
    "print(f\"Torchvision version: {torchvision.__version__}\")\n",
    "print(f\"Numpy version: {np.__version__}\")\n",
    "print(f\"Monai version: {monai.__version__}\")\n",
    "\n",
    "import copy\n",
    "import os\n",
    "import random\n",
    "import shutil\n",
    "import zipfile\n",
    "from math import atan2, cos, sin, sqrt, pi, log\n",
    "\n",
    "#import cv2\n",
    "import matplotlib.pyplot as plt\n",
    "import numpy as np\n",
    "import torch\n",
    "import torch.nn as nn\n",
    "import torch.nn.functional as F\n",
    "import torchvision.transforms as transforms\n",
    "from PIL import Image\n",
    "from numpy import linalg as LA\n",
    "from torch import optim, nn\n",
    "from torch.utils.data import DataLoader, random_split\n",
    "from torch.utils.data.dataset import Dataset\n",
    "from torchvision import transforms\n",
    "from tqdm import tqdm\n"
   ]
  },
  {
   "cell_type": "code",
   "execution_count": 4,
   "metadata": {},
   "outputs": [
    {
     "name": "stdout",
     "output_type": "stream",
     "text": [
      "Using device: cuda\n",
      "True\n",
      "2.7.0+cu128\n",
      "12.8\n",
      "90701\n",
      "/c/Users/selkhalifi/.conda/envs/monai-dev/python\n"
     ]
    }
   ],
   "source": [
    "\n",
    "# Device setup\n",
    "# Use GPU if available for faster training, otherwise fallback to CPU\n",
    "device = torch.device(\"cuda\" if torch.cuda.is_available() else \"cpu\")\n",
    "print(f\"Using device: {device}\")\n",
    "print(torch.cuda.is_available())\n",
    "print(torch.__version__)\n",
    "print(torch.version.cuda)\n",
    "print(torch.backends.cudnn.version())\n",
    "!which python\n",
    "\n"
   ]
  },
  {
   "cell_type": "markdown",
   "metadata": {},
   "source": [
    "--- \n",
    "## <span style=\"color:brown\"> 2. Load and Visualize the Data\n",
    "In this section, we load and visualize RGB images from the carvana dataset.\n",
    "\n",
    "Datasets often require preprocessing steps to prepare the data for training. Here, we will visualize a few examples to understand what our model will learn to segment. \n",
    "    "
   ]
  },
  {
   "cell_type": "markdown",
   "metadata": {},
   "source": [
    "### <span style=\"color:brown\"> 2.1 Create Dataset objects\n",
    "`SepDataset`  will be used to load the data during training, validating and testing."
   ]
  },
  {
   "cell_type": "code",
   "execution_count": 5,
   "metadata": {},
   "outputs": [],
   "source": [
    "from torchvision import transforms\n",
    "from PIL import Image\n",
    "import torch\n",
    "from torch.utils.data import Dataset\n",
    "\n",
    "# Transformation personnalisée pour redimensionner l'image et le masque\n",
    "class ResizeImageAndMask:\n",
    "    def __init__(self, image_size, mask_size):\n",
    "        #on redimensionne pour :\n",
    "        #Uniformiser toutes les images (et masques) à une taille standard\n",
    "        #Permettre des batchs (traiter plusieurs images à la fois)\n",
    "        #Faire tourner le modèle sans crash\n",
    "        \n",
    "        #Quand tu redimensionnes une image, tu perds des pixels (ou tu en inventes, si tu agrandis).\n",
    "        #→ L’interpolation est juste la méthode utilisée pour remplir les trous ou lisser la transition.\n",
    "\n",
    "        # Redimensionner l'image avec interpolation bilinéaire, fait une moyenne des pixels voisins\n",
    "        self.image_resize = transforms.Resize(image_size, interpolation=Image.BILINEAR)\n",
    "        # Redimensionner le masque avec interpolation nearest (voisinage), plus proche voisin, si tu fais une interpolation bilinéaire, tu risques d’avoir des valeurs entre 0 et 1, genre 0.3, 0.8... ce qui n’a aucun sens pour un masque binaire\n",
    "        self.mask_resize = transforms.Resize(mask_size, interpolation=Image.NEAREST)\n",
    "\n",
    "    def __call__(self, sample):\n",
    "        # Sample est un tuple (image, mask)\n",
    "        image, mask = sample\n",
    "        image = self.image_resize(image)\n",
    "        mask = self.mask_resize(mask)\n",
    "        return image, mask\n",
    "\n",
    "\n",
    "class SepDataset(Dataset):\n",
    "    #  def __init__(self, image_paths, mask_paths, resized_width, resized_height, limit=None):\n",
    "    #limit = nombre limité de couples image/mask\n",
    "    def __init__(self, root_path, resized_width, resized_height,limit=None):\n",
    "        self.root_path = root_path\n",
    "        self.limit = limit\n",
    "        # Liste des chemins des images et des masques\n",
    "        #trier les images et les masques (pour que image <-> mask reste aligné) et en prendre jusqu'à la limite définie\n",
    "        self.images = sorted(\n",
    "            [os.path.join(root_path, \"train_data\", i) \n",
    "             for i in os.listdir(os.path.join(root_path, \"train_data\")) \n",
    "             if i.endswith(\".png\")]\n",
    "        )[:self.limit]\n",
    "        \n",
    "        self.masks = sorted(\n",
    "            [os.path.join(root_path, \"train_seg\", i) \n",
    "             for i in os.listdir(os.path.join(root_path, \"train_seg\")) \n",
    "             if i.endswith(\".png\")]\n",
    "        )[:self.limit]\n",
    "\n",
    "        #définir la taille des images et des masques\n",
    "        self.resized_width = resized_width\n",
    "        self.resized_height = resized_height\n",
    "        # Définir la transformation composée\n",
    "        self.transform = transforms.Compose([\n",
    "             ResizeImageAndMask((resized_width, resized_height), (resized_width, resized_height)),  # Redimensionner l'image et le masque\n",
    " \n",
    "        ])\n",
    "\n",
    "        if self.limit is None:\n",
    "            self.limit = len(self.images)\n",
    "\n",
    "    def __getitem__(self, index):\n",
    "        # Charger l'image et le masque\n",
    "        img = Image.open(self.images[index]).convert(\"L\")\n",
    "        mask = Image.open(self.masks[index]).convert(\"L\") #luminance = noir et blanc\n",
    "\n",
    "        # Appliquer la transformation composée (l'image et le masque doivent être passés comme un tuple)\n",
    "        img, mask = self.transform((img, mask))  # Passer le tuple à la transformation\n",
    "\n",
    "        # Convertir l'image en tenseur\n",
    "        img = transforms.ToTensor()(img)\n",
    "\n",
    "        # Vérifier la valeur maximale de l'image après la conversion en tenseur\n",
    "        if img.max() > 1.0:  # Si l'image est dans la plage [0, 255]\n",
    "            img = img / 255.0  # Normaliser les pixels dans la plage [0, 1]\n",
    "\n",
    "        # Normalisation de l'image entre [-1, 1]\n",
    "        img = (img - 0.5) / 0.5  # Normalisation de l'image\n",
    "\n",
    "        # Convertir le masque en tenseur et binariser\n",
    "        mask = transforms.ToTensor()(mask)  # Convertir le masque en tenseur\n",
    "        mask = (mask > 0).float()  # Binariser le masque (0 ou 1)\n",
    "\n",
    "        # Retourner l'image transformée, le masque transformé et le chemin de l'image\n",
    "        return img, mask, self.images[index]\n",
    "\n",
    "    def __len__(self):\n",
    "        return min(len(self.images), self.limit)\n"
   ]
  },
  {
   "cell_type": "markdown",
   "metadata": {},
   "source": [
    "### <span style=\"color:brown\"> 2.2 - Load Files and Create Datasets\n",
    "\n",
    "The ```SepDataset``` class is responsible for loading and formatting the data. It ensures that:\n",
    "- The **size** of the images and masks (labels) is adjusted to the desired dimensions using resizing transformations.\n",
    "- The **range** of pixel values is normalized:\n",
    "  - **Images:** Normalized to the range [-1, 1] after being scaled to [0, 1].\n",
    "  - **Masks:** Binarized to contain only 0 or 1 values after conversion to tensors.\n",
    "- The **type** of images and masks is compatible with PyTorch:\n",
    "  - Images are converted to `float32` tensors.\n",
    "  - Masks are also converted to `float32` tensors but remain binary.\n",
    "\n",
    "#### Using the Entire Dataset\n",
    "To process the entire dataset, simply **omit the `limit` parameter** when calling the ```SepDataset``` class. If a value is provided for `limit`, only the specified number of samples will be loaded, which can be useful for debugging or testing.\n",
    "\n",
    "```python\n",
    "dataset = SepDataset(root_path=\"D:\\PIR_SEP\\Datasets\\BRAIN_MRI_SLICES\", resized_width=128, resized_height=128, limit=None)\n"
   ]
  },
  {
   "cell_type": "code",
   "execution_count": 11,
   "metadata": {},
   "outputs": [
    {
     "name": "stdout",
     "output_type": "stream",
     "text": [
      "Size dataset : 59\n",
      "Size train_dataset : 48\n",
      "Size test_dataset : 11\n",
      "Size train_dataset : 48\n",
      "Size test_dataset : 6\n",
      "Size val_dataset : 5\n",
      "Size dataset : 60\n",
      "Size train_dataset : 48\n",
      "Size test_dataset : 12\n",
      "Size train_dataset : 48\n",
      "Size test_dataset : 6\n",
      "Size val_dataset : 6\n",
      "Size dataset : 60\n",
      "Size train_dataset : 48\n",
      "Size test_dataset : 12\n",
      "Size train_dataset : 48\n",
      "Size test_dataset : 6\n",
      "Size val_dataset : 6\n",
      "device : cuda\n",
      "num_workers : 3\n"
     ]
    }
   ],
   "source": [
    "from torch.utils.data import Dataset\n",
    "from PIL import Image\n",
    "import os\n",
    "import torchvision.transforms as T\n",
    "\n",
    "width=304   # width of images/masks processed by the network\n",
    "height=752  # height of images/masks processed by the network\n",
    "#print(os.listdir(\"./.\"))\n",
    "\n",
    "root_dir = r\"\\\\ps-home.insa-lyon.fr\\users\\home\\selkhalifi\\Documents\\PIR\\data\"\n",
    "\n",
    "def dataset_axis(root_dir, axis, transform=None):\n",
    "    \"\"\"\n",
    "    root_dir : dossier racine contenant 'axial', 'coronal', 'sagittal'\n",
    "    axis : l'axe à charger\n",
    "    transform : transformations à appliquer aux images et masques\n",
    "    \"\"\"\n",
    "    \n",
    "     # On trouve les images et les masques:\n",
    "    train_dir = os.path.join(root_dir, axis)\n",
    "    train_dataset = SepDataset(train_dir,resized_width=width,resized_height=height)        # Full database\n",
    "    \n",
    "    #Si tu n'utilisais pas de générateur, la division serait différente à chaque exécution du code.\n",
    "    generator = torch.Generator().manual_seed(25)\n",
    "\n",
    "    #diviser le dataset en dataset d'entraînement et de test de manière random avec 0.8 train et 0.2 test en utilisant les générateur\n",
    "    train_dataset, test_dataset = random_split(train_dataset, [0.8, 0.2], generator=generator)\n",
    "    print(\"Size dataset :\",len(train_dataset)+len(test_dataset))\n",
    "    print(\"Size train_dataset :\",len(train_dataset))\n",
    "    print(\"Size test_dataset :\",len(test_dataset))\n",
    "    \n",
    "    #diviser le dataset de test en dataset de test et de validation à 0.5 et 0.5 en utilisant le générateur\n",
    "    test_dataset, val_dataset = random_split(test_dataset, [0.5, 0.5], generator=generator)\n",
    "    print(\"Size train_dataset :\",len(train_dataset))\n",
    "    print(\"Size test_dataset :\", len(test_dataset))\n",
    "    print(\"Size val_dataset :\", len(val_dataset))\n",
    "\n",
    "    return train_dataset, val_dataset, test_dataset\n",
    "\n",
    "# Stocker les données de chaque axe dans un dictionnaire\n",
    "# On stocke les datasets dans un dictionnaire\n",
    "all_datasets = {}\n",
    "for axis in [\"red\", \"green\", \"yellow\"]:\n",
    "    train_set, test_set, val_set = dataset_axis(root_dir, axis)\n",
    "    all_datasets[axis] = {\"train\": train_set, \"test\": test_set, \"val\": val_set}\n",
    "\n",
    "device = \"cuda\" if torch.cuda.is_available() else \"cpu\"\n",
    "if device == \"cuda\":\n",
    "    num_workers = torch.cuda.device_count() * 4 - 1 #L'idée de multiplier par 4 et soustraire 1 est une méthode pour utiliser efficacement les ressources disponibles.\n",
    "#num_workers = 1  # cmu\n",
    "print(\"device :\",device)\n",
    "print(\"num_workers :\",num_workers)\n",
    "\n",
    "LEARNING_RATE = 3e-4 #Le learning rate (taux d'apprentissage) détermine à quel point les poids du modèle doivent être ajustés pendant l'entraînement à chaque itération.\n",
    "BATCH_SIZE = 8  # 1   #  4, 8, 16, 32 Le batch size (taille du lot) détermine combien d'exemples seront traités simultanément dans chaque passage du modèle pendant l'entraînement.\n"
   ]
  },
  {
   "cell_type": "code",
   "execution_count": 12,
   "metadata": {},
   "outputs": [
    {
     "name": "stdout",
     "output_type": "stream",
     "text": [
      "Size dataset : 59\n",
      "Size train_dataset : 48\n",
      "Size test_dataset : 11\n",
      "Size train_dataset : 48\n",
      "Size test_dataset : 6\n",
      "Size val_dataset : 5\n"
     ]
    }
   ],
   "source": [
    "# Charger les datasets pour un axe donné (ex. red)\n",
    "train_dataset, val_dataset, test_dataset = dataset_axis(root_dir, \"red\")\n",
    "\n",
    "#Création des objets DataLoader pour charger les données d'entraînement, de validation et de test dans des mini-lots (batches) pendant l'entraînement de ton modèle.\n",
    "train_dataloader = DataLoader(dataset=train_dataset, batch_size=BATCH_SIZE, shuffle=True) #Cela signifie que les données seront mélangées à chaque époque pour éviter que le modèle apprenne de manière séquentielle et n'intègre pas des biais liés à l'ordre des données.\n",
    "val_dataloader = DataLoader(dataset=val_dataset,batch_size=BATCH_SIZE,shuffle= False) #Les données de validation ne sont pas mélangées. Cela permet de toujours tester le modèle sur les mêmes données à chaque époque pour une évaluation stable.\n",
    "test_dataloader = DataLoader(dataset=test_dataset,batch_size=BATCH_SIZE, shuffle=False) #Comme pour la validation, les données de test ne sont pas mélangées pour garantir une évaluation cohérente."
   ]
  },
  {
   "cell_type": "code",
   "execution_count": 13,
   "metadata": {},
   "outputs": [
    {
     "name": "stdout",
     "output_type": "stream",
     "text": [
      "Image batch shape: torch.Size([6, 1, 304, 752])\n",
      "Mask batch shape: torch.Size([6, 1, 304, 752])\n",
      "Image path: \\\\ps-home.insa-lyon.fr\\users\\home\\selkhalifi\\Documents\\PIR\\data\\red\\train_data\\Patient-59_59-Flair.png\n"
     ]
    }
   ],
   "source": [
    "# Vérification du DataLoader\n",
    "for img, mask, path in  test_dataloader:\n",
    "    print(f'Image batch shape: {img.shape}') #nbre d'images dans le batch, nombre de canaux (3 pour RGB, 1 pour L), hauteur, largeur)\n",
    "    print(f'Mask batch shape: {mask.shape}')\n",
    "    print(f'Image path: {path[0]}')  # Afficher un chemin d'image pour vérifier\n",
    "    break  # Juste pour vérifier une première itération\n"
   ]
  },
  {
   "cell_type": "code",
   "execution_count": 14,
   "metadata": {},
   "outputs": [
    {
     "name": "stdout",
     "output_type": "stream",
     "text": [
      "\n",
      " Axe : RED\n",
      "image.shape : torch.Size([1, 1, 304, 752])\n",
      "label.shape : torch.Size([1, 1, 304, 752])\n",
      "torch.max(label) : tensor(1., device='cuda:0')\n",
      "torch.max(image) : tensor(0.9373, device='cuda:0')\n",
      "\n",
      " Axe : GREEN\n",
      "image.shape : torch.Size([1, 1, 304, 752])\n",
      "label.shape : torch.Size([1, 1, 304, 752])\n",
      "torch.max(label) : tensor(1., device='cuda:0')\n",
      "torch.max(image) : tensor(1., device='cuda:0')\n",
      "\n",
      " Axe : YELLOW\n",
      "image.shape : torch.Size([1, 1, 304, 752])\n",
      "label.shape : torch.Size([1, 1, 304, 752])\n",
      "torch.max(label) : tensor(1., device='cuda:0')\n",
      "torch.max(image) : tensor(0.9216, device='cuda:0')\n"
     ]
    }
   ],
   "source": [
    "for axis in [\"red\", \"green\", \"yellow\"]:\n",
    "    print(f\"\\n Axe : {axis.upper()}\")\n",
    "    \n",
    "    # Récupérer le dataloader de test correspondant\n",
    "    test_dataset = all_datasets[axis][\"test\"]\n",
    "    test_dataloader = DataLoader(test_dataset, batch_size=1, shuffle=False)\n",
    "    \n",
    "    # Créer un itérateur\n",
    "    test_dataloader_iter = iter(test_dataloader)\n",
    "    \n",
    "    # Prendre un batch\n",
    "    batch_data = next(test_dataloader_iter)\n",
    "    image, label = batch_data[0].to(device), batch_data[1].to(device)\n",
    "    \n",
    "    # Afficher infos\n",
    "    print(\"image.shape :\", image.shape)\n",
    "    print(\"label.shape :\", label.shape)\n",
    "    print(\"torch.max(label) :\", torch.max(label))\n",
    "    print(\"torch.max(image) :\", torch.max(image))\n"
   ]
  },
  {
   "cell_type": "code",
   "execution_count": 15,
   "metadata": {},
   "outputs": [
    {
     "data": {
      "image/png": "[encoded data removed]",
      "text/plain": [
       "<Figure size 1200x900 with 18 Axes>"
      ]
     },
     "metadata": {},
     "output_type": "display_data"
    }
   ],
   "source": [
    "import matplotlib.pyplot as plt\n",
    "import numpy as np\n",
    "import torch\n",
    "\n",
    "# 🔍 Affichage\n",
    "figure = plt.figure(figsize=(12, 9))\n",
    "\n",
    "def display_image_and_label(image, label, index, title_prefix):\n",
    "    image = image.detach().cpu().numpy()\n",
    "    label = label.detach().cpu().numpy()\n",
    "    image = np.squeeze(image)\n",
    "    label = np.squeeze(label)\n",
    "    \n",
    "    ax_img = figure.add_subplot(3, 6, index * 2 + 1)\n",
    "    ax_img.imshow(image, cmap=\"gray\")\n",
    "    ax_img.set_title(f\"{title_prefix} Image\")\n",
    "    ax_img.axis(\"off\")\n",
    "    \n",
    "    ax_mask = figure.add_subplot(3, 6, index * 2 + 2)\n",
    "    ax_mask.imshow(label, cmap=\"jet\", alpha=1)\n",
    "    ax_mask.set_title(f\"{title_prefix} Label\")\n",
    "    ax_mask.axis(\"off\")\n",
    "\n",
    "row_index = 0\n",
    "for axis_name, splits in all_datasets.items():\n",
    "    for split_name, dataset in splits.items():\n",
    "        idx = np.random.randint(len(dataset))\n",
    "        sample = dataset[idx]\n",
    "        image = sample[0]\n",
    "        label = sample[1]\n",
    "        display_image_and_label(image, label, row_index, f\"{axis_name.capitalize()} {split_name.capitalize()}\")\n",
    "        row_index += 1\n",
    "\n",
    "plt.tight_layout()\n",
    "plt.show()\n"
   ]
  },
  {
   "cell_type": "markdown",
   "metadata": {},
   "source": [
    "---\n",
    "## <span style=\"color:brown\"> 3. Define the Network [Architecture](http://pytorch.org/docs/stable/nn.html)\n",
    "\n",
    "The U-Net model for binary segmentation takes a batch of input images and processes each image to output **a corresponding probability map**. Each pixel in this map represents the likelihood that the pixel belongs to the target object class. \n",
    "\n",
    "Since we’re performing binary segmentation, the output for each image is a single-channel tensor, where each pixel value ranges between 0 and 1. A value closer to 1 indicates a higher probability that the pixel is part of the target object, while a value closer to 0 suggests background.\n",
    "\n",
    "This approach allows the model to efficiently learn the spatial structure of the objects within the images, providing pixel-wise predictions for accurate segmentation.\n",
    "\n",
    "### <span style=\"color:brown\"> 3.1 Model Architecture Parameters"
   ]
  },
  {
   "cell_type": "code",
   "execution_count": 16,
   "metadata": {},
   "outputs": [],
   "source": [
    "# Model Architecture Parameters\n",
    "input_channels = 1    #e.g. 3 for RGB, 1 for grayscale input images\n",
    "num_classes  = 1      #  e.g. 1 for binary segmentation (background vs object)\n",
    "input_shape = (input_channels, width, height)  # This is the shape of the input image to the network\n",
    "output_shape = (num_classes, width, height)  # This is the shape of the output mask\n",
    "init_channels = 32              # This is the number of channels in the first layer of the network\n",
    "# Nombre de filtres appliqués à l’image dans la 1ère couche\n",
    "#Chaque filtre apprend à détecter quelque chose de différent :\n",
    "#un peut détecter des bords horizontaux,\n",
    "#un autre les coins,\n",
    "#un autre une texture spécifique, etc."
   ]
  },
  {
   "cell_type": "markdown",
   "metadata": {},
   "source": [
    "### <span style=\"color:brown\">3.2 Model Architecture</span>\n",
    "\n",
    "In this section, two distinct model architectures are provided. However, you should only use one model for your task. Please select and activate the corresponding cell below based on your preferred model choice."
   ]
  },
  {
   "cell_type": "markdown",
   "metadata": {},
   "source": [
    "#### <span style=\"color:brown\">Comparison of MONAI's `UNet` and Custom `UNet` Model in PyTorch</span>\n",
    "\n",
    "When working with U-Net architectures for image segmentation, both **MONAI**'s `UNet` and a **custom PyTorch U-Net** can be used. However, they offer different levels of abstraction, flexibility, and usability. Below is a comparison of these two approaches:\n",
    "\n",
    "\n",
    "\n",
    "##### <span style=\"color:brown\">MONAI `UNet` Model</span> (from `monai.networks.nets`)\n",
    "\n",
    "- **Purpose**: MONAI is a framework specifically designed for medical imaging tasks, built on top of PyTorch.\n",
    "  \n",
    "- **Ease of Use**: MONAI provides a high-level interface that simplifies the process of creating U-Net models. It allows users to quickly configure and instantiate a U-Net model by specifying only a few parameters, such as the number of input and output channels, the number of feature channels, and other configuration parameters like the stride and number of residual units.\n",
    "\n",
    "- **Customizability**: While MONAI's `UNet` is highly configurable with parameters like `channels`, `strides`, and `num_res_units`, it hides some of the underlying complexity of U-Net, making it suitable for users who want an easy-to-implement model. \n",
    "\n",
    "- **Key Features**:\n",
    "  - Optimized for 2D and 3D medical image segmentation.\n",
    "  - Predefined configurations for common tasks, reducing setup time.\n",
    "  - Focus on usability for medical AI tasks.\n",
    "\n",
    "\n",
    "##### <span style=\"color:brown\">Custom U-Net Model in PyTorch</span>\n",
    "\n",
    "- **Purpose**: A custom U-Net implementation in PyTorch provides full flexibility, allowing users to define the architecture according to their specific needs. This model can be used for both general and specialized image segmentation tasks, not just medical imaging.\n",
    "\n",
    "- **Flexibility**: The custom implementation allows for fine-grained control over every aspect of the network architecture. You can modify the number of layers, types of layers, normalization methods, upsampling techniques, and more.\n",
    "\n",
    "- **Complexity**: Writing a custom U-Net requires more effort as you must manually define each block (e.g., convolution layers, downsampling, and upsampling). This gives more control over the implementation but increases the amount of code and complexity.\n",
    "\n",
    "- **Customizability**: You can adjust various hyperparameters, such as the type of convolution (`Conv2d` or `ConvTranspose2d`), batch normalization, dropout rates, and even the use of bilinear interpolation or transposed convolutions for upsampling.\n",
    "\n",
    "- **Key Features**:\n",
    "  - Full control over architecture.\n",
    "  - Greater flexibility to modify layer types and network structure.\n",
    "  - Ideal for users who need customization for specific segmentation tasks.\n",
    "\n",
    "\n",
    "\n",
    "##### <span style=\"color:brown\">Comparison Table</span>\n",
    "\n",
    "| **Feature**                        | **MONAI `UNet`**                                  | **Custom PyTorch `UNet`**                      |\n",
    "|------------------------------------|--------------------------------------------------|-----------------------------------------------|\n",
    "| **Ease of Use**                    | High (dedicated for medical image segmentation)   | Low (manual implementation required)          |\n",
    "| **Flexibility**                    | Moderate (configurable parameters)               | High (full control over architecture)         |\n",
    "| **Customizability**                | Low (limited to predefined blocks and parameters) | High (customize every part of the network)     |\n",
    "| **Code Complexity**                | Low (simple instantiation)                       | High (requires manual architecture design)    |\n",
    "| **Intended Use Case**              | Medical imaging segmentation                     | General segmentation tasks                    |\n"
   ]
  },
  {
   "cell_type": "markdown",
   "metadata": {},
   "source": [
    "### <span style=\"color:brown\"> Model Architecture: Custom Unet "
   ]
  },
  {
   "cell_type": "code",
   "execution_count": 17,
   "metadata": {},
   "outputs": [],
   "source": [
    "class UNet(nn.Module):\n",
    "    \"\"\"Architecture based on U-Net: Convolutional Networks for Biomedical Image Segmentation.\n",
    "\n",
    "    References:\n",
    "    - Paper that introduced the U-Net model: https://arxiv.org/abs/1505.04597\n",
    "    \"\"\"\n",
    "\n",
    "    def __init__(\n",
    "        self,\n",
    "        input_shape: Tuple[int, ...],\n",
    "        output_shape: Tuple[int, ...],\n",
    "        init_channels: int = 32,\n",
    "        use_batchnorm: bool = True,\n",
    "        bilinear: bool = False,\n",
    "        dropout: float = 0.0,\n",
    "    ):\n",
    "        \"\"\"Initializes class instance.\n",
    "\n",
    "        Args:\n",
    "            input_shape: (in_channels, H, W), Shape of the input images.\n",
    "            output_shape: (num_classes, H, W), Shape of the output segmentation map.\n",
    "            init_channels: Number of output feature maps from the first layer, used to compute the number of feature\n",
    "                maps in following layers.\n",
    "            use_batchnorm: Whether to use batch normalization between the convolution and activation layers in the\n",
    "                convolutional blocks.\n",
    "            bilinear: Whether to use bilinear interpolation or transposed convolutions for upsampling.\n",
    "            dropout: Probability of an element to be zeroed (e.g. 0 means no dropout).\n",
    "        \"\"\"\n",
    "        super().__init__()\n",
    "        in_channels = input_shape[0]\n",
    "        out_channels = output_shape[0]\n",
    "\n",
    "        self.layer1 = _DoubleConv(in_channels, init_channels // 2, dropout / 2, use_batchnorm)\n",
    "        self.layer2 = _Down(init_channels // 2, init_channels, dropout, use_batchnorm)\n",
    "        self.layer3 = _Down(init_channels, init_channels * 2, dropout, use_batchnorm)\n",
    "        self.layer4 = _Down(init_channels * 2, init_channels * 4, dropout, use_batchnorm)\n",
    "\n",
    "        self.layer5 = _Up(\n",
    "            init_channels * 4, init_channels * 2, dropout, use_batchnorm, bilinear=bilinear\n",
    "        )\n",
    "        self.layer6 = _Up(\n",
    "            init_channels * 2, init_channels, dropout, use_batchnorm, bilinear=bilinear\n",
    "        )\n",
    "        self.layer7 = _Up(init_channels, init_channels // 2, 0, use_batchnorm, bilinear=bilinear)\n",
    "\n",
    "        self.layer9 = nn.Conv2d(init_channels // 2, out_channels, kernel_size=1)\n",
    "\n",
    "        # Use Xavier initialisation for weights\n",
    "        for m in self.modules():\n",
    "            if isinstance(m, nn.Conv2d) or isinstance(m, nn.ConvTranspose2d):\n",
    "                nn.init.xavier_uniform_(m.weight)\n",
    "\n",
    "    def forward(self, x: Tensor) -> Tensor:\n",
    "        \"\"\"Defines the computation performed at every call.\n",
    "\n",
    "        Args:\n",
    "            x: (N, ``in_channels``, H, W), Input image to segment.\n",
    "\n",
    "        Returns:\n",
    "            (N, ``out_channels``, H, W), Raw, unnormalized scores for each class in the input's segmentation.\n",
    "        \"\"\"\n",
    "        x1 = self.layer1(x)\n",
    "        x2 = self.layer2(x1)\n",
    "        x3 = self.layer3(x2)\n",
    "        x4 = self.layer4(x3)\n",
    "\n",
    "        out = self.layer5(x4, x3)\n",
    "        out = self.layer6(out, x2)\n",
    "        out = self.layer7(out, x1)\n",
    "\n",
    "        return self.layer9(out)\n",
    "\n",
    "\n",
    "class _DoubleConv(nn.Module):\n",
    "    \"\"\"Double Convolution and BN and ReLU.\n",
    "\n",
    "    (3x3 conv -> BN -> ReLU) ** 2\n",
    "    \"\"\"\n",
    "\n",
    "    def __init__(self, in_ch: int, out_ch: int, dropout_prob: float, use_batchnorm: bool):\n",
    "        super().__init__()\n",
    "        if use_batchnorm:\n",
    "            self.net = nn.Sequential(\n",
    "                nn.Conv2d(in_ch, out_ch, kernel_size=3, padding=1),\n",
    "                nn.BatchNorm2d(out_ch),\n",
    "                nn.ReLU(inplace=True),\n",
    "                nn.Dropout(p=dropout_prob),\n",
    "                nn.Conv2d(out_ch, out_ch, kernel_size=3, padding=1),\n",
    "                nn.BatchNorm2d(out_ch),\n",
    "                nn.ReLU(inplace=True),\n",
    "                nn.Dropout(p=dropout_prob),\n",
    "            )\n",
    "        else:\n",
    "            self.net = nn.Sequential(\n",
    "                nn.Conv2d(in_ch, out_ch, kernel_size=3, padding=1),\n",
    "                nn.ReLU(inplace=True),\n",
    "                nn.Dropout(p=dropout_prob),\n",
    "                nn.Conv2d(out_ch, out_ch, kernel_size=3, padding=1),\n",
    "                nn.ReLU(inplace=True),\n",
    "                nn.Dropout(p=dropout_prob),\n",
    "            )\n",
    "\n",
    "    def forward(self, x: Tensor) -> Tensor:\n",
    "        return self.net(x)\n",
    "\n",
    "\n",
    "class _Down(nn.Module):\n",
    "    \"\"\"Combination of MaxPool2d and DoubleConv in series.\"\"\"\n",
    "\n",
    "    def __init__(self, in_ch: int, out_ch: int, dropout_prob: float, use_batchnorm: bool):\n",
    "        super().__init__()\n",
    "        self.net = nn.Sequential(\n",
    "            nn.MaxPool2d(kernel_size=2, stride=2),\n",
    "            _DoubleConv(in_ch, out_ch, dropout_prob, use_batchnorm),\n",
    "        )\n",
    "\n",
    "    def forward(self, x: Tensor) -> Tensor:  \n",
    "        return self.net(x)\n",
    "\n",
    "\n",
    "class _Up(nn.Module):\n",
    "    \"\"\"Upsampling (by either bilinear interpolation or transpose convolutions).\n",
    "\n",
    "    followed by concatenation of feature map from contracting path, followed by double 3x3\n",
    "    convolution.\n",
    "    \"\"\"\n",
    "\n",
    "    def __init__(\n",
    "        self, in_ch, out_ch: int, dropout_prob: float, use_batchnorm: bool, bilinear: bool = False\n",
    "    ):\n",
    "        super().__init__()\n",
    "        self.upsample = None\n",
    "        if bilinear:\n",
    "            self.upsample = nn.Upsample(scale_factor=2, mode=\"bilinear\", align_corners=True)\n",
    "        else:\n",
    "            self.upsample = nn.ConvTranspose2d(in_ch, in_ch // 2, kernel_size=2, stride=2)\n",
    "\n",
    "        self.conv = _DoubleConv(in_ch, out_ch, dropout_prob, use_batchnorm)\n",
    "\n",
    "    def forward(self, x: Tensor, connected_encoder_features: Tensor) -> Tensor:\n",
    "        x = self.upsample(x)\n",
    "\n",
    "        # Pad ``x`` to the size of ``connected_encoder_features``\n",
    "        diff_h = connected_encoder_features.shape[2] - x.shape[2]\n",
    "        diff_w = connected_encoder_features.shape[3] - x.shape[3]\n",
    "\n",
    "        x = F.pad(x, [diff_w // 2, diff_w - diff_w // 2, diff_h // 2, diff_h - diff_h // 2])\n",
    "\n",
    "        # Concatenate along the channels axis\n",
    "        x = torch.cat([connected_encoder_features, x], dim=1)\n",
    "\n",
    "        return self.conv(x)\n",
    "\n",
    "\n",
    "# initialize the NN\n",
    "device = torch.device(\"cuda\" if torch.cuda.is_available() else \"cpu\")\n",
    "model = UNet(input_shape=input_shape, output_shape=output_shape, init_channels=init_channels).to(device)"
   ]
  },
  {
   "cell_type": "markdown",
   "metadata": {},
   "source": [
    "### <span style=\"color:brown\"> Function: ```Summary``` </span>\n",
    "\n",
    "The **summary** function provides a detailed overview of the model. Pay close attention to the following key information:\n",
    "\n",
    "- **Number of parameters**: This indicates the total number of learnable parameters in the model, which can give you insight into its complexity.\n",
    "- **Total model size**: This refers to the overall size of the model in memory, which is important for assessing its computational requirements and suitability for deployment.\n",
    "\n",
    "Understanding these details can help you evaluate the efficiency and scalability of the model."
   ]
  },
  {
   "cell_type": "code",
   "execution_count": 18,
   "metadata": {},
   "outputs": [
    {
     "data": {
      "text/plain": [
       "=================================================================================================================================================\n",
       "Layer (type:depth-idx)                        Input Shape               Output Shape              Kernel Shape              Param #\n",
       "=================================================================================================================================================\n",
       "UNet                                          [8, 1, 304, 752]          [8, 1, 304, 752]          --                        --\n",
       "├─_DoubleConv: 1-1                            [8, 1, 304, 752]          [8, 16, 304, 752]         --                        --\n",
       "│    └─Sequential: 2-1                        [8, 1, 304, 752]          [8, 16, 304, 752]         --                        --\n",
       "│    │    └─Conv2d: 3-1                       [8, 1, 304, 752]          [8, 16, 304, 752]         [3, 3]                    160\n",
       "│    │    └─BatchNorm2d: 3-2                  [8, 16, 304, 752]         [8, 16, 304, 752]         --                        32\n",
       "│    │    └─ReLU: 3-3                         [8, 16, 304, 752]         [8, 16, 304, 752]         --                        --\n",
       "│    │    └─Dropout: 3-4                      [8, 16, 304, 752]         [8, 16, 304, 752]         --                        --\n",
       "│    │    └─Conv2d: 3-5                       [8, 16, 304, 752]         [8, 16, 304, 752]         [3, 3]                    2,320\n",
       "│    │    └─BatchNorm2d: 3-6                  [8, 16, 304, 752]         [8, 16, 304, 752]         --                        32\n",
       "│    │    └─ReLU: 3-7                         [8, 16, 304, 752]         [8, 16, 304, 752]         --                        --\n",
       "│    │    └─Dropout: 3-8                      [8, 16, 304, 752]         [8, 16, 304, 752]         --                        --\n",
       "├─_Down: 1-2                                  [8, 16, 304, 752]         [8, 32, 152, 376]         --                        --\n",
       "│    └─Sequential: 2-2                        [8, 16, 304, 752]         [8, 32, 152, 376]         --                        --\n",
       "│    │    └─MaxPool2d: 3-9                    [8, 16, 304, 752]         [8, 16, 152, 376]         2                         --\n",
       "│    │    └─_DoubleConv: 3-10                 [8, 16, 152, 376]         [8, 32, 152, 376]         --                        --\n",
       "│    │    │    └─Sequential: 4-1              [8, 16, 152, 376]         [8, 32, 152, 376]         --                        --\n",
       "│    │    │    │    └─Conv2d: 5-1             [8, 16, 152, 376]         [8, 32, 152, 376]         [3, 3]                    4,640\n",
       "│    │    │    │    └─BatchNorm2d: 5-2        [8, 32, 152, 376]         [8, 32, 152, 376]         --                        64\n",
       "│    │    │    │    └─ReLU: 5-3               [8, 32, 152, 376]         [8, 32, 152, 376]         --                        --\n",
       "│    │    │    │    └─Dropout: 5-4            [8, 32, 152, 376]         [8, 32, 152, 376]         --                        --\n",
       "│    │    │    │    └─Conv2d: 5-5             [8, 32, 152, 376]         [8, 32, 152, 376]         [3, 3]                    9,248\n",
       "│    │    │    │    └─BatchNorm2d: 5-6        [8, 32, 152, 376]         [8, 32, 152, 376]         --                        64\n",
       "│    │    │    │    └─ReLU: 5-7               [8, 32, 152, 376]         [8, 32, 152, 376]         --                        --\n",
       "│    │    │    │    └─Dropout: 5-8            [8, 32, 152, 376]         [8, 32, 152, 376]         --                        --\n",
       "├─_Down: 1-3                                  [8, 32, 152, 376]         [8, 64, 76, 188]          --                        --\n",
       "│    └─Sequential: 2-3                        [8, 32, 152, 376]         [8, 64, 76, 188]          --                        --\n",
       "│    │    └─MaxPool2d: 3-11                   [8, 32, 152, 376]         [8, 32, 76, 188]          2                         --\n",
       "│    │    └─_DoubleConv: 3-12                 [8, 32, 76, 188]          [8, 64, 76, 188]          --                        --\n",
       "│    │    │    └─Sequential: 4-2              [8, 32, 76, 188]          [8, 64, 76, 188]          --                        --\n",
       "│    │    │    │    └─Conv2d: 5-9             [8, 32, 76, 188]          [8, 64, 76, 188]          [3, 3]                    18,496\n",
       "│    │    │    │    └─BatchNorm2d: 5-10       [8, 64, 76, 188]          [8, 64, 76, 188]          --                        128\n",
       "│    │    │    │    └─ReLU: 5-11              [8, 64, 76, 188]          [8, 64, 76, 188]          --                        --\n",
       "│    │    │    │    └─Dropout: 5-12           [8, 64, 76, 188]          [8, 64, 76, 188]          --                        --\n",
       "│    │    │    │    └─Conv2d: 5-13            [8, 64, 76, 188]          [8, 64, 76, 188]          [3, 3]                    36,928\n",
       "│    │    │    │    └─BatchNorm2d: 5-14       [8, 64, 76, 188]          [8, 64, 76, 188]          --                        128\n",
       "│    │    │    │    └─ReLU: 5-15              [8, 64, 76, 188]          [8, 64, 76, 188]          --                        --\n",
       "│    │    │    │    └─Dropout: 5-16           [8, 64, 76, 188]          [8, 64, 76, 188]          --                        --\n",
       "├─_Down: 1-4                                  [8, 64, 76, 188]          [8, 128, 38, 94]          --                        --\n",
       "│    └─Sequential: 2-4                        [8, 64, 76, 188]          [8, 128, 38, 94]          --                        --\n",
       "│    │    └─MaxPool2d: 3-13                   [8, 64, 76, 188]          [8, 64, 38, 94]           2                         --\n",
       "│    │    └─_DoubleConv: 3-14                 [8, 64, 38, 94]           [8, 128, 38, 94]          --                        --\n",
       "│    │    │    └─Sequential: 4-3              [8, 64, 38, 94]           [8, 128, 38, 94]          --                        --\n",
       "│    │    │    │    └─Conv2d: 5-17            [8, 64, 38, 94]           [8, 128, 38, 94]          [3, 3]                    73,856\n",
       "│    │    │    │    └─BatchNorm2d: 5-18       [8, 128, 38, 94]          [8, 128, 38, 94]          --                        256\n",
       "│    │    │    │    └─ReLU: 5-19              [8, 128, 38, 94]          [8, 128, 38, 94]          --                        --\n",
       "│    │    │    │    └─Dropout: 5-20           [8, 128, 38, 94]          [8, 128, 38, 94]          --                        --\n",
       "│    │    │    │    └─Conv2d: 5-21            [8, 128, 38, 94]          [8, 128, 38, 94]          [3, 3]                    147,584\n",
       "│    │    │    │    └─BatchNorm2d: 5-22       [8, 128, 38, 94]          [8, 128, 38, 94]          --                        256\n",
       "│    │    │    │    └─ReLU: 5-23              [8, 128, 38, 94]          [8, 128, 38, 94]          --                        --\n",
       "│    │    │    │    └─Dropout: 5-24           [8, 128, 38, 94]          [8, 128, 38, 94]          --                        --\n",
       "├─_Up: 1-5                                    [8, 128, 38, 94]          [8, 64, 76, 188]          --                        --\n",
       "│    └─ConvTranspose2d: 2-5                   [8, 128, 38, 94]          [8, 64, 76, 188]          [2, 2]                    32,832\n",
       "│    └─_DoubleConv: 2-6                       [8, 128, 76, 188]         [8, 64, 76, 188]          --                        --\n",
       "│    │    └─Sequential: 3-15                  [8, 128, 76, 188]         [8, 64, 76, 188]          --                        --\n",
       "│    │    │    └─Conv2d: 4-4                  [8, 128, 76, 188]         [8, 64, 76, 188]          [3, 3]                    73,792\n",
       "│    │    │    └─BatchNorm2d: 4-5             [8, 64, 76, 188]          [8, 64, 76, 188]          --                        128\n",
       "│    │    │    └─ReLU: 4-6                    [8, 64, 76, 188]          [8, 64, 76, 188]          --                        --\n",
       "│    │    │    └─Dropout: 4-7                 [8, 64, 76, 188]          [8, 64, 76, 188]          --                        --\n",
       "│    │    │    └─Conv2d: 4-8                  [8, 64, 76, 188]          [8, 64, 76, 188]          [3, 3]                    36,928\n",
       "│    │    │    └─BatchNorm2d: 4-9             [8, 64, 76, 188]          [8, 64, 76, 188]          --                        128\n",
       "│    │    │    └─ReLU: 4-10                   [8, 64, 76, 188]          [8, 64, 76, 188]          --                        --\n",
       "│    │    │    └─Dropout: 4-11                [8, 64, 76, 188]          [8, 64, 76, 188]          --                        --\n",
       "├─_Up: 1-6                                    [8, 64, 76, 188]          [8, 32, 152, 376]         --                        --\n",
       "│    └─ConvTranspose2d: 2-7                   [8, 64, 76, 188]          [8, 32, 152, 376]         [2, 2]                    8,224\n",
       "│    └─_DoubleConv: 2-8                       [8, 64, 152, 376]         [8, 32, 152, 376]         --                        --\n",
       "│    │    └─Sequential: 3-16                  [8, 64, 152, 376]         [8, 32, 152, 376]         --                        --\n",
       "│    │    │    └─Conv2d: 4-12                 [8, 64, 152, 376]         [8, 32, 152, 376]         [3, 3]                    18,464\n",
       "│    │    │    └─BatchNorm2d: 4-13            [8, 32, 152, 376]         [8, 32, 152, 376]         --                        64\n",
       "│    │    │    └─ReLU: 4-14                   [8, 32, 152, 376]         [8, 32, 152, 376]         --                        --\n",
       "│    │    │    └─Dropout: 4-15                [8, 32, 152, 376]         [8, 32, 152, 376]         --                        --\n",
       "│    │    │    └─Conv2d: 4-16                 [8, 32, 152, 376]         [8, 32, 152, 376]         [3, 3]                    9,248\n",
       "│    │    │    └─BatchNorm2d: 4-17            [8, 32, 152, 376]         [8, 32, 152, 376]         --                        64\n",
       "│    │    │    └─ReLU: 4-18                   [8, 32, 152, 376]         [8, 32, 152, 376]         --                        --\n",
       "│    │    │    └─Dropout: 4-19                [8, 32, 152, 376]         [8, 32, 152, 376]         --                        --\n",
       "├─_Up: 1-7                                    [8, 32, 152, 376]         [8, 16, 304, 752]         --                        --\n",
       "│    └─ConvTranspose2d: 2-9                   [8, 32, 152, 376]         [8, 16, 304, 752]         [2, 2]                    2,064\n",
       "│    └─_DoubleConv: 2-10                      [8, 32, 304, 752]         [8, 16, 304, 752]         --                        --\n",
       "│    │    └─Sequential: 3-17                  [8, 32, 304, 752]         [8, 16, 304, 752]         --                        --\n",
       "│    │    │    └─Conv2d: 4-20                 [8, 32, 304, 752]         [8, 16, 304, 752]         [3, 3]                    4,624\n",
       "│    │    │    └─BatchNorm2d: 4-21            [8, 16, 304, 752]         [8, 16, 304, 752]         --                        32\n",
       "│    │    │    └─ReLU: 4-22                   [8, 16, 304, 752]         [8, 16, 304, 752]         --                        --\n",
       "│    │    │    └─Dropout: 4-23                [8, 16, 304, 752]         [8, 16, 304, 752]         --                        --\n",
       "│    │    │    └─Conv2d: 4-24                 [8, 16, 304, 752]         [8, 16, 304, 752]         [3, 3]                    2,320\n",
       "│    │    │    └─BatchNorm2d: 4-25            [8, 16, 304, 752]         [8, 16, 304, 752]         --                        32\n",
       "│    │    │    └─ReLU: 4-26                   [8, 16, 304, 752]         [8, 16, 304, 752]         --                        --\n",
       "│    │    │    └─Dropout: 4-27                [8, 16, 304, 752]         [8, 16, 304, 752]         --                        --\n",
       "├─Conv2d: 1-8                                 [8, 16, 304, 752]         [8, 1, 304, 752]          [1, 1]                    17\n",
       "=================================================================================================================================================\n",
       "Total params: 483,153\n",
       "Trainable params: 483,153\n",
       "Non-trainable params: 0\n",
       "Total mult-adds (Units.GIGABYTES): 72.89\n",
       "=================================================================================================================================================\n",
       "Input size (MB): 7.32\n",
       "Forward/backward pass size (MB): 3818.67\n",
       "Params size (MB): 1.93\n",
       "Estimated Total Size (MB): 3827.92\n",
       "================================================================================================================================================="
      ]
     },
     "execution_count": 18,
     "metadata": {},
     "output_type": "execute_result"
    }
   ],
   "source": [
    "# Print the summary of the network\n",
    "#summary_kwargs:\tUn dictionnaire de paramètres pour summary()\n",
    "summary_kwargs = dict(\n",
    "    col_names=[\"input_size\", \"output_size\", \"kernel_size\", \"num_params\"], depth=5, verbose=0\n",
    ")\n",
    "#verbose=0\tN’affiche pas les entrées/sorties des modules très petits ou inutiles (plus clean)\n",
    "#summary(model, input_size = (32,3, 64, 64),  device=device, **summary_kwargs)\n",
    "summary(model, input_size = (BATCH_SIZE,1, width, height),  device=device, **summary_kwargs)\n",
    "#**summary_kwargs: Tu le \"déplies\" pour passer chaque clé/valeur comme un argument à la fonction"
   ]
  },
  {
   "cell_type": "code",
   "execution_count": 19,
   "metadata": {},
   "outputs": [
    {
     "data": {
      "text/plain": [
       "=================================================================================================================================================\n",
       "Layer (type:depth-idx)                        Input Shape               Output Shape              Kernel Shape              Param #\n",
       "=================================================================================================================================================\n",
       "UNet                                          [8, 1, 304, 752]          [8, 1, 304, 752]          --                        --\n",
       "├─_DoubleConv: 1-1                            [8, 1, 304, 752]          [8, 16, 304, 752]         --                        --\n",
       "│    └─Sequential: 2-1                        [8, 1, 304, 752]          [8, 16, 304, 752]         --                        2,544\n",
       "├─_Down: 1-2                                  [8, 16, 304, 752]         [8, 32, 152, 376]         --                        --\n",
       "│    └─Sequential: 2-2                        [8, 16, 304, 752]         [8, 32, 152, 376]         --                        14,016\n",
       "├─_Down: 1-3                                  [8, 32, 152, 376]         [8, 64, 76, 188]          --                        --\n",
       "│    └─Sequential: 2-3                        [8, 32, 152, 376]         [8, 64, 76, 188]          --                        55,680\n",
       "├─_Down: 1-4                                  [8, 64, 76, 188]          [8, 128, 38, 94]          --                        --\n",
       "│    └─Sequential: 2-4                        [8, 64, 76, 188]          [8, 128, 38, 94]          --                        221,952\n",
       "├─_Up: 1-5                                    [8, 128, 38, 94]          [8, 64, 76, 188]          --                        --\n",
       "│    └─ConvTranspose2d: 2-5                   [8, 128, 38, 94]          [8, 64, 76, 188]          [2, 2]                    32,832\n",
       "│    └─_DoubleConv: 2-6                       [8, 128, 76, 188]         [8, 64, 76, 188]          --                        110,976\n",
       "├─_Up: 1-6                                    [8, 64, 76, 188]          [8, 32, 152, 376]         --                        --\n",
       "│    └─ConvTranspose2d: 2-7                   [8, 64, 76, 188]          [8, 32, 152, 376]         [2, 2]                    8,224\n",
       "│    └─_DoubleConv: 2-8                       [8, 64, 152, 376]         [8, 32, 152, 376]         --                        27,840\n",
       "├─_Up: 1-7                                    [8, 32, 152, 376]         [8, 16, 304, 752]         --                        --\n",
       "│    └─ConvTranspose2d: 2-9                   [8, 32, 152, 376]         [8, 16, 304, 752]         [2, 2]                    2,064\n",
       "│    └─_DoubleConv: 2-10                      [8, 32, 304, 752]         [8, 16, 304, 752]         --                        7,008\n",
       "├─Conv2d: 1-8                                 [8, 16, 304, 752]         [8, 1, 304, 752]          [1, 1]                    17\n",
       "=================================================================================================================================================\n",
       "Total params: 483,153\n",
       "Trainable params: 483,153\n",
       "Non-trainable params: 0\n",
       "Total mult-adds (Units.GIGABYTES): 72.89\n",
       "=================================================================================================================================================\n",
       "Input size (MB): 7.32\n",
       "Forward/backward pass size (MB): 3818.67\n",
       "Params size (MB): 1.93\n",
       "Estimated Total Size (MB): 3827.92\n",
       "================================================================================================================================================="
      ]
     },
     "execution_count": 19,
     "metadata": {},
     "output_type": "execute_result"
    }
   ],
   "source": [
    "# Print the summary of the network\n",
    "summary_kwargs = dict(\n",
    "    col_names=[\"input_size\", \"output_size\", \"kernel_size\", \"num_params\"], depth=2, verbose=0\n",
    ")\n",
    "#summary(model, input_size = (32,3, 64, 64),  device=device, **summary_kwargs)\n",
    "summary(model, input_size = (BATCH_SIZE,1, width, height),  device=device, **summary_kwargs)   "
   ]
  },
  {
   "cell_type": "markdown",
   "metadata": {},
   "source": [
    "\n",
    "## 4. Specify [Loss Function](http://pytorch.org/docs/stable/nn.html#loss-functions) and [Optimizer](http://pytorch.org/docs/stable/optim.html)\n",
    "\n",
    "It's recommended that you use `BCEWithLogitsLoss`. \n",
    "\n",
    "`BCEWithLogitsLoss` combines **sigmoid activation** and **Binary Cross-Entropy (BCE) loss** into a single function. It is used when the **model's outputs** are raw logits (values before applying a sigmoid activation to convert them into probabilities).\n",
    "\n",
    "`BCELoss` stands for **Binary Cross-Entropy Loss**. It is used when the model's output is already in the form of **probabilities** (values between 0 and 1).\n",
    "\n",
    "\n",
    "- **`BCEWithLogitsLoss`**:\n",
    "  - Accepts **logits** (raw model outputs).\n",
    "  - Automatically applies the sigmoid function internally.\n",
    "  - More **numerically stable** because sigmoid and BCE are combined into one operation.\n",
    "\n",
    "- **`BCELoss`**:\n",
    "  - Accepts **probabilities** (values between 0 and 1).\n",
    "  - Requires **manual application of the sigmoid function** in the model’s output.\n"
   ]
  },
  {
   "cell_type": "code",
   "execution_count": 20,
   "metadata": {},
   "outputs": [],
   "source": [
    "## Specify loss and optimization functions\n",
    "\n",
    "# Parameters\n",
    "learning_rate = 0.001\n",
    "n_epochs = 100 # 5 # 20\n",
    "\n",
    "# specify loss function\n",
    "#criterion = DiceLoss()\n",
    "\n",
    "criterion = nn.BCEWithLogitsLoss()\n",
    "# specify optimizer\n",
    "#optimizer = torch.optim.Adam(model.parameters(), lr=learning_rate)\n",
    "optimizer = torch.optim.AdamW(model.parameters(), lr=LEARNING_RATE)\n",
    "#optimizer = torch.optim.SGD(model.parameters(), lr=LEARNING_RATE)"
   ]
  },
  {
   "cell_type": "markdown",
   "metadata": {},
   "source": [
    "---\n",
    "## <span style=\"color:brown\"> 4. Train the Network\n",
    "\n",
    "The steps for training/learning from a batch of data are described in the comments below:\n",
    "1. Clear the gradients of all optimized variables\n",
    "2. Forward pass: compute predicted outputs by passing inputs to the model\n",
    "3. Calculate the loss\n",
    "4. Backward pass: compute gradient of the loss with respect to model parameters\n",
    "5. Perform a single optimization step (parameter update)\n",
    "6. Update average training loss\n",
    "\n",
    "The following loop trains for 3 epochs; feel free to change this number. For now, we suggest somewhere between 20-50 epochs. As you train, take a look at how the values for the training loss decrease over time. We want it to decrease while also avoiding overfitting the training data. "
   ]
  },
  {
   "cell_type": "markdown",
   "metadata": {},
   "source": [
    "### <span style=\"color:brown\"> 4.1 Training loop"
   ]
  },
  {
   "cell_type": "code",
   "execution_count": 23,
   "metadata": {},
   "outputs": [
    {
     "name": "stdout",
     "output_type": "stream",
     "text": [
      "\n",
      "🔁 Entraînement pour l'axe : RED\n"
     ]
    },
    {
     "name": "stderr",
     "output_type": "stream",
     "text": [
      "Training RED:   1%|▏                       | 1/100 [00:05<08:50,  5.36s/it]"
     ]
    },
    {
     "name": "stdout",
     "output_type": "stream",
     "text": [
      "[RED][Epoch 1/100] Train Loss: 0.4949 | Val Loss: 0.8071\n"
     ]
    },
    {
     "name": "stderr",
     "output_type": "stream",
     "text": [
      "Training RED:   2%|▍                       | 2/100 [00:09<07:16,  4.45s/it]"
     ]
    },
    {
     "name": "stdout",
     "output_type": "stream",
     "text": [
      "[RED][Epoch 2/100] Train Loss: 0.3818 | Val Loss: 0.7146\n"
     ]
    },
    {
     "name": "stderr",
     "output_type": "stream",
     "text": [
      "Training RED:   3%|▋                       | 3/100 [00:13<06:46,  4.19s/it]"
     ]
    },
    {
     "name": "stdout",
     "output_type": "stream",
     "text": [
      "[RED][Epoch 3/100] Train Loss: 0.3328 | Val Loss: 0.5636\n"
     ]
    },
    {
     "name": "stderr",
     "output_type": "stream",
     "text": [
      "Training RED:   4%|▉                       | 4/100 [00:17<06:33,  4.10s/it]"
     ]
    },
    {
     "name": "stdout",
     "output_type": "stream",
     "text": [
      "[RED][Epoch 4/100] Train Loss: 0.3021 | Val Loss: 0.4121\n"
     ]
    },
    {
     "name": "stderr",
     "output_type": "stream",
     "text": [
      "Training RED:   5%|█▏                      | 5/100 [00:21<06:45,  4.27s/it]"
     ]
    },
    {
     "name": "stdout",
     "output_type": "stream",
     "text": [
      "[RED][Epoch 5/100] Train Loss: 0.2812 | Val Loss: 0.3343\n"
     ]
    },
    {
     "name": "stderr",
     "output_type": "stream",
     "text": [
      "Training RED:   6%|█▍                      | 6/100 [00:25<06:32,  4.17s/it]"
     ]
    },
    {
     "name": "stdout",
     "output_type": "stream",
     "text": [
      "[RED][Epoch 6/100] Train Loss: 0.2637 | Val Loss: 0.2988\n"
     ]
    },
    {
     "name": "stderr",
     "output_type": "stream",
     "text": [
      "Training RED:   7%|█▋                      | 7/100 [00:29<06:20,  4.09s/it]"
     ]
    },
    {
     "name": "stdout",
     "output_type": "stream",
     "text": [
      "[RED][Epoch 7/100] Train Loss: 0.2480 | Val Loss: 0.2725\n"
     ]
    },
    {
     "name": "stderr",
     "output_type": "stream",
     "text": [
      "Training RED:   8%|█▉                      | 8/100 [00:33<06:10,  4.03s/it]"
     ]
    },
    {
     "name": "stdout",
     "output_type": "stream",
     "text": [
      "[RED][Epoch 8/100] Train Loss: 0.2348 | Val Loss: 0.2536\n"
     ]
    },
    {
     "name": "stderr",
     "output_type": "stream",
     "text": [
      "Training RED:   9%|██▏                     | 9/100 [00:37<06:03,  3.99s/it]"
     ]
    },
    {
     "name": "stdout",
     "output_type": "stream",
     "text": [
      "[RED][Epoch 9/100] Train Loss: 0.2229 | Val Loss: 0.2387\n"
     ]
    },
    {
     "name": "stderr",
     "output_type": "stream",
     "text": [
      "Training RED:  10%|██▎                    | 10/100 [00:41<06:06,  4.07s/it]"
     ]
    },
    {
     "name": "stdout",
     "output_type": "stream",
     "text": [
      "[RED][Epoch 10/100] Train Loss: 0.2127 | Val Loss: 0.2221\n"
     ]
    },
    {
     "name": "stderr",
     "output_type": "stream",
     "text": [
      "Training RED:  11%|██▌                    | 11/100 [00:45<06:02,  4.07s/it]"
     ]
    },
    {
     "name": "stdout",
     "output_type": "stream",
     "text": [
      "[RED][Epoch 11/100] Train Loss: 0.2047 | Val Loss: 0.2090\n"
     ]
    },
    {
     "name": "stderr",
     "output_type": "stream",
     "text": [
      "Training RED:  12%|██▊                    | 12/100 [00:49<05:55,  4.04s/it]"
     ]
    },
    {
     "name": "stdout",
     "output_type": "stream",
     "text": [
      "[RED][Epoch 12/100] Train Loss: 0.1967 | Val Loss: 0.2009\n"
     ]
    },
    {
     "name": "stderr",
     "output_type": "stream",
     "text": [
      "Training RED:  13%|██▉                    | 13/100 [00:53<05:51,  4.04s/it]"
     ]
    },
    {
     "name": "stdout",
     "output_type": "stream",
     "text": [
      "[RED][Epoch 13/100] Train Loss: 0.1898 | Val Loss: 0.1909\n"
     ]
    },
    {
     "name": "stderr",
     "output_type": "stream",
     "text": [
      "Training RED:  14%|███▏                   | 14/100 [00:57<05:45,  4.02s/it]"
     ]
    },
    {
     "name": "stdout",
     "output_type": "stream",
     "text": [
      "[RED][Epoch 14/100] Train Loss: 0.1838 | Val Loss: 0.1859\n"
     ]
    },
    {
     "name": "stderr",
     "output_type": "stream",
     "text": [
      "Training RED:  15%|███▍                   | 15/100 [01:01<05:39,  3.99s/it]"
     ]
    },
    {
     "name": "stdout",
     "output_type": "stream",
     "text": [
      "[RED][Epoch 15/100] Train Loss: 0.1778 | Val Loss: 0.1795\n"
     ]
    },
    {
     "name": "stderr",
     "output_type": "stream",
     "text": [
      "Training RED:  16%|███▋                   | 16/100 [01:05<05:33,  3.97s/it]"
     ]
    },
    {
     "name": "stdout",
     "output_type": "stream",
     "text": [
      "[RED][Epoch 16/100] Train Loss: 0.1730 | Val Loss: 0.1751\n"
     ]
    },
    {
     "name": "stderr",
     "output_type": "stream",
     "text": [
      "Training RED:  17%|███▉                   | 17/100 [01:09<05:28,  3.96s/it]"
     ]
    },
    {
     "name": "stdout",
     "output_type": "stream",
     "text": [
      "[RED][Epoch 17/100] Train Loss: 0.1683 | Val Loss: 0.1718\n"
     ]
    },
    {
     "name": "stderr",
     "output_type": "stream",
     "text": [
      "Training RED:  18%|████▏                  | 18/100 [01:13<05:24,  3.96s/it]"
     ]
    },
    {
     "name": "stdout",
     "output_type": "stream",
     "text": [
      "[RED][Epoch 18/100] Train Loss: 0.1644 | Val Loss: 0.1660\n"
     ]
    },
    {
     "name": "stderr",
     "output_type": "stream",
     "text": [
      "Training RED:  19%|████▎                  | 19/100 [01:17<05:22,  3.98s/it]"
     ]
    },
    {
     "name": "stdout",
     "output_type": "stream",
     "text": [
      "[RED][Epoch 19/100] Train Loss: 0.1600 | Val Loss: 0.1620\n"
     ]
    },
    {
     "name": "stderr",
     "output_type": "stream",
     "text": [
      "Training RED:  20%|████▌                  | 20/100 [01:21<05:19,  4.00s/it]"
     ]
    },
    {
     "name": "stdout",
     "output_type": "stream",
     "text": [
      "[RED][Epoch 20/100] Train Loss: 0.1564 | Val Loss: 0.1588\n"
     ]
    },
    {
     "name": "stderr",
     "output_type": "stream",
     "text": [
      "Training RED:  21%|████▊                  | 21/100 [01:25<05:22,  4.08s/it]"
     ]
    },
    {
     "name": "stdout",
     "output_type": "stream",
     "text": [
      "[RED][Epoch 21/100] Train Loss: 0.1531 | Val Loss: 0.1543\n"
     ]
    },
    {
     "name": "stderr",
     "output_type": "stream",
     "text": [
      "Training RED:  22%|█████                  | 22/100 [01:30<05:24,  4.16s/it]"
     ]
    },
    {
     "name": "stdout",
     "output_type": "stream",
     "text": [
      "[RED][Epoch 22/100] Train Loss: 0.1501 | Val Loss: 0.1509\n"
     ]
    },
    {
     "name": "stderr",
     "output_type": "stream",
     "text": [
      "Training RED:  23%|█████▎                 | 23/100 [01:33<05:15,  4.09s/it]"
     ]
    },
    {
     "name": "stdout",
     "output_type": "stream",
     "text": [
      "[RED][Epoch 23/100] Train Loss: 0.1473 | Val Loss: 0.1485\n"
     ]
    },
    {
     "name": "stderr",
     "output_type": "stream",
     "text": [
      "Training RED:  24%|█████▌                 | 24/100 [01:37<05:08,  4.05s/it]"
     ]
    },
    {
     "name": "stdout",
     "output_type": "stream",
     "text": [
      "[RED][Epoch 24/100] Train Loss: 0.1449 | Val Loss: 0.1450\n"
     ]
    },
    {
     "name": "stderr",
     "output_type": "stream",
     "text": [
      "Training RED:  25%|█████▊                 | 25/100 [01:41<05:02,  4.04s/it]"
     ]
    },
    {
     "name": "stdout",
     "output_type": "stream",
     "text": [
      "[RED][Epoch 25/100] Train Loss: 0.1414 | Val Loss: 0.1421\n"
     ]
    },
    {
     "name": "stderr",
     "output_type": "stream",
     "text": [
      "Training RED:  26%|█████▉                 | 26/100 [01:45<04:57,  4.02s/it]"
     ]
    },
    {
     "name": "stdout",
     "output_type": "stream",
     "text": [
      "[RED][Epoch 26/100] Train Loss: 0.1389 | Val Loss: 0.1398\n"
     ]
    },
    {
     "name": "stderr",
     "output_type": "stream",
     "text": [
      "Training RED:  27%|██████▏                | 27/100 [01:49<04:53,  4.02s/it]"
     ]
    },
    {
     "name": "stdout",
     "output_type": "stream",
     "text": [
      "[RED][Epoch 27/100] Train Loss: 0.1364 | Val Loss: 0.1361\n"
     ]
    },
    {
     "name": "stderr",
     "output_type": "stream",
     "text": [
      "Training RED:  28%|██████▍                | 28/100 [01:54<04:50,  4.04s/it]"
     ]
    },
    {
     "name": "stdout",
     "output_type": "stream",
     "text": [
      "[RED][Epoch 28/100] Train Loss: 0.1341 | Val Loss: 0.1340\n"
     ]
    },
    {
     "name": "stderr",
     "output_type": "stream",
     "text": [
      "Training RED:  29%|██████▋                | 29/100 [01:57<04:44,  4.01s/it]"
     ]
    },
    {
     "name": "stdout",
     "output_type": "stream",
     "text": [
      "[RED][Epoch 29/100] Train Loss: 0.1322 | Val Loss: 0.1314\n"
     ]
    },
    {
     "name": "stderr",
     "output_type": "stream",
     "text": [
      "Training RED:  30%|██████▉                | 30/100 [02:01<04:39,  3.99s/it]"
     ]
    },
    {
     "name": "stdout",
     "output_type": "stream",
     "text": [
      "[RED][Epoch 30/100] Train Loss: 0.1301 | Val Loss: 0.1286\n"
     ]
    },
    {
     "name": "stderr",
     "output_type": "stream",
     "text": [
      "Training RED:  31%|███████▏               | 31/100 [02:05<04:35,  3.99s/it]"
     ]
    },
    {
     "name": "stdout",
     "output_type": "stream",
     "text": [
      "[RED][Epoch 31/100] Train Loss: 0.1275 | Val Loss: 0.1269\n"
     ]
    },
    {
     "name": "stderr",
     "output_type": "stream",
     "text": [
      "Training RED:  32%|███████▎               | 32/100 [02:09<04:30,  3.98s/it]"
     ]
    },
    {
     "name": "stdout",
     "output_type": "stream",
     "text": [
      "[RED][Epoch 32/100] Train Loss: 0.1256 | Val Loss: 0.1248\n"
     ]
    },
    {
     "name": "stderr",
     "output_type": "stream",
     "text": [
      "Training RED:  33%|███████▌               | 33/100 [02:13<04:27,  4.00s/it]"
     ]
    },
    {
     "name": "stdout",
     "output_type": "stream",
     "text": [
      "[RED][Epoch 33/100] Train Loss: 0.1235 | Val Loss: 0.1228\n"
     ]
    },
    {
     "name": "stderr",
     "output_type": "stream",
     "text": [
      "Training RED:  34%|███████▊               | 34/100 [02:17<04:24,  4.01s/it]"
     ]
    },
    {
     "name": "stdout",
     "output_type": "stream",
     "text": [
      "[RED][Epoch 34/100] Train Loss: 0.1214 | Val Loss: 0.1206\n"
     ]
    },
    {
     "name": "stderr",
     "output_type": "stream",
     "text": [
      "Training RED:  35%|████████               | 35/100 [02:21<04:21,  4.02s/it]"
     ]
    },
    {
     "name": "stdout",
     "output_type": "stream",
     "text": [
      "[RED][Epoch 35/100] Train Loss: 0.1200 | Val Loss: 0.1190\n"
     ]
    },
    {
     "name": "stderr",
     "output_type": "stream",
     "text": [
      "Training RED:  36%|████████▎              | 36/100 [02:26<04:20,  4.07s/it]"
     ]
    },
    {
     "name": "stdout",
     "output_type": "stream",
     "text": [
      "[RED][Epoch 36/100] Train Loss: 0.1176 | Val Loss: 0.1173\n"
     ]
    },
    {
     "name": "stderr",
     "output_type": "stream",
     "text": [
      "Training RED:  37%|████████▌              | 37/100 [02:30<04:15,  4.06s/it]"
     ]
    },
    {
     "name": "stdout",
     "output_type": "stream",
     "text": [
      "[RED][Epoch 37/100] Train Loss: 0.1157 | Val Loss: 0.1151\n"
     ]
    },
    {
     "name": "stderr",
     "output_type": "stream",
     "text": [
      "Training RED:  38%|████████▋              | 38/100 [02:34<04:10,  4.04s/it]"
     ]
    },
    {
     "name": "stdout",
     "output_type": "stream",
     "text": [
      "[RED][Epoch 38/100] Train Loss: 0.1145 | Val Loss: 0.1126\n"
     ]
    },
    {
     "name": "stderr",
     "output_type": "stream",
     "text": [
      "Training RED:  39%|████████▉              | 39/100 [02:38<04:07,  4.05s/it]"
     ]
    },
    {
     "name": "stdout",
     "output_type": "stream",
     "text": [
      "[RED][Epoch 39/100] Train Loss: 0.1125 | Val Loss: 0.1117\n"
     ]
    },
    {
     "name": "stderr",
     "output_type": "stream",
     "text": [
      "Training RED:  40%|█████████▏             | 40/100 [02:42<04:03,  4.05s/it]"
     ]
    },
    {
     "name": "stdout",
     "output_type": "stream",
     "text": [
      "[RED][Epoch 40/100] Train Loss: 0.1108 | Val Loss: 0.1088\n"
     ]
    },
    {
     "name": "stderr",
     "output_type": "stream",
     "text": [
      "Training RED:  41%|█████████▍             | 41/100 [02:46<03:58,  4.04s/it]"
     ]
    },
    {
     "name": "stdout",
     "output_type": "stream",
     "text": [
      "[RED][Epoch 41/100] Train Loss: 0.1093 | Val Loss: 0.1071\n"
     ]
    },
    {
     "name": "stderr",
     "output_type": "stream",
     "text": [
      "Training RED:  42%|█████████▋             | 42/100 [02:50<03:55,  4.05s/it]"
     ]
    },
    {
     "name": "stdout",
     "output_type": "stream",
     "text": [
      "[RED][Epoch 42/100] Train Loss: 0.1079 | Val Loss: 0.1084\n"
     ]
    },
    {
     "name": "stderr",
     "output_type": "stream",
     "text": [
      "Training RED:  43%|█████████▉             | 43/100 [02:54<03:52,  4.08s/it]"
     ]
    },
    {
     "name": "stdout",
     "output_type": "stream",
     "text": [
      "[RED][Epoch 43/100] Train Loss: 0.1059 | Val Loss: 0.1066\n"
     ]
    },
    {
     "name": "stderr",
     "output_type": "stream",
     "text": [
      "Training RED:  44%|██████████             | 44/100 [02:58<03:50,  4.12s/it]"
     ]
    },
    {
     "name": "stdout",
     "output_type": "stream",
     "text": [
      "[RED][Epoch 44/100] Train Loss: 0.1041 | Val Loss: 0.1032\n"
     ]
    },
    {
     "name": "stderr",
     "output_type": "stream",
     "text": [
      "Training RED:  45%|██████████▎            | 45/100 [03:02<03:46,  4.13s/it]"
     ]
    },
    {
     "name": "stdout",
     "output_type": "stream",
     "text": [
      "[RED][Epoch 45/100] Train Loss: 0.1025 | Val Loss: 0.1002\n"
     ]
    },
    {
     "name": "stderr",
     "output_type": "stream",
     "text": [
      "Training RED:  46%|██████████▌            | 46/100 [03:07<03:42,  4.13s/it]"
     ]
    },
    {
     "name": "stdout",
     "output_type": "stream",
     "text": [
      "[RED][Epoch 46/100] Train Loss: 0.1009 | Val Loss: 0.0988\n"
     ]
    },
    {
     "name": "stderr",
     "output_type": "stream",
     "text": [
      "Training RED:  47%|██████████▊            | 47/100 [03:11<03:37,  4.10s/it]"
     ]
    },
    {
     "name": "stdout",
     "output_type": "stream",
     "text": [
      "[RED][Epoch 47/100] Train Loss: 0.0991 | Val Loss: 0.0962\n"
     ]
    },
    {
     "name": "stderr",
     "output_type": "stream",
     "text": [
      "Training RED:  48%|███████████            | 48/100 [03:15<03:33,  4.11s/it]"
     ]
    },
    {
     "name": "stdout",
     "output_type": "stream",
     "text": [
      "[RED][Epoch 48/100] Train Loss: 0.0979 | Val Loss: 0.0968\n"
     ]
    },
    {
     "name": "stderr",
     "output_type": "stream",
     "text": [
      "Training RED:  49%|███████████▎           | 49/100 [03:19<03:31,  4.14s/it]"
     ]
    },
    {
     "name": "stdout",
     "output_type": "stream",
     "text": [
      "[RED][Epoch 49/100] Train Loss: 0.0962 | Val Loss: 0.0938\n"
     ]
    },
    {
     "name": "stderr",
     "output_type": "stream",
     "text": [
      "Training RED:  50%|███████████▌           | 50/100 [03:23<03:26,  4.13s/it]"
     ]
    },
    {
     "name": "stdout",
     "output_type": "stream",
     "text": [
      "[RED][Epoch 50/100] Train Loss: 0.0949 | Val Loss: 0.0936\n"
     ]
    },
    {
     "name": "stderr",
     "output_type": "stream",
     "text": [
      "Training RED:  51%|███████████▋           | 51/100 [03:27<03:22,  4.13s/it]"
     ]
    },
    {
     "name": "stdout",
     "output_type": "stream",
     "text": [
      "[RED][Epoch 51/100] Train Loss: 0.0938 | Val Loss: 0.0915\n"
     ]
    },
    {
     "name": "stderr",
     "output_type": "stream",
     "text": [
      "Training RED:  52%|███████████▉           | 52/100 [03:31<03:17,  4.10s/it]"
     ]
    },
    {
     "name": "stdout",
     "output_type": "stream",
     "text": [
      "[RED][Epoch 52/100] Train Loss: 0.0924 | Val Loss: 0.0929\n"
     ]
    },
    {
     "name": "stderr",
     "output_type": "stream",
     "text": [
      "Training RED:  53%|████████████▏          | 53/100 [03:35<03:12,  4.09s/it]"
     ]
    },
    {
     "name": "stdout",
     "output_type": "stream",
     "text": [
      "[RED][Epoch 53/100] Train Loss: 0.0905 | Val Loss: 0.0896\n"
     ]
    },
    {
     "name": "stderr",
     "output_type": "stream",
     "text": [
      "Training RED:  54%|████████████▍          | 54/100 [03:39<03:07,  4.08s/it]"
     ]
    },
    {
     "name": "stdout",
     "output_type": "stream",
     "text": [
      "[RED][Epoch 54/100] Train Loss: 0.0892 | Val Loss: 0.0868\n"
     ]
    },
    {
     "name": "stderr",
     "output_type": "stream",
     "text": [
      "Training RED:  55%|████████████▋          | 55/100 [03:43<03:04,  4.10s/it]"
     ]
    },
    {
     "name": "stdout",
     "output_type": "stream",
     "text": [
      "[RED][Epoch 55/100] Train Loss: 0.0879 | Val Loss: 0.0862\n"
     ]
    },
    {
     "name": "stderr",
     "output_type": "stream",
     "text": [
      "Training RED:  56%|████████████▉          | 56/100 [03:48<03:00,  4.10s/it]"
     ]
    },
    {
     "name": "stdout",
     "output_type": "stream",
     "text": [
      "[RED][Epoch 56/100] Train Loss: 0.0869 | Val Loss: 0.0890\n"
     ]
    },
    {
     "name": "stderr",
     "output_type": "stream",
     "text": [
      "Training RED:  57%|█████████████          | 57/100 [03:52<02:56,  4.10s/it]"
     ]
    },
    {
     "name": "stdout",
     "output_type": "stream",
     "text": [
      "[RED][Epoch 57/100] Train Loss: 0.0857 | Val Loss: 0.0890\n"
     ]
    },
    {
     "name": "stderr",
     "output_type": "stream",
     "text": [
      "Training RED:  58%|█████████████▎         | 58/100 [03:56<02:52,  4.11s/it]"
     ]
    },
    {
     "name": "stdout",
     "output_type": "stream",
     "text": [
      "[RED][Epoch 58/100] Train Loss: 0.0844 | Val Loss: 0.0826\n"
     ]
    },
    {
     "name": "stderr",
     "output_type": "stream",
     "text": [
      "Training RED:  59%|█████████████▌         | 59/100 [04:00<02:48,  4.12s/it]"
     ]
    },
    {
     "name": "stdout",
     "output_type": "stream",
     "text": [
      "[RED][Epoch 59/100] Train Loss: 0.0833 | Val Loss: 0.0837\n"
     ]
    },
    {
     "name": "stderr",
     "output_type": "stream",
     "text": [
      "Training RED:  60%|█████████████▊         | 60/100 [04:04<02:45,  4.13s/it]"
     ]
    },
    {
     "name": "stdout",
     "output_type": "stream",
     "text": [
      "[RED][Epoch 60/100] Train Loss: 0.0820 | Val Loss: 0.0822\n"
     ]
    },
    {
     "name": "stderr",
     "output_type": "stream",
     "text": [
      "Training RED:  61%|██████████████         | 61/100 [04:08<02:40,  4.13s/it]"
     ]
    },
    {
     "name": "stdout",
     "output_type": "stream",
     "text": [
      "[RED][Epoch 61/100] Train Loss: 0.0809 | Val Loss: 0.0834\n"
     ]
    },
    {
     "name": "stderr",
     "output_type": "stream",
     "text": [
      "Training RED:  62%|██████████████▎        | 62/100 [04:12<02:37,  4.13s/it]"
     ]
    },
    {
     "name": "stdout",
     "output_type": "stream",
     "text": [
      "[RED][Epoch 62/100] Train Loss: 0.0797 | Val Loss: 0.0822\n"
     ]
    },
    {
     "name": "stderr",
     "output_type": "stream",
     "text": [
      "Training RED:  63%|██████████████▍        | 63/100 [04:16<02:32,  4.12s/it]"
     ]
    },
    {
     "name": "stdout",
     "output_type": "stream",
     "text": [
      "[RED][Epoch 63/100] Train Loss: 0.0784 | Val Loss: 0.0787\n"
     ]
    },
    {
     "name": "stderr",
     "output_type": "stream",
     "text": [
      "Training RED:  64%|██████████████▋        | 64/100 [04:21<02:27,  4.11s/it]"
     ]
    },
    {
     "name": "stdout",
     "output_type": "stream",
     "text": [
      "[RED][Epoch 64/100] Train Loss: 0.0778 | Val Loss: 0.0771\n"
     ]
    },
    {
     "name": "stderr",
     "output_type": "stream",
     "text": [
      "Training RED:  65%|██████████████▉        | 65/100 [04:25<02:24,  4.13s/it]"
     ]
    },
    {
     "name": "stdout",
     "output_type": "stream",
     "text": [
      "[RED][Epoch 65/100] Train Loss: 0.0767 | Val Loss: 0.0761\n"
     ]
    },
    {
     "name": "stderr",
     "output_type": "stream",
     "text": [
      "Training RED:  66%|███████████████▏       | 66/100 [04:29<02:21,  4.15s/it]"
     ]
    },
    {
     "name": "stdout",
     "output_type": "stream",
     "text": [
      "[RED][Epoch 66/100] Train Loss: 0.0754 | Val Loss: 0.0775\n"
     ]
    },
    {
     "name": "stderr",
     "output_type": "stream",
     "text": [
      "Training RED:  67%|███████████████▍       | 67/100 [04:33<02:16,  4.14s/it]"
     ]
    },
    {
     "name": "stdout",
     "output_type": "stream",
     "text": [
      "[RED][Epoch 67/100] Train Loss: 0.0746 | Val Loss: 0.0769\n"
     ]
    },
    {
     "name": "stderr",
     "output_type": "stream",
     "text": [
      "Training RED:  68%|███████████████▋       | 68/100 [04:37<02:12,  4.15s/it]"
     ]
    },
    {
     "name": "stdout",
     "output_type": "stream",
     "text": [
      "[RED][Epoch 68/100] Train Loss: 0.0735 | Val Loss: 0.0769\n"
     ]
    },
    {
     "name": "stderr",
     "output_type": "stream",
     "text": [
      "Training RED:  69%|███████████████▊       | 69/100 [04:41<02:08,  4.16s/it]"
     ]
    },
    {
     "name": "stdout",
     "output_type": "stream",
     "text": [
      "[RED][Epoch 69/100] Train Loss: 0.0724 | Val Loss: 0.0715\n"
     ]
    },
    {
     "name": "stderr",
     "output_type": "stream",
     "text": [
      "Training RED:  70%|████████████████       | 70/100 [04:46<02:05,  4.17s/it]"
     ]
    },
    {
     "name": "stdout",
     "output_type": "stream",
     "text": [
      "[RED][Epoch 70/100] Train Loss: 0.0716 | Val Loss: 0.0708\n"
     ]
    },
    {
     "name": "stderr",
     "output_type": "stream",
     "text": [
      "Training RED:  71%|████████████████▎      | 71/100 [04:50<02:00,  4.15s/it]"
     ]
    },
    {
     "name": "stdout",
     "output_type": "stream",
     "text": [
      "[RED][Epoch 71/100] Train Loss: 0.0705 | Val Loss: 0.0708\n"
     ]
    },
    {
     "name": "stderr",
     "output_type": "stream",
     "text": [
      "Training RED:  72%|████████████████▌      | 72/100 [04:54<01:56,  4.16s/it]"
     ]
    },
    {
     "name": "stdout",
     "output_type": "stream",
     "text": [
      "[RED][Epoch 72/100] Train Loss: 0.0693 | Val Loss: 0.0713\n"
     ]
    },
    {
     "name": "stderr",
     "output_type": "stream",
     "text": [
      "Training RED:  73%|████████████████▊      | 73/100 [04:58<01:51,  4.13s/it]"
     ]
    },
    {
     "name": "stdout",
     "output_type": "stream",
     "text": [
      "[RED][Epoch 73/100] Train Loss: 0.0688 | Val Loss: 0.0685\n"
     ]
    },
    {
     "name": "stderr",
     "output_type": "stream",
     "text": [
      "Training RED:  74%|█████████████████      | 74/100 [05:02<01:47,  4.15s/it]"
     ]
    },
    {
     "name": "stdout",
     "output_type": "stream",
     "text": [
      "[RED][Epoch 74/100] Train Loss: 0.0676 | Val Loss: 0.0667\n"
     ]
    },
    {
     "name": "stderr",
     "output_type": "stream",
     "text": [
      "Training RED:  75%|█████████████████▎     | 75/100 [05:06<01:44,  4.18s/it]"
     ]
    },
    {
     "name": "stdout",
     "output_type": "stream",
     "text": [
      "[RED][Epoch 75/100] Train Loss: 0.0669 | Val Loss: 0.0924\n"
     ]
    },
    {
     "name": "stderr",
     "output_type": "stream",
     "text": [
      "Training RED:  76%|█████████████████▍     | 76/100 [05:10<01:39,  4.15s/it]"
     ]
    },
    {
     "name": "stdout",
     "output_type": "stream",
     "text": [
      "[RED][Epoch 76/100] Train Loss: 0.0660 | Val Loss: 0.0726\n"
     ]
    },
    {
     "name": "stderr",
     "output_type": "stream",
     "text": [
      "Training RED:  77%|█████████████████▋     | 77/100 [05:15<01:35,  4.14s/it]"
     ]
    },
    {
     "name": "stdout",
     "output_type": "stream",
     "text": [
      "[RED][Epoch 77/100] Train Loss: 0.0654 | Val Loss: 0.0664\n"
     ]
    },
    {
     "name": "stderr",
     "output_type": "stream",
     "text": [
      "Training RED:  78%|█████████████████▉     | 78/100 [05:19<01:31,  4.14s/it]"
     ]
    },
    {
     "name": "stdout",
     "output_type": "stream",
     "text": [
      "[RED][Epoch 78/100] Train Loss: 0.0643 | Val Loss: 0.0651\n"
     ]
    },
    {
     "name": "stderr",
     "output_type": "stream",
     "text": [
      "Training RED:  79%|██████████████████▏    | 79/100 [05:23<01:26,  4.14s/it]"
     ]
    },
    {
     "name": "stdout",
     "output_type": "stream",
     "text": [
      "[RED][Epoch 79/100] Train Loss: 0.0641 | Val Loss: 0.0652\n"
     ]
    },
    {
     "name": "stderr",
     "output_type": "stream",
     "text": [
      "Training RED:  80%|██████████████████▍    | 80/100 [05:27<01:22,  4.14s/it]"
     ]
    },
    {
     "name": "stdout",
     "output_type": "stream",
     "text": [
      "[RED][Epoch 80/100] Train Loss: 0.0633 | Val Loss: 0.0659\n"
     ]
    },
    {
     "name": "stderr",
     "output_type": "stream",
     "text": [
      "Training RED:  81%|██████████████████▋    | 81/100 [05:31<01:18,  4.15s/it]"
     ]
    },
    {
     "name": "stdout",
     "output_type": "stream",
     "text": [
      "[RED][Epoch 81/100] Train Loss: 0.0627 | Val Loss: 0.0644\n"
     ]
    },
    {
     "name": "stderr",
     "output_type": "stream",
     "text": [
      "Training RED:  82%|██████████████████▊    | 82/100 [05:35<01:14,  4.15s/it]"
     ]
    },
    {
     "name": "stdout",
     "output_type": "stream",
     "text": [
      "[RED][Epoch 82/100] Train Loss: 0.0619 | Val Loss: 0.0655\n"
     ]
    },
    {
     "name": "stderr",
     "output_type": "stream",
     "text": [
      "Training RED:  83%|███████████████████    | 83/100 [05:40<01:10,  4.17s/it]"
     ]
    },
    {
     "name": "stdout",
     "output_type": "stream",
     "text": [
      "[RED][Epoch 83/100] Train Loss: 0.0613 | Val Loss: 0.0644\n"
     ]
    },
    {
     "name": "stderr",
     "output_type": "stream",
     "text": [
      "Training RED:  84%|███████████████████▎   | 84/100 [05:44<01:06,  4.18s/it]"
     ]
    },
    {
     "name": "stdout",
     "output_type": "stream",
     "text": [
      "[RED][Epoch 84/100] Train Loss: 0.0604 | Val Loss: 0.0629\n"
     ]
    },
    {
     "name": "stderr",
     "output_type": "stream",
     "text": [
      "Training RED:  85%|███████████████████▌   | 85/100 [05:48<01:02,  4.20s/it]"
     ]
    },
    {
     "name": "stdout",
     "output_type": "stream",
     "text": [
      "[RED][Epoch 85/100] Train Loss: 0.0595 | Val Loss: 0.0598\n"
     ]
    },
    {
     "name": "stderr",
     "output_type": "stream",
     "text": [
      "Training RED:  86%|███████████████████▊   | 86/100 [05:52<00:59,  4.23s/it]"
     ]
    },
    {
     "name": "stdout",
     "output_type": "stream",
     "text": [
      "[RED][Epoch 86/100] Train Loss: 0.0585 | Val Loss: 0.0603\n"
     ]
    },
    {
     "name": "stderr",
     "output_type": "stream",
     "text": [
      "Training RED:  87%|████████████████████   | 87/100 [05:57<00:55,  4.24s/it]"
     ]
    },
    {
     "name": "stdout",
     "output_type": "stream",
     "text": [
      "[RED][Epoch 87/100] Train Loss: 0.0578 | Val Loss: 0.0601\n"
     ]
    },
    {
     "name": "stderr",
     "output_type": "stream",
     "text": [
      "Training RED:  88%|████████████████████▏  | 88/100 [06:01<00:50,  4.23s/it]"
     ]
    },
    {
     "name": "stdout",
     "output_type": "stream",
     "text": [
      "[RED][Epoch 88/100] Train Loss: 0.0569 | Val Loss: 0.0594\n"
     ]
    },
    {
     "name": "stderr",
     "output_type": "stream",
     "text": [
      "Training RED:  89%|████████████████████▍  | 89/100 [06:05<00:46,  4.20s/it]"
     ]
    },
    {
     "name": "stdout",
     "output_type": "stream",
     "text": [
      "[RED][Epoch 89/100] Train Loss: 0.0563 | Val Loss: 0.0577\n"
     ]
    },
    {
     "name": "stderr",
     "output_type": "stream",
     "text": [
      "Training RED:  90%|████████████████████▋  | 90/100 [06:09<00:41,  4.19s/it]"
     ]
    },
    {
     "name": "stdout",
     "output_type": "stream",
     "text": [
      "[RED][Epoch 90/100] Train Loss: 0.0554 | Val Loss: 0.0585\n"
     ]
    },
    {
     "name": "stderr",
     "output_type": "stream",
     "text": [
      "Training RED:  91%|████████████████████▉  | 91/100 [06:13<00:37,  4.18s/it]"
     ]
    },
    {
     "name": "stdout",
     "output_type": "stream",
     "text": [
      "[RED][Epoch 91/100] Train Loss: 0.0551 | Val Loss: 0.0593\n"
     ]
    },
    {
     "name": "stderr",
     "output_type": "stream",
     "text": [
      "Training RED:  92%|█████████████████████▏ | 92/100 [06:17<00:33,  4.22s/it]"
     ]
    },
    {
     "name": "stdout",
     "output_type": "stream",
     "text": [
      "[RED][Epoch 92/100] Train Loss: 0.0546 | Val Loss: 0.0556\n"
     ]
    },
    {
     "name": "stderr",
     "output_type": "stream",
     "text": [
      "Training RED:  93%|█████████████████████▍ | 93/100 [06:22<00:29,  4.21s/it]"
     ]
    },
    {
     "name": "stdout",
     "output_type": "stream",
     "text": [
      "[RED][Epoch 93/100] Train Loss: 0.0537 | Val Loss: 0.0556\n"
     ]
    },
    {
     "name": "stderr",
     "output_type": "stream",
     "text": [
      "Training RED:  94%|█████████████████████▌ | 94/100 [06:26<00:25,  4.19s/it]"
     ]
    },
    {
     "name": "stdout",
     "output_type": "stream",
     "text": [
      "[RED][Epoch 94/100] Train Loss: 0.0533 | Val Loss: 0.0577\n"
     ]
    },
    {
     "name": "stderr",
     "output_type": "stream",
     "text": [
      "Training RED:  95%|█████████████████████▊ | 95/100 [06:30<00:20,  4.18s/it]"
     ]
    },
    {
     "name": "stdout",
     "output_type": "stream",
     "text": [
      "[RED][Epoch 95/100] Train Loss: 0.0521 | Val Loss: 0.0550\n"
     ]
    },
    {
     "name": "stderr",
     "output_type": "stream",
     "text": [
      "Training RED:  96%|██████████████████████ | 96/100 [06:34<00:16,  4.16s/it]"
     ]
    },
    {
     "name": "stdout",
     "output_type": "stream",
     "text": [
      "[RED][Epoch 96/100] Train Loss: 0.0518 | Val Loss: 0.0545\n"
     ]
    },
    {
     "name": "stderr",
     "output_type": "stream",
     "text": [
      "Training RED:  97%|██████████████████████▎| 97/100 [06:38<00:12,  4.15s/it]"
     ]
    },
    {
     "name": "stdout",
     "output_type": "stream",
     "text": [
      "[RED][Epoch 97/100] Train Loss: 0.0513 | Val Loss: 0.0569\n"
     ]
    },
    {
     "name": "stderr",
     "output_type": "stream",
     "text": [
      "Training RED:  98%|██████████████████████▌| 98/100 [06:42<00:08,  4.16s/it]"
     ]
    },
    {
     "name": "stdout",
     "output_type": "stream",
     "text": [
      "[RED][Epoch 98/100] Train Loss: 0.0505 | Val Loss: 0.0530\n"
     ]
    },
    {
     "name": "stderr",
     "output_type": "stream",
     "text": [
      "Training RED:  99%|██████████████████████▊| 99/100 [06:47<00:04,  4.22s/it]"
     ]
    },
    {
     "name": "stdout",
     "output_type": "stream",
     "text": [
      "[RED][Epoch 99/100] Train Loss: 0.0502 | Val Loss: 0.0533\n"
     ]
    },
    {
     "name": "stderr",
     "output_type": "stream",
     "text": [
      "Training RED: 100%|██████████████████████| 100/100 [06:51<00:00,  4.11s/it]\n"
     ]
    },
    {
     "name": "stdout",
     "output_type": "stream",
     "text": [
      "[RED][Epoch 100/100] Train Loss: 0.0497 | Val Loss: 0.0574\n",
      "✔️ Meilleur modèle RED sauvegardé — Epoch 98, Train Loss: 0.0505, Val Loss: 0.0530\n",
      "\n",
      "🔁 Entraînement pour l'axe : GREEN\n"
     ]
    },
    {
     "name": "stderr",
     "output_type": "stream",
     "text": [
      "Training GREEN:   1%|▏                     | 1/100 [00:05<08:53,  5.39s/it]"
     ]
    },
    {
     "name": "stdout",
     "output_type": "stream",
     "text": [
      "[GREEN][Epoch 1/100] Train Loss: 0.5379 | Val Loss: 0.5777\n"
     ]
    },
    {
     "name": "stderr",
     "output_type": "stream",
     "text": [
      "Training GREEN:   2%|▍                     | 2/100 [00:09<07:24,  4.54s/it]"
     ]
    },
    {
     "name": "stdout",
     "output_type": "stream",
     "text": [
      "[GREEN][Epoch 2/100] Train Loss: 0.4927 | Val Loss: 0.5382\n"
     ]
    },
    {
     "name": "stderr",
     "output_type": "stream",
     "text": [
      "Training GREEN:   3%|▋                     | 3/100 [00:13<07:03,  4.37s/it]"
     ]
    },
    {
     "name": "stdout",
     "output_type": "stream",
     "text": [
      "[GREEN][Epoch 3/100] Train Loss: 0.4601 | Val Loss: 0.5347\n"
     ]
    },
    {
     "name": "stderr",
     "output_type": "stream",
     "text": [
      "Training GREEN:   4%|▉                     | 4/100 [00:17<06:58,  4.36s/it]"
     ]
    },
    {
     "name": "stdout",
     "output_type": "stream",
     "text": [
      "[GREEN][Epoch 4/100] Train Loss: 0.4299 | Val Loss: 0.5591\n"
     ]
    },
    {
     "name": "stderr",
     "output_type": "stream",
     "text": [
      "Training GREEN:   5%|█                     | 5/100 [00:21<06:41,  4.23s/it]"
     ]
    },
    {
     "name": "stdout",
     "output_type": "stream",
     "text": [
      "[GREEN][Epoch 5/100] Train Loss: 0.4016 | Val Loss: 0.5923\n"
     ]
    },
    {
     "name": "stderr",
     "output_type": "stream",
     "text": [
      "Training GREEN:   6%|█▎                    | 6/100 [00:25<06:34,  4.19s/it]"
     ]
    },
    {
     "name": "stdout",
     "output_type": "stream",
     "text": [
      "[GREEN][Epoch 6/100] Train Loss: 0.3780 | Val Loss: 0.6330\n"
     ]
    },
    {
     "name": "stderr",
     "output_type": "stream",
     "text": [
      "Training GREEN:   7%|█▌                    | 7/100 [00:29<06:23,  4.12s/it]"
     ]
    },
    {
     "name": "stdout",
     "output_type": "stream",
     "text": [
      "[GREEN][Epoch 7/100] Train Loss: 0.3582 | Val Loss: 0.6574\n"
     ]
    },
    {
     "name": "stderr",
     "output_type": "stream",
     "text": [
      "Training GREEN:   8%|█▊                    | 8/100 [00:33<06:14,  4.07s/it]"
     ]
    },
    {
     "name": "stdout",
     "output_type": "stream",
     "text": [
      "[GREEN][Epoch 8/100] Train Loss: 0.3411 | Val Loss: 0.6536\n"
     ]
    },
    {
     "name": "stderr",
     "output_type": "stream",
     "text": [
      "Training GREEN:   9%|█▉                    | 9/100 [00:38<06:12,  4.10s/it]"
     ]
    },
    {
     "name": "stdout",
     "output_type": "stream",
     "text": [
      "[GREEN][Epoch 9/100] Train Loss: 0.3269 | Val Loss: 0.6439\n"
     ]
    },
    {
     "name": "stderr",
     "output_type": "stream",
     "text": [
      "Training GREEN:  10%|██                   | 10/100 [00:42<06:06,  4.07s/it]"
     ]
    },
    {
     "name": "stdout",
     "output_type": "stream",
     "text": [
      "[GREEN][Epoch 10/100] Train Loss: 0.3159 | Val Loss: 0.6029\n"
     ]
    },
    {
     "name": "stderr",
     "output_type": "stream",
     "text": [
      "Training GREEN:  11%|██▎                  | 11/100 [00:46<05:59,  4.04s/it]"
     ]
    },
    {
     "name": "stdout",
     "output_type": "stream",
     "text": [
      "[GREEN][Epoch 11/100] Train Loss: 0.3050 | Val Loss: 0.5896\n"
     ]
    },
    {
     "name": "stderr",
     "output_type": "stream",
     "text": [
      "Training GREEN:  12%|██▌                  | 12/100 [00:50<05:54,  4.02s/it]"
     ]
    },
    {
     "name": "stdout",
     "output_type": "stream",
     "text": [
      "[GREEN][Epoch 12/100] Train Loss: 0.2972 | Val Loss: 0.5733\n"
     ]
    },
    {
     "name": "stderr",
     "output_type": "stream",
     "text": [
      "Training GREEN:  13%|██▋                  | 13/100 [00:54<05:49,  4.02s/it]"
     ]
    },
    {
     "name": "stdout",
     "output_type": "stream",
     "text": [
      "[GREEN][Epoch 13/100] Train Loss: 0.2865 | Val Loss: 0.5554\n"
     ]
    },
    {
     "name": "stderr",
     "output_type": "stream",
     "text": [
      "Training GREEN:  14%|██▉                  | 14/100 [00:58<05:45,  4.02s/it]"
     ]
    },
    {
     "name": "stdout",
     "output_type": "stream",
     "text": [
      "[GREEN][Epoch 14/100] Train Loss: 0.2773 | Val Loss: 0.5357\n"
     ]
    },
    {
     "name": "stderr",
     "output_type": "stream",
     "text": [
      "Training GREEN:  15%|███▏                 | 15/100 [01:02<05:39,  4.00s/it]"
     ]
    },
    {
     "name": "stdout",
     "output_type": "stream",
     "text": [
      "[GREEN][Epoch 15/100] Train Loss: 0.2684 | Val Loss: 0.3986\n"
     ]
    },
    {
     "name": "stderr",
     "output_type": "stream",
     "text": [
      "Training GREEN:  16%|███▎                 | 16/100 [01:06<05:36,  4.01s/it]"
     ]
    },
    {
     "name": "stdout",
     "output_type": "stream",
     "text": [
      "[GREEN][Epoch 16/100] Train Loss: 0.2587 | Val Loss: 0.3539\n"
     ]
    },
    {
     "name": "stderr",
     "output_type": "stream",
     "text": [
      "Training GREEN:  17%|███▌                 | 17/100 [01:10<05:32,  4.01s/it]"
     ]
    },
    {
     "name": "stdout",
     "output_type": "stream",
     "text": [
      "[GREEN][Epoch 17/100] Train Loss: 0.2490 | Val Loss: 0.2821\n"
     ]
    },
    {
     "name": "stderr",
     "output_type": "stream",
     "text": [
      "Training GREEN:  18%|███▊                 | 18/100 [01:14<05:30,  4.03s/it]"
     ]
    },
    {
     "name": "stdout",
     "output_type": "stream",
     "text": [
      "[GREEN][Epoch 18/100] Train Loss: 0.2405 | Val Loss: 0.2886\n"
     ]
    },
    {
     "name": "stderr",
     "output_type": "stream",
     "text": [
      "Training GREEN:  19%|███▉                 | 19/100 [01:18<05:27,  4.04s/it]"
     ]
    },
    {
     "name": "stdout",
     "output_type": "stream",
     "text": [
      "[GREEN][Epoch 19/100] Train Loss: 0.2326 | Val Loss: 0.2663\n"
     ]
    },
    {
     "name": "stderr",
     "output_type": "stream",
     "text": [
      "Training GREEN:  20%|████▏                | 20/100 [01:22<05:23,  4.05s/it]"
     ]
    },
    {
     "name": "stdout",
     "output_type": "stream",
     "text": [
      "[GREEN][Epoch 20/100] Train Loss: 0.2252 | Val Loss: 0.2467\n"
     ]
    },
    {
     "name": "stderr",
     "output_type": "stream",
     "text": [
      "Training GREEN:  21%|████▍                | 21/100 [01:26<05:20,  4.05s/it]"
     ]
    },
    {
     "name": "stdout",
     "output_type": "stream",
     "text": [
      "[GREEN][Epoch 21/100] Train Loss: 0.2198 | Val Loss: 0.2564\n"
     ]
    },
    {
     "name": "stderr",
     "output_type": "stream",
     "text": [
      "Training GREEN:  22%|████▌                | 22/100 [01:30<05:16,  4.05s/it]"
     ]
    },
    {
     "name": "stdout",
     "output_type": "stream",
     "text": [
      "[GREEN][Epoch 22/100] Train Loss: 0.2154 | Val Loss: 0.2662\n"
     ]
    },
    {
     "name": "stderr",
     "output_type": "stream",
     "text": [
      "Training GREEN:  23%|████▊                | 23/100 [01:34<05:11,  4.04s/it]"
     ]
    },
    {
     "name": "stdout",
     "output_type": "stream",
     "text": [
      "[GREEN][Epoch 23/100] Train Loss: 0.2106 | Val Loss: 0.2597\n"
     ]
    },
    {
     "name": "stderr",
     "output_type": "stream",
     "text": [
      "Training GREEN:  24%|█████                | 24/100 [01:38<05:07,  4.05s/it]"
     ]
    },
    {
     "name": "stdout",
     "output_type": "stream",
     "text": [
      "[GREEN][Epoch 24/100] Train Loss: 0.2060 | Val Loss: 0.1834\n"
     ]
    },
    {
     "name": "stderr",
     "output_type": "stream",
     "text": [
      "Training GREEN:  25%|█████▎               | 25/100 [01:42<05:04,  4.06s/it]"
     ]
    },
    {
     "name": "stdout",
     "output_type": "stream",
     "text": [
      "[GREEN][Epoch 25/100] Train Loss: 0.2027 | Val Loss: 0.1746\n"
     ]
    },
    {
     "name": "stderr",
     "output_type": "stream",
     "text": [
      "Training GREEN:  26%|█████▍               | 26/100 [01:46<05:01,  4.08s/it]"
     ]
    },
    {
     "name": "stdout",
     "output_type": "stream",
     "text": [
      "[GREEN][Epoch 26/100] Train Loss: 0.1985 | Val Loss: 0.2421\n"
     ]
    },
    {
     "name": "stderr",
     "output_type": "stream",
     "text": [
      "Training GREEN:  27%|█████▋               | 27/100 [01:50<04:57,  4.08s/it]"
     ]
    },
    {
     "name": "stdout",
     "output_type": "stream",
     "text": [
      "[GREEN][Epoch 27/100] Train Loss: 0.1965 | Val Loss: 0.2698\n"
     ]
    },
    {
     "name": "stderr",
     "output_type": "stream",
     "text": [
      "Training GREEN:  28%|█████▉               | 28/100 [01:54<04:54,  4.09s/it]"
     ]
    },
    {
     "name": "stdout",
     "output_type": "stream",
     "text": [
      "[GREEN][Epoch 28/100] Train Loss: 0.1927 | Val Loss: 0.1509\n"
     ]
    },
    {
     "name": "stderr",
     "output_type": "stream",
     "text": [
      "Training GREEN:  29%|██████               | 29/100 [01:58<04:50,  4.10s/it]"
     ]
    },
    {
     "name": "stdout",
     "output_type": "stream",
     "text": [
      "[GREEN][Epoch 29/100] Train Loss: 0.1901 | Val Loss: 0.2694\n"
     ]
    },
    {
     "name": "stderr",
     "output_type": "stream",
     "text": [
      "Training GREEN:  30%|██████▎              | 30/100 [02:03<04:47,  4.11s/it]"
     ]
    },
    {
     "name": "stdout",
     "output_type": "stream",
     "text": [
      "[GREEN][Epoch 30/100] Train Loss: 0.1877 | Val Loss: 0.2369\n"
     ]
    },
    {
     "name": "stderr",
     "output_type": "stream",
     "text": [
      "Training GREEN:  31%|██████▌              | 31/100 [02:07<04:42,  4.09s/it]"
     ]
    },
    {
     "name": "stdout",
     "output_type": "stream",
     "text": [
      "[GREEN][Epoch 31/100] Train Loss: 0.1843 | Val Loss: 0.1992\n"
     ]
    },
    {
     "name": "stderr",
     "output_type": "stream",
     "text": [
      "Training GREEN:  32%|██████▋              | 32/100 [02:11<04:37,  4.09s/it]"
     ]
    },
    {
     "name": "stdout",
     "output_type": "stream",
     "text": [
      "[GREEN][Epoch 32/100] Train Loss: 0.1813 | Val Loss: 0.2714\n"
     ]
    },
    {
     "name": "stderr",
     "output_type": "stream",
     "text": [
      "Training GREEN:  33%|██████▉              | 33/100 [02:15<04:34,  4.10s/it]"
     ]
    },
    {
     "name": "stdout",
     "output_type": "stream",
     "text": [
      "[GREEN][Epoch 33/100] Train Loss: 0.1793 | Val Loss: 0.2604\n"
     ]
    },
    {
     "name": "stderr",
     "output_type": "stream",
     "text": [
      "Training GREEN:  34%|███████▏             | 34/100 [02:19<04:28,  4.07s/it]"
     ]
    },
    {
     "name": "stdout",
     "output_type": "stream",
     "text": [
      "[GREEN][Epoch 34/100] Train Loss: 0.1764 | Val Loss: 0.4613\n"
     ]
    },
    {
     "name": "stderr",
     "output_type": "stream",
     "text": [
      "Training GREEN:  35%|███████▎             | 35/100 [02:23<04:24,  4.07s/it]"
     ]
    },
    {
     "name": "stdout",
     "output_type": "stream",
     "text": [
      "[GREEN][Epoch 35/100] Train Loss: 0.1739 | Val Loss: 0.3696\n"
     ]
    },
    {
     "name": "stderr",
     "output_type": "stream",
     "text": [
      "Training GREEN:  36%|███████▌             | 36/100 [02:27<04:20,  4.08s/it]"
     ]
    },
    {
     "name": "stdout",
     "output_type": "stream",
     "text": [
      "[GREEN][Epoch 36/100] Train Loss: 0.1715 | Val Loss: 0.5548\n"
     ]
    },
    {
     "name": "stderr",
     "output_type": "stream",
     "text": [
      "Training GREEN:  37%|███████▊             | 37/100 [02:31<04:17,  4.09s/it]"
     ]
    },
    {
     "name": "stdout",
     "output_type": "stream",
     "text": [
      "[GREEN][Epoch 37/100] Train Loss: 0.1686 | Val Loss: 0.3981\n"
     ]
    },
    {
     "name": "stderr",
     "output_type": "stream",
     "text": [
      "Training GREEN:  38%|███████▉             | 38/100 [02:35<04:12,  4.07s/it]"
     ]
    },
    {
     "name": "stdout",
     "output_type": "stream",
     "text": [
      "[GREEN][Epoch 38/100] Train Loss: 0.1662 | Val Loss: 0.2824\n"
     ]
    },
    {
     "name": "stderr",
     "output_type": "stream",
     "text": [
      "Training GREEN:  39%|████████▏            | 39/100 [02:39<04:07,  4.05s/it]"
     ]
    },
    {
     "name": "stdout",
     "output_type": "stream",
     "text": [
      "[GREEN][Epoch 39/100] Train Loss: 0.1636 | Val Loss: 0.2228\n"
     ]
    },
    {
     "name": "stderr",
     "output_type": "stream",
     "text": [
      "Training GREEN:  40%|████████▍            | 40/100 [02:43<04:03,  4.06s/it]"
     ]
    },
    {
     "name": "stdout",
     "output_type": "stream",
     "text": [
      "[GREEN][Epoch 40/100] Train Loss: 0.1616 | Val Loss: 0.1855\n"
     ]
    },
    {
     "name": "stderr",
     "output_type": "stream",
     "text": [
      "Training GREEN:  41%|████████▌            | 41/100 [02:47<03:59,  4.06s/it]"
     ]
    },
    {
     "name": "stdout",
     "output_type": "stream",
     "text": [
      "[GREEN][Epoch 41/100] Train Loss: 0.1591 | Val Loss: 0.2834\n"
     ]
    },
    {
     "name": "stderr",
     "output_type": "stream",
     "text": [
      "Training GREEN:  42%|████████▊            | 42/100 [02:51<03:55,  4.06s/it]"
     ]
    },
    {
     "name": "stdout",
     "output_type": "stream",
     "text": [
      "[GREEN][Epoch 42/100] Train Loss: 0.1570 | Val Loss: 0.1924\n"
     ]
    },
    {
     "name": "stderr",
     "output_type": "stream",
     "text": [
      "Training GREEN:  43%|█████████            | 43/100 [02:55<03:51,  4.06s/it]"
     ]
    },
    {
     "name": "stdout",
     "output_type": "stream",
     "text": [
      "[GREEN][Epoch 43/100] Train Loss: 0.1548 | Val Loss: 0.1904\n"
     ]
    },
    {
     "name": "stderr",
     "output_type": "stream",
     "text": [
      "Training GREEN:  44%|█████████▏           | 44/100 [03:00<03:48,  4.08s/it]"
     ]
    },
    {
     "name": "stdout",
     "output_type": "stream",
     "text": [
      "[GREEN][Epoch 44/100] Train Loss: 0.1532 | Val Loss: 0.1912\n"
     ]
    },
    {
     "name": "stderr",
     "output_type": "stream",
     "text": [
      "Training GREEN:  45%|█████████▍           | 45/100 [03:04<03:44,  4.08s/it]"
     ]
    },
    {
     "name": "stdout",
     "output_type": "stream",
     "text": [
      "[GREEN][Epoch 45/100] Train Loss: 0.1507 | Val Loss: 0.1892\n"
     ]
    },
    {
     "name": "stderr",
     "output_type": "stream",
     "text": [
      "Training GREEN:  46%|█████████▋           | 46/100 [03:08<03:40,  4.08s/it]"
     ]
    },
    {
     "name": "stdout",
     "output_type": "stream",
     "text": [
      "[GREEN][Epoch 46/100] Train Loss: 0.1494 | Val Loss: 0.2176\n"
     ]
    },
    {
     "name": "stderr",
     "output_type": "stream",
     "text": [
      "Training GREEN:  47%|█████████▊           | 47/100 [03:12<03:35,  4.06s/it]"
     ]
    },
    {
     "name": "stdout",
     "output_type": "stream",
     "text": [
      "[GREEN][Epoch 47/100] Train Loss: 0.1473 | Val Loss: 0.2354\n"
     ]
    },
    {
     "name": "stderr",
     "output_type": "stream",
     "text": [
      "Training GREEN:  48%|██████████           | 48/100 [03:16<03:29,  4.03s/it]"
     ]
    },
    {
     "name": "stdout",
     "output_type": "stream",
     "text": [
      "[GREEN][Epoch 48/100] Train Loss: 0.1449 | Val Loss: 0.1822\n"
     ]
    },
    {
     "name": "stderr",
     "output_type": "stream",
     "text": [
      "Training GREEN:  49%|██████████▎          | 49/100 [03:20<03:25,  4.03s/it]"
     ]
    },
    {
     "name": "stdout",
     "output_type": "stream",
     "text": [
      "[GREEN][Epoch 49/100] Train Loss: 0.1432 | Val Loss: 0.1554\n"
     ]
    },
    {
     "name": "stderr",
     "output_type": "stream",
     "text": [
      "Training GREEN:  50%|██████████▌          | 50/100 [03:24<03:21,  4.02s/it]"
     ]
    },
    {
     "name": "stdout",
     "output_type": "stream",
     "text": [
      "[GREEN][Epoch 50/100] Train Loss: 0.1411 | Val Loss: 0.1513\n"
     ]
    },
    {
     "name": "stderr",
     "output_type": "stream",
     "text": [
      "Training GREEN:  51%|██████████▋          | 51/100 [03:28<03:17,  4.03s/it]"
     ]
    },
    {
     "name": "stdout",
     "output_type": "stream",
     "text": [
      "[GREEN][Epoch 51/100] Train Loss: 0.1395 | Val Loss: 0.1892\n"
     ]
    },
    {
     "name": "stderr",
     "output_type": "stream",
     "text": [
      "Training GREEN:  52%|██████████▉          | 52/100 [03:32<03:15,  4.06s/it]"
     ]
    },
    {
     "name": "stdout",
     "output_type": "stream",
     "text": [
      "[GREEN][Epoch 52/100] Train Loss: 0.1379 | Val Loss: 0.3231\n"
     ]
    },
    {
     "name": "stderr",
     "output_type": "stream",
     "text": [
      "Training GREEN:  53%|███████████▏         | 53/100 [03:36<03:09,  4.03s/it]"
     ]
    },
    {
     "name": "stdout",
     "output_type": "stream",
     "text": [
      "[GREEN][Epoch 53/100] Train Loss: 0.1359 | Val Loss: 0.1689\n"
     ]
    },
    {
     "name": "stderr",
     "output_type": "stream",
     "text": [
      "Training GREEN:  54%|███████████▎         | 54/100 [03:40<03:05,  4.03s/it]"
     ]
    },
    {
     "name": "stdout",
     "output_type": "stream",
     "text": [
      "[GREEN][Epoch 54/100] Train Loss: 0.1351 | Val Loss: 0.1603\n"
     ]
    },
    {
     "name": "stderr",
     "output_type": "stream",
     "text": [
      "Training GREEN:  55%|███████████▌         | 55/100 [03:44<03:01,  4.02s/it]"
     ]
    },
    {
     "name": "stdout",
     "output_type": "stream",
     "text": [
      "[GREEN][Epoch 55/100] Train Loss: 0.1325 | Val Loss: 0.1560\n"
     ]
    },
    {
     "name": "stderr",
     "output_type": "stream",
     "text": [
      "Training GREEN:  56%|███████████▊         | 56/100 [03:48<02:57,  4.02s/it]"
     ]
    },
    {
     "name": "stdout",
     "output_type": "stream",
     "text": [
      "[GREEN][Epoch 56/100] Train Loss: 0.1303 | Val Loss: 0.1549\n"
     ]
    },
    {
     "name": "stderr",
     "output_type": "stream",
     "text": [
      "Training GREEN:  57%|███████████▉         | 57/100 [03:52<02:53,  4.05s/it]"
     ]
    },
    {
     "name": "stdout",
     "output_type": "stream",
     "text": [
      "[GREEN][Epoch 57/100] Train Loss: 0.1289 | Val Loss: 0.1361\n"
     ]
    },
    {
     "name": "stderr",
     "output_type": "stream",
     "text": [
      "Training GREEN:  58%|████████████▏        | 58/100 [03:56<02:49,  4.04s/it]"
     ]
    },
    {
     "name": "stdout",
     "output_type": "stream",
     "text": [
      "[GREEN][Epoch 58/100] Train Loss: 0.1269 | Val Loss: 0.1684\n"
     ]
    },
    {
     "name": "stderr",
     "output_type": "stream",
     "text": [
      "Training GREEN:  59%|████████████▍        | 59/100 [04:00<02:46,  4.07s/it]"
     ]
    },
    {
     "name": "stdout",
     "output_type": "stream",
     "text": [
      "[GREEN][Epoch 59/100] Train Loss: 0.1254 | Val Loss: 0.1199\n"
     ]
    },
    {
     "name": "stderr",
     "output_type": "stream",
     "text": [
      "Training GREEN:  60%|████████████▌        | 60/100 [04:04<02:41,  4.03s/it]"
     ]
    },
    {
     "name": "stdout",
     "output_type": "stream",
     "text": [
      "[GREEN][Epoch 60/100] Train Loss: 0.1245 | Val Loss: 0.1174\n"
     ]
    },
    {
     "name": "stderr",
     "output_type": "stream",
     "text": [
      "Training GREEN:  61%|████████████▊        | 61/100 [04:08<02:38,  4.06s/it]"
     ]
    },
    {
     "name": "stdout",
     "output_type": "stream",
     "text": [
      "[GREEN][Epoch 61/100] Train Loss: 0.1223 | Val Loss: 0.1510\n"
     ]
    },
    {
     "name": "stderr",
     "output_type": "stream",
     "text": [
      "Training GREEN:  62%|█████████████        | 62/100 [04:12<02:33,  4.04s/it]"
     ]
    },
    {
     "name": "stdout",
     "output_type": "stream",
     "text": [
      "[GREEN][Epoch 62/100] Train Loss: 0.1207 | Val Loss: 0.1379\n"
     ]
    },
    {
     "name": "stderr",
     "output_type": "stream",
     "text": [
      "Training GREEN:  63%|█████████████▏       | 63/100 [04:16<02:29,  4.04s/it]"
     ]
    },
    {
     "name": "stdout",
     "output_type": "stream",
     "text": [
      "[GREEN][Epoch 63/100] Train Loss: 0.1194 | Val Loss: 0.1357\n"
     ]
    },
    {
     "name": "stderr",
     "output_type": "stream",
     "text": [
      "Training GREEN:  64%|█████████████▍       | 64/100 [04:20<02:25,  4.04s/it]"
     ]
    },
    {
     "name": "stdout",
     "output_type": "stream",
     "text": [
      "[GREEN][Epoch 64/100] Train Loss: 0.1178 | Val Loss: 0.1353\n"
     ]
    },
    {
     "name": "stderr",
     "output_type": "stream",
     "text": [
      "Training GREEN:  65%|█████████████▋       | 65/100 [04:24<02:21,  4.03s/it]"
     ]
    },
    {
     "name": "stdout",
     "output_type": "stream",
     "text": [
      "[GREEN][Epoch 65/100] Train Loss: 0.1163 | Val Loss: 0.1345\n"
     ]
    },
    {
     "name": "stderr",
     "output_type": "stream",
     "text": [
      "Training GREEN:  66%|█████████████▊       | 66/100 [04:28<02:17,  4.03s/it]"
     ]
    },
    {
     "name": "stdout",
     "output_type": "stream",
     "text": [
      "[GREEN][Epoch 66/100] Train Loss: 0.1150 | Val Loss: 0.1374\n"
     ]
    },
    {
     "name": "stderr",
     "output_type": "stream",
     "text": [
      "Training GREEN:  67%|██████████████       | 67/100 [04:32<02:11,  4.00s/it]"
     ]
    },
    {
     "name": "stdout",
     "output_type": "stream",
     "text": [
      "[GREEN][Epoch 67/100] Train Loss: 0.1133 | Val Loss: 0.1295\n"
     ]
    },
    {
     "name": "stderr",
     "output_type": "stream",
     "text": [
      "Training GREEN:  68%|██████████████▎      | 68/100 [04:36<02:08,  4.02s/it]"
     ]
    },
    {
     "name": "stdout",
     "output_type": "stream",
     "text": [
      "[GREEN][Epoch 68/100] Train Loss: 0.1117 | Val Loss: 0.1487\n"
     ]
    },
    {
     "name": "stderr",
     "output_type": "stream",
     "text": [
      "Training GREEN:  69%|██████████████▍      | 69/100 [04:40<02:03,  3.99s/it]"
     ]
    },
    {
     "name": "stdout",
     "output_type": "stream",
     "text": [
      "[GREEN][Epoch 69/100] Train Loss: 0.1103 | Val Loss: 0.1337\n"
     ]
    },
    {
     "name": "stderr",
     "output_type": "stream",
     "text": [
      "Training GREEN:  70%|██████████████▋      | 70/100 [04:44<02:00,  4.01s/it]"
     ]
    },
    {
     "name": "stdout",
     "output_type": "stream",
     "text": [
      "[GREEN][Epoch 70/100] Train Loss: 0.1087 | Val Loss: 0.1448\n"
     ]
    },
    {
     "name": "stderr",
     "output_type": "stream",
     "text": [
      "Training GREEN:  71%|██████████████▉      | 71/100 [04:48<01:56,  4.03s/it]"
     ]
    },
    {
     "name": "stdout",
     "output_type": "stream",
     "text": [
      "[GREEN][Epoch 71/100] Train Loss: 0.1078 | Val Loss: 0.2301\n"
     ]
    },
    {
     "name": "stderr",
     "output_type": "stream",
     "text": [
      "Training GREEN:  72%|███████████████      | 72/100 [04:53<01:53,  4.04s/it]"
     ]
    },
    {
     "name": "stdout",
     "output_type": "stream",
     "text": [
      "[GREEN][Epoch 72/100] Train Loss: 0.1059 | Val Loss: 0.2552\n"
     ]
    },
    {
     "name": "stderr",
     "output_type": "stream",
     "text": [
      "Training GREEN:  73%|███████████████▎     | 73/100 [04:57<01:48,  4.03s/it]"
     ]
    },
    {
     "name": "stdout",
     "output_type": "stream",
     "text": [
      "[GREEN][Epoch 73/100] Train Loss: 0.1047 | Val Loss: 0.1214\n"
     ]
    },
    {
     "name": "stderr",
     "output_type": "stream",
     "text": [
      "Training GREEN:  74%|███████████████▌     | 74/100 [05:01<01:44,  4.02s/it]"
     ]
    },
    {
     "name": "stdout",
     "output_type": "stream",
     "text": [
      "[GREEN][Epoch 74/100] Train Loss: 0.1038 | Val Loss: 0.1248\n"
     ]
    },
    {
     "name": "stderr",
     "output_type": "stream",
     "text": [
      "Training GREEN:  75%|███████████████▊     | 75/100 [05:05<01:40,  4.02s/it]"
     ]
    },
    {
     "name": "stdout",
     "output_type": "stream",
     "text": [
      "[GREEN][Epoch 75/100] Train Loss: 0.1021 | Val Loss: 0.1195\n"
     ]
    },
    {
     "name": "stderr",
     "output_type": "stream",
     "text": [
      "Training GREEN:  76%|███████████████▉     | 76/100 [05:09<01:36,  4.02s/it]"
     ]
    },
    {
     "name": "stdout",
     "output_type": "stream",
     "text": [
      "[GREEN][Epoch 76/100] Train Loss: 0.1009 | Val Loss: 0.1213\n"
     ]
    },
    {
     "name": "stderr",
     "output_type": "stream",
     "text": [
      "Training GREEN:  77%|████████████████▏    | 77/100 [05:13<01:32,  4.01s/it]"
     ]
    },
    {
     "name": "stdout",
     "output_type": "stream",
     "text": [
      "[GREEN][Epoch 77/100] Train Loss: 0.1001 | Val Loss: 0.1432\n"
     ]
    },
    {
     "name": "stderr",
     "output_type": "stream",
     "text": [
      "Training GREEN:  78%|████████████████▍    | 78/100 [05:16<01:27,  3.98s/it]"
     ]
    },
    {
     "name": "stdout",
     "output_type": "stream",
     "text": [
      "[GREEN][Epoch 78/100] Train Loss: 0.0986 | Val Loss: 0.1028\n"
     ]
    },
    {
     "name": "stderr",
     "output_type": "stream",
     "text": [
      "Training GREEN:  79%|████████████████▌    | 79/100 [05:20<01:23,  3.99s/it]"
     ]
    },
    {
     "name": "stdout",
     "output_type": "stream",
     "text": [
      "[GREEN][Epoch 79/100] Train Loss: 0.0976 | Val Loss: 0.1176\n"
     ]
    },
    {
     "name": "stderr",
     "output_type": "stream",
     "text": [
      "Training GREEN:  80%|████████████████▊    | 80/100 [05:24<01:20,  4.00s/it]"
     ]
    },
    {
     "name": "stdout",
     "output_type": "stream",
     "text": [
      "[GREEN][Epoch 80/100] Train Loss: 0.0964 | Val Loss: 0.3143\n"
     ]
    },
    {
     "name": "stderr",
     "output_type": "stream",
     "text": [
      "Training GREEN:  81%|█████████████████    | 81/100 [05:28<01:15,  4.00s/it]"
     ]
    },
    {
     "name": "stdout",
     "output_type": "stream",
     "text": [
      "[GREEN][Epoch 81/100] Train Loss: 0.0949 | Val Loss: 0.1217\n"
     ]
    },
    {
     "name": "stderr",
     "output_type": "stream",
     "text": [
      "Training GREEN:  82%|█████████████████▏   | 82/100 [05:32<01:12,  4.00s/it]"
     ]
    },
    {
     "name": "stdout",
     "output_type": "stream",
     "text": [
      "[GREEN][Epoch 82/100] Train Loss: 0.0939 | Val Loss: 0.1089\n"
     ]
    },
    {
     "name": "stderr",
     "output_type": "stream",
     "text": [
      "Training GREEN:  83%|█████████████████▍   | 83/100 [05:36<01:07,  4.00s/it]"
     ]
    },
    {
     "name": "stdout",
     "output_type": "stream",
     "text": [
      "[GREEN][Epoch 83/100] Train Loss: 0.0928 | Val Loss: 0.0976\n"
     ]
    },
    {
     "name": "stderr",
     "output_type": "stream",
     "text": [
      "Training GREEN:  84%|█████████████████▋   | 84/100 [05:40<01:03,  4.00s/it]"
     ]
    },
    {
     "name": "stdout",
     "output_type": "stream",
     "text": [
      "[GREEN][Epoch 84/100] Train Loss: 0.0915 | Val Loss: 0.2831\n"
     ]
    },
    {
     "name": "stderr",
     "output_type": "stream",
     "text": [
      "Training GREEN:  85%|█████████████████▊   | 85/100 [05:45<01:00,  4.01s/it]"
     ]
    },
    {
     "name": "stdout",
     "output_type": "stream",
     "text": [
      "[GREEN][Epoch 85/100] Train Loss: 0.0904 | Val Loss: 0.1060\n"
     ]
    },
    {
     "name": "stderr",
     "output_type": "stream",
     "text": [
      "Training GREEN:  86%|██████████████████   | 86/100 [05:49<00:56,  4.02s/it]"
     ]
    },
    {
     "name": "stdout",
     "output_type": "stream",
     "text": [
      "[GREEN][Epoch 86/100] Train Loss: 0.0894 | Val Loss: 0.1091\n"
     ]
    },
    {
     "name": "stderr",
     "output_type": "stream",
     "text": [
      "Training GREEN:  87%|██████████████████▎  | 87/100 [05:53<00:52,  4.03s/it]"
     ]
    },
    {
     "name": "stdout",
     "output_type": "stream",
     "text": [
      "[GREEN][Epoch 87/100] Train Loss: 0.0880 | Val Loss: 0.1061\n"
     ]
    },
    {
     "name": "stderr",
     "output_type": "stream",
     "text": [
      "Training GREEN:  88%|██████████████████▍  | 88/100 [05:57<00:48,  4.02s/it]"
     ]
    },
    {
     "name": "stdout",
     "output_type": "stream",
     "text": [
      "[GREEN][Epoch 88/100] Train Loss: 0.0871 | Val Loss: 0.1058\n"
     ]
    },
    {
     "name": "stderr",
     "output_type": "stream",
     "text": [
      "Training GREEN:  89%|██████████████████▋  | 89/100 [06:01<00:44,  4.04s/it]"
     ]
    },
    {
     "name": "stdout",
     "output_type": "stream",
     "text": [
      "[GREEN][Epoch 89/100] Train Loss: 0.0865 | Val Loss: 0.2828\n"
     ]
    },
    {
     "name": "stderr",
     "output_type": "stream",
     "text": [
      "Training GREEN:  90%|██████████████████▉  | 90/100 [06:05<00:40,  4.03s/it]"
     ]
    },
    {
     "name": "stdout",
     "output_type": "stream",
     "text": [
      "[GREEN][Epoch 90/100] Train Loss: 0.0852 | Val Loss: 0.3245\n"
     ]
    },
    {
     "name": "stderr",
     "output_type": "stream",
     "text": [
      "Training GREEN:  91%|███████████████████  | 91/100 [06:09<00:36,  4.05s/it]"
     ]
    },
    {
     "name": "stdout",
     "output_type": "stream",
     "text": [
      "[GREEN][Epoch 91/100] Train Loss: 0.0844 | Val Loss: 0.3003\n"
     ]
    },
    {
     "name": "stderr",
     "output_type": "stream",
     "text": [
      "Training GREEN:  92%|███████████████████▎ | 92/100 [06:13<00:32,  4.01s/it]"
     ]
    },
    {
     "name": "stdout",
     "output_type": "stream",
     "text": [
      "[GREEN][Epoch 92/100] Train Loss: 0.0832 | Val Loss: 0.2322\n"
     ]
    },
    {
     "name": "stderr",
     "output_type": "stream",
     "text": [
      "Training GREEN:  93%|███████████████████▌ | 93/100 [06:17<00:27,  3.99s/it]"
     ]
    },
    {
     "name": "stdout",
     "output_type": "stream",
     "text": [
      "[GREEN][Epoch 93/100] Train Loss: 0.0821 | Val Loss: 0.0989\n"
     ]
    },
    {
     "name": "stderr",
     "output_type": "stream",
     "text": [
      "Training GREEN:  94%|███████████████████▋ | 94/100 [06:21<00:23,  3.99s/it]"
     ]
    },
    {
     "name": "stdout",
     "output_type": "stream",
     "text": [
      "[GREEN][Epoch 94/100] Train Loss: 0.0818 | Val Loss: 0.0942\n"
     ]
    },
    {
     "name": "stderr",
     "output_type": "stream",
     "text": [
      "Training GREEN:  95%|███████████████████▉ | 95/100 [06:25<00:20,  4.00s/it]"
     ]
    },
    {
     "name": "stdout",
     "output_type": "stream",
     "text": [
      "[GREEN][Epoch 95/100] Train Loss: 0.0812 | Val Loss: 0.0983\n"
     ]
    },
    {
     "name": "stderr",
     "output_type": "stream",
     "text": [
      "Training GREEN:  96%|████████████████████▏| 96/100 [06:29<00:15,  3.99s/it]"
     ]
    },
    {
     "name": "stdout",
     "output_type": "stream",
     "text": [
      "[GREEN][Epoch 96/100] Train Loss: 0.0799 | Val Loss: 0.0959\n"
     ]
    },
    {
     "name": "stderr",
     "output_type": "stream",
     "text": [
      "Training GREEN:  97%|████████████████████▎| 97/100 [06:33<00:12,  4.01s/it]"
     ]
    },
    {
     "name": "stdout",
     "output_type": "stream",
     "text": [
      "[GREEN][Epoch 97/100] Train Loss: 0.0786 | Val Loss: 0.0947\n"
     ]
    },
    {
     "name": "stderr",
     "output_type": "stream",
     "text": [
      "Training GREEN:  98%|████████████████████▌| 98/100 [06:37<00:08,  4.02s/it]"
     ]
    },
    {
     "name": "stdout",
     "output_type": "stream",
     "text": [
      "[GREEN][Epoch 98/100] Train Loss: 0.0779 | Val Loss: 0.0951\n"
     ]
    },
    {
     "name": "stderr",
     "output_type": "stream",
     "text": [
      "Training GREEN:  99%|████████████████████▊| 99/100 [06:41<00:04,  4.01s/it]"
     ]
    },
    {
     "name": "stdout",
     "output_type": "stream",
     "text": [
      "[GREEN][Epoch 99/100] Train Loss: 0.0769 | Val Loss: 0.0973\n"
     ]
    },
    {
     "name": "stderr",
     "output_type": "stream",
     "text": [
      "Training GREEN: 100%|████████████████████| 100/100 [06:45<00:00,  4.05s/it]\n"
     ]
    },
    {
     "name": "stdout",
     "output_type": "stream",
     "text": [
      "[GREEN][Epoch 100/100] Train Loss: 0.0759 | Val Loss: 0.0959\n",
      "✔️ Meilleur modèle GREEN sauvegardé — Epoch 94, Train Loss: 0.0818, Val Loss: 0.0942\n",
      "\n",
      "🔁 Entraînement pour l'axe : YELLOW\n"
     ]
    },
    {
     "name": "stderr",
     "output_type": "stream",
     "text": [
      "Training YELLOW:   1%|▏                    | 1/100 [00:04<08:13,  4.98s/it]"
     ]
    },
    {
     "name": "stdout",
     "output_type": "stream",
     "text": [
      "[YELLOW][Epoch 1/100] Train Loss: 0.8896 | Val Loss: 0.8002\n"
     ]
    },
    {
     "name": "stderr",
     "output_type": "stream",
     "text": [
      "Training YELLOW:   2%|▍                    | 2/100 [00:08<07:05,  4.34s/it]"
     ]
    },
    {
     "name": "stdout",
     "output_type": "stream",
     "text": [
      "[YELLOW][Epoch 2/100] Train Loss: 0.7556 | Val Loss: 0.7362\n"
     ]
    },
    {
     "name": "stderr",
     "output_type": "stream",
     "text": [
      "Training YELLOW:   3%|▋                    | 3/100 [00:12<06:46,  4.19s/it]"
     ]
    },
    {
     "name": "stdout",
     "output_type": "stream",
     "text": [
      "[YELLOW][Epoch 3/100] Train Loss: 0.6671 | Val Loss: 0.6991\n"
     ]
    },
    {
     "name": "stderr",
     "output_type": "stream",
     "text": [
      "Training YELLOW:   4%|▊                    | 4/100 [00:17<06:40,  4.17s/it]"
     ]
    },
    {
     "name": "stdout",
     "output_type": "stream",
     "text": [
      "[YELLOW][Epoch 4/100] Train Loss: 0.6026 | Val Loss: 0.7295\n"
     ]
    },
    {
     "name": "stderr",
     "output_type": "stream",
     "text": [
      "Training YELLOW:   5%|█                    | 5/100 [00:21<06:29,  4.10s/it]"
     ]
    },
    {
     "name": "stdout",
     "output_type": "stream",
     "text": [
      "[YELLOW][Epoch 5/100] Train Loss: 0.5544 | Val Loss: 0.6962\n"
     ]
    },
    {
     "name": "stderr",
     "output_type": "stream",
     "text": [
      "Training YELLOW:   6%|█▎                   | 6/100 [00:24<06:21,  4.05s/it]"
     ]
    },
    {
     "name": "stdout",
     "output_type": "stream",
     "text": [
      "[YELLOW][Epoch 6/100] Train Loss: 0.5163 | Val Loss: 0.6306\n"
     ]
    },
    {
     "name": "stderr",
     "output_type": "stream",
     "text": [
      "Training YELLOW:   7%|█▍                   | 7/100 [00:28<06:13,  4.01s/it]"
     ]
    },
    {
     "name": "stdout",
     "output_type": "stream",
     "text": [
      "[YELLOW][Epoch 7/100] Train Loss: 0.4878 | Val Loss: 0.5510\n"
     ]
    },
    {
     "name": "stderr",
     "output_type": "stream",
     "text": [
      "Training YELLOW:   8%|█▋                   | 8/100 [00:32<06:08,  4.01s/it]"
     ]
    },
    {
     "name": "stdout",
     "output_type": "stream",
     "text": [
      "[YELLOW][Epoch 8/100] Train Loss: 0.4630 | Val Loss: 0.4784\n"
     ]
    },
    {
     "name": "stderr",
     "output_type": "stream",
     "text": [
      "Training YELLOW:   9%|█▉                   | 9/100 [00:36<06:03,  3.99s/it]"
     ]
    },
    {
     "name": "stdout",
     "output_type": "stream",
     "text": [
      "[YELLOW][Epoch 9/100] Train Loss: 0.4421 | Val Loss: 0.4328\n"
     ]
    },
    {
     "name": "stderr",
     "output_type": "stream",
     "text": [
      "Training YELLOW:  10%|██                  | 10/100 [00:40<06:00,  4.01s/it]"
     ]
    },
    {
     "name": "stdout",
     "output_type": "stream",
     "text": [
      "[YELLOW][Epoch 10/100] Train Loss: 0.4243 | Val Loss: 0.4208\n"
     ]
    },
    {
     "name": "stderr",
     "output_type": "stream",
     "text": [
      "Training YELLOW:  11%|██▏                 | 11/100 [00:44<05:55,  4.00s/it]"
     ]
    },
    {
     "name": "stdout",
     "output_type": "stream",
     "text": [
      "[YELLOW][Epoch 11/100] Train Loss: 0.4110 | Val Loss: 0.4065\n"
     ]
    },
    {
     "name": "stderr",
     "output_type": "stream",
     "text": [
      "Training YELLOW:  12%|██▍                 | 12/100 [00:48<05:51,  3.99s/it]"
     ]
    },
    {
     "name": "stdout",
     "output_type": "stream",
     "text": [
      "[YELLOW][Epoch 12/100] Train Loss: 0.4008 | Val Loss: 0.3939\n"
     ]
    },
    {
     "name": "stderr",
     "output_type": "stream",
     "text": [
      "Training YELLOW:  13%|██▌                 | 13/100 [00:52<05:48,  4.00s/it]"
     ]
    },
    {
     "name": "stdout",
     "output_type": "stream",
     "text": [
      "[YELLOW][Epoch 13/100] Train Loss: 0.3909 | Val Loss: 0.3749\n"
     ]
    },
    {
     "name": "stderr",
     "output_type": "stream",
     "text": [
      "Training YELLOW:  14%|██▊                 | 14/100 [00:56<05:42,  3.98s/it]"
     ]
    },
    {
     "name": "stdout",
     "output_type": "stream",
     "text": [
      "[YELLOW][Epoch 14/100] Train Loss: 0.3821 | Val Loss: 0.3718\n"
     ]
    },
    {
     "name": "stderr",
     "output_type": "stream",
     "text": [
      "Training YELLOW:  15%|███                 | 15/100 [01:00<05:38,  3.98s/it]"
     ]
    },
    {
     "name": "stdout",
     "output_type": "stream",
     "text": [
      "[YELLOW][Epoch 15/100] Train Loss: 0.3746 | Val Loss: 0.3653\n"
     ]
    },
    {
     "name": "stderr",
     "output_type": "stream",
     "text": [
      "Training YELLOW:  16%|███▏                | 16/100 [01:04<05:33,  3.97s/it]"
     ]
    },
    {
     "name": "stdout",
     "output_type": "stream",
     "text": [
      "[YELLOW][Epoch 16/100] Train Loss: 0.3676 | Val Loss: 0.3702\n"
     ]
    },
    {
     "name": "stderr",
     "output_type": "stream",
     "text": [
      "Training YELLOW:  17%|███▍                | 17/100 [01:08<05:30,  3.98s/it]"
     ]
    },
    {
     "name": "stdout",
     "output_type": "stream",
     "text": [
      "[YELLOW][Epoch 17/100] Train Loss: 0.3611 | Val Loss: 0.3749\n"
     ]
    },
    {
     "name": "stderr",
     "output_type": "stream",
     "text": [
      "Training YELLOW:  18%|███▌                | 18/100 [01:12<05:25,  3.97s/it]"
     ]
    },
    {
     "name": "stdout",
     "output_type": "stream",
     "text": [
      "[YELLOW][Epoch 18/100] Train Loss: 0.3549 | Val Loss: 0.3578\n"
     ]
    },
    {
     "name": "stderr",
     "output_type": "stream",
     "text": [
      "Training YELLOW:  19%|███▊                | 19/100 [01:16<05:22,  3.99s/it]"
     ]
    },
    {
     "name": "stdout",
     "output_type": "stream",
     "text": [
      "[YELLOW][Epoch 19/100] Train Loss: 0.3496 | Val Loss: 0.3323\n"
     ]
    },
    {
     "name": "stderr",
     "output_type": "stream",
     "text": [
      "Training YELLOW:  20%|████                | 20/100 [01:20<05:18,  3.98s/it]"
     ]
    },
    {
     "name": "stdout",
     "output_type": "stream",
     "text": [
      "[YELLOW][Epoch 20/100] Train Loss: 0.3445 | Val Loss: 0.3377\n"
     ]
    },
    {
     "name": "stderr",
     "output_type": "stream",
     "text": [
      "Training YELLOW:  21%|████▏               | 21/100 [01:24<05:13,  3.97s/it]"
     ]
    },
    {
     "name": "stdout",
     "output_type": "stream",
     "text": [
      "[YELLOW][Epoch 21/100] Train Loss: 0.3394 | Val Loss: 0.3383\n"
     ]
    },
    {
     "name": "stderr",
     "output_type": "stream",
     "text": [
      "Training YELLOW:  22%|████▍               | 22/100 [01:28<05:10,  3.98s/it]"
     ]
    },
    {
     "name": "stdout",
     "output_type": "stream",
     "text": [
      "[YELLOW][Epoch 22/100] Train Loss: 0.3339 | Val Loss: 0.3314\n"
     ]
    },
    {
     "name": "stderr",
     "output_type": "stream",
     "text": [
      "Training YELLOW:  23%|████▌               | 23/100 [01:32<05:05,  3.96s/it]"
     ]
    },
    {
     "name": "stdout",
     "output_type": "stream",
     "text": [
      "[YELLOW][Epoch 23/100] Train Loss: 0.3280 | Val Loss: 0.3282\n"
     ]
    },
    {
     "name": "stderr",
     "output_type": "stream",
     "text": [
      "Training YELLOW:  24%|████▊               | 24/100 [01:36<05:01,  3.97s/it]"
     ]
    },
    {
     "name": "stdout",
     "output_type": "stream",
     "text": [
      "[YELLOW][Epoch 24/100] Train Loss: 0.3224 | Val Loss: 0.3263\n"
     ]
    },
    {
     "name": "stderr",
     "output_type": "stream",
     "text": [
      "Training YELLOW:  25%|█████               | 25/100 [01:40<04:58,  3.98s/it]"
     ]
    },
    {
     "name": "stdout",
     "output_type": "stream",
     "text": [
      "[YELLOW][Epoch 25/100] Train Loss: 0.3179 | Val Loss: 0.3177\n"
     ]
    },
    {
     "name": "stderr",
     "output_type": "stream",
     "text": [
      "Training YELLOW:  26%|█████▏              | 26/100 [01:44<04:55,  4.00s/it]"
     ]
    },
    {
     "name": "stdout",
     "output_type": "stream",
     "text": [
      "[YELLOW][Epoch 26/100] Train Loss: 0.3134 | Val Loss: 0.3194\n"
     ]
    },
    {
     "name": "stderr",
     "output_type": "stream",
     "text": [
      "Training YELLOW:  27%|█████▍              | 27/100 [01:48<04:54,  4.03s/it]"
     ]
    },
    {
     "name": "stdout",
     "output_type": "stream",
     "text": [
      "[YELLOW][Epoch 27/100] Train Loss: 0.3087 | Val Loss: 0.3085\n"
     ]
    },
    {
     "name": "stderr",
     "output_type": "stream",
     "text": [
      "Training YELLOW:  28%|█████▌              | 28/100 [01:52<04:49,  4.02s/it]"
     ]
    },
    {
     "name": "stdout",
     "output_type": "stream",
     "text": [
      "[YELLOW][Epoch 28/100] Train Loss: 0.3047 | Val Loss: 0.3029\n"
     ]
    },
    {
     "name": "stderr",
     "output_type": "stream",
     "text": [
      "Training YELLOW:  29%|█████▊              | 29/100 [01:56<04:43,  3.99s/it]"
     ]
    },
    {
     "name": "stdout",
     "output_type": "stream",
     "text": [
      "[YELLOW][Epoch 29/100] Train Loss: 0.3044 | Val Loss: 0.3502\n"
     ]
    },
    {
     "name": "stderr",
     "output_type": "stream",
     "text": [
      "Training YELLOW:  30%|██████              | 30/100 [02:00<04:38,  3.98s/it]"
     ]
    },
    {
     "name": "stdout",
     "output_type": "stream",
     "text": [
      "[YELLOW][Epoch 30/100] Train Loss: 0.3007 | Val Loss: 0.3125\n"
     ]
    },
    {
     "name": "stderr",
     "output_type": "stream",
     "text": [
      "Training YELLOW:  31%|██████▏             | 31/100 [02:04<04:34,  3.97s/it]"
     ]
    },
    {
     "name": "stdout",
     "output_type": "stream",
     "text": [
      "[YELLOW][Epoch 31/100] Train Loss: 0.2957 | Val Loss: 0.3174\n"
     ]
    },
    {
     "name": "stderr",
     "output_type": "stream",
     "text": [
      "Training YELLOW:  32%|██████▍             | 32/100 [02:08<04:31,  3.99s/it]"
     ]
    },
    {
     "name": "stdout",
     "output_type": "stream",
     "text": [
      "[YELLOW][Epoch 32/100] Train Loss: 0.2918 | Val Loss: 0.3394\n"
     ]
    },
    {
     "name": "stderr",
     "output_type": "stream",
     "text": [
      "Training YELLOW:  33%|██████▌             | 33/100 [02:12<04:25,  3.97s/it]"
     ]
    },
    {
     "name": "stdout",
     "output_type": "stream",
     "text": [
      "[YELLOW][Epoch 33/100] Train Loss: 0.2868 | Val Loss: 0.2849\n"
     ]
    },
    {
     "name": "stderr",
     "output_type": "stream",
     "text": [
      "Training YELLOW:  34%|██████▊             | 34/100 [02:16<04:22,  3.98s/it]"
     ]
    },
    {
     "name": "stdout",
     "output_type": "stream",
     "text": [
      "[YELLOW][Epoch 34/100] Train Loss: 0.2829 | Val Loss: 0.2673\n"
     ]
    },
    {
     "name": "stderr",
     "output_type": "stream",
     "text": [
      "Training YELLOW:  35%|███████             | 35/100 [02:20<04:19,  3.99s/it]"
     ]
    },
    {
     "name": "stdout",
     "output_type": "stream",
     "text": [
      "[YELLOW][Epoch 35/100] Train Loss: 0.2795 | Val Loss: 0.2396\n"
     ]
    },
    {
     "name": "stderr",
     "output_type": "stream",
     "text": [
      "Training YELLOW:  36%|███████▏            | 36/100 [02:24<04:15,  4.00s/it]"
     ]
    },
    {
     "name": "stdout",
     "output_type": "stream",
     "text": [
      "[YELLOW][Epoch 36/100] Train Loss: 0.2760 | Val Loss: 0.2407\n"
     ]
    },
    {
     "name": "stderr",
     "output_type": "stream",
     "text": [
      "Training YELLOW:  37%|███████▍            | 37/100 [02:28<04:14,  4.04s/it]"
     ]
    },
    {
     "name": "stdout",
     "output_type": "stream",
     "text": [
      "[YELLOW][Epoch 37/100] Train Loss: 0.2726 | Val Loss: 0.2354\n"
     ]
    },
    {
     "name": "stderr",
     "output_type": "stream",
     "text": [
      "Training YELLOW:  38%|███████▌            | 38/100 [02:32<04:09,  4.03s/it]"
     ]
    },
    {
     "name": "stdout",
     "output_type": "stream",
     "text": [
      "[YELLOW][Epoch 38/100] Train Loss: 0.2701 | Val Loss: 0.2194\n"
     ]
    },
    {
     "name": "stderr",
     "output_type": "stream",
     "text": [
      "Training YELLOW:  39%|███████▊            | 39/100 [02:36<04:04,  4.01s/it]"
     ]
    },
    {
     "name": "stdout",
     "output_type": "stream",
     "text": [
      "[YELLOW][Epoch 39/100] Train Loss: 0.2667 | Val Loss: 0.2031\n"
     ]
    },
    {
     "name": "stderr",
     "output_type": "stream",
     "text": [
      "Training YELLOW:  40%|████████            | 40/100 [02:40<04:00,  4.00s/it]"
     ]
    },
    {
     "name": "stdout",
     "output_type": "stream",
     "text": [
      "[YELLOW][Epoch 40/100] Train Loss: 0.2633 | Val Loss: 0.1993\n"
     ]
    },
    {
     "name": "stderr",
     "output_type": "stream",
     "text": [
      "Training YELLOW:  41%|████████▏           | 41/100 [02:44<03:55,  3.99s/it]"
     ]
    },
    {
     "name": "stdout",
     "output_type": "stream",
     "text": [
      "[YELLOW][Epoch 41/100] Train Loss: 0.2598 | Val Loss: 0.1976\n"
     ]
    },
    {
     "name": "stderr",
     "output_type": "stream",
     "text": [
      "Training YELLOW:  42%|████████▍           | 42/100 [02:48<03:52,  4.01s/it]"
     ]
    },
    {
     "name": "stdout",
     "output_type": "stream",
     "text": [
      "[YELLOW][Epoch 42/100] Train Loss: 0.2569 | Val Loss: 0.2021\n"
     ]
    },
    {
     "name": "stderr",
     "output_type": "stream",
     "text": [
      "Training YELLOW:  43%|████████▌           | 43/100 [02:52<03:48,  4.01s/it]"
     ]
    },
    {
     "name": "stdout",
     "output_type": "stream",
     "text": [
      "[YELLOW][Epoch 43/100] Train Loss: 0.2539 | Val Loss: 0.2065\n"
     ]
    },
    {
     "name": "stderr",
     "output_type": "stream",
     "text": [
      "Training YELLOW:  44%|████████▊           | 44/100 [02:56<03:43,  3.99s/it]"
     ]
    },
    {
     "name": "stdout",
     "output_type": "stream",
     "text": [
      "[YELLOW][Epoch 44/100] Train Loss: 0.2513 | Val Loss: 0.2108\n"
     ]
    },
    {
     "name": "stderr",
     "output_type": "stream",
     "text": [
      "Training YELLOW:  45%|█████████           | 45/100 [03:00<03:38,  3.97s/it]"
     ]
    },
    {
     "name": "stdout",
     "output_type": "stream",
     "text": [
      "[YELLOW][Epoch 45/100] Train Loss: 0.2479 | Val Loss: 0.2125\n"
     ]
    },
    {
     "name": "stderr",
     "output_type": "stream",
     "text": [
      "Training YELLOW:  46%|█████████▏          | 46/100 [03:04<03:34,  3.98s/it]"
     ]
    },
    {
     "name": "stdout",
     "output_type": "stream",
     "text": [
      "[YELLOW][Epoch 46/100] Train Loss: 0.2446 | Val Loss: 0.2218\n"
     ]
    },
    {
     "name": "stderr",
     "output_type": "stream",
     "text": [
      "Training YELLOW:  47%|█████████▍          | 47/100 [03:08<03:31,  3.98s/it]"
     ]
    },
    {
     "name": "stdout",
     "output_type": "stream",
     "text": [
      "[YELLOW][Epoch 47/100] Train Loss: 0.2421 | Val Loss: 0.2278\n"
     ]
    },
    {
     "name": "stderr",
     "output_type": "stream",
     "text": [
      "Training YELLOW:  48%|█████████▌          | 48/100 [03:12<03:26,  3.96s/it]"
     ]
    },
    {
     "name": "stdout",
     "output_type": "stream",
     "text": [
      "[YELLOW][Epoch 48/100] Train Loss: 0.2391 | Val Loss: 0.3476\n"
     ]
    },
    {
     "name": "stderr",
     "output_type": "stream",
     "text": [
      "Training YELLOW:  49%|█████████▊          | 49/100 [03:16<03:22,  3.98s/it]"
     ]
    },
    {
     "name": "stdout",
     "output_type": "stream",
     "text": [
      "[YELLOW][Epoch 49/100] Train Loss: 0.2363 | Val Loss: 0.2983\n"
     ]
    },
    {
     "name": "stderr",
     "output_type": "stream",
     "text": [
      "Training YELLOW:  50%|██████████          | 50/100 [03:20<03:18,  3.97s/it]"
     ]
    },
    {
     "name": "stdout",
     "output_type": "stream",
     "text": [
      "[YELLOW][Epoch 50/100] Train Loss: 0.2337 | Val Loss: 0.2956\n"
     ]
    },
    {
     "name": "stderr",
     "output_type": "stream",
     "text": [
      "Training YELLOW:  51%|██████████▏         | 51/100 [03:24<03:13,  3.95s/it]"
     ]
    },
    {
     "name": "stdout",
     "output_type": "stream",
     "text": [
      "[YELLOW][Epoch 51/100] Train Loss: 0.2312 | Val Loss: 0.2980\n"
     ]
    },
    {
     "name": "stderr",
     "output_type": "stream",
     "text": [
      "Training YELLOW:  52%|██████████▍         | 52/100 [03:28<03:10,  3.96s/it]"
     ]
    },
    {
     "name": "stdout",
     "output_type": "stream",
     "text": [
      "[YELLOW][Epoch 52/100] Train Loss: 0.2287 | Val Loss: 0.2921\n"
     ]
    },
    {
     "name": "stderr",
     "output_type": "stream",
     "text": [
      "Training YELLOW:  53%|██████████▌         | 53/100 [03:32<03:06,  3.97s/it]"
     ]
    },
    {
     "name": "stdout",
     "output_type": "stream",
     "text": [
      "[YELLOW][Epoch 53/100] Train Loss: 0.2263 | Val Loss: 0.2942\n"
     ]
    },
    {
     "name": "stderr",
     "output_type": "stream",
     "text": [
      "Training YELLOW:  54%|██████████▊         | 54/100 [03:36<03:03,  4.00s/it]"
     ]
    },
    {
     "name": "stdout",
     "output_type": "stream",
     "text": [
      "[YELLOW][Epoch 54/100] Train Loss: 0.2240 | Val Loss: 0.2921\n"
     ]
    },
    {
     "name": "stderr",
     "output_type": "stream",
     "text": [
      "Training YELLOW:  55%|███████████         | 55/100 [03:40<02:59,  3.99s/it]"
     ]
    },
    {
     "name": "stdout",
     "output_type": "stream",
     "text": [
      "[YELLOW][Epoch 55/100] Train Loss: 0.2213 | Val Loss: 0.2972\n"
     ]
    },
    {
     "name": "stderr",
     "output_type": "stream",
     "text": [
      "Training YELLOW:  56%|███████████▏        | 56/100 [03:44<02:55,  3.99s/it]"
     ]
    },
    {
     "name": "stdout",
     "output_type": "stream",
     "text": [
      "[YELLOW][Epoch 56/100] Train Loss: 0.2192 | Val Loss: 0.2868\n"
     ]
    },
    {
     "name": "stderr",
     "output_type": "stream",
     "text": [
      "Training YELLOW:  57%|███████████▍        | 57/100 [03:48<02:52,  4.00s/it]"
     ]
    },
    {
     "name": "stdout",
     "output_type": "stream",
     "text": [
      "[YELLOW][Epoch 57/100] Train Loss: 0.2169 | Val Loss: 0.2117\n"
     ]
    },
    {
     "name": "stderr",
     "output_type": "stream",
     "text": [
      "Training YELLOW:  58%|███████████▌        | 58/100 [03:52<02:49,  4.03s/it]"
     ]
    },
    {
     "name": "stdout",
     "output_type": "stream",
     "text": [
      "[YELLOW][Epoch 58/100] Train Loss: 0.2147 | Val Loss: 0.1988\n"
     ]
    },
    {
     "name": "stderr",
     "output_type": "stream",
     "text": [
      "Training YELLOW:  59%|███████████▊        | 59/100 [03:56<02:45,  4.03s/it]"
     ]
    },
    {
     "name": "stdout",
     "output_type": "stream",
     "text": [
      "[YELLOW][Epoch 59/100] Train Loss: 0.2141 | Val Loss: 0.2797\n"
     ]
    },
    {
     "name": "stderr",
     "output_type": "stream",
     "text": [
      "Training YELLOW:  60%|████████████        | 60/100 [04:00<02:40,  4.02s/it]"
     ]
    },
    {
     "name": "stdout",
     "output_type": "stream",
     "text": [
      "[YELLOW][Epoch 60/100] Train Loss: 0.2116 | Val Loss: 0.2660\n"
     ]
    },
    {
     "name": "stderr",
     "output_type": "stream",
     "text": [
      "Training YELLOW:  61%|████████████▏       | 61/100 [04:04<02:35,  4.00s/it]"
     ]
    },
    {
     "name": "stdout",
     "output_type": "stream",
     "text": [
      "[YELLOW][Epoch 61/100] Train Loss: 0.2097 | Val Loss: 0.2499\n"
     ]
    },
    {
     "name": "stderr",
     "output_type": "stream",
     "text": [
      "Training YELLOW:  62%|████████████▍       | 62/100 [04:08<02:31,  3.98s/it]"
     ]
    },
    {
     "name": "stdout",
     "output_type": "stream",
     "text": [
      "[YELLOW][Epoch 62/100] Train Loss: 0.2071 | Val Loss: 0.2628\n"
     ]
    },
    {
     "name": "stderr",
     "output_type": "stream",
     "text": [
      "Training YELLOW:  63%|████████████▌       | 63/100 [04:12<02:27,  3.98s/it]"
     ]
    },
    {
     "name": "stdout",
     "output_type": "stream",
     "text": [
      "[YELLOW][Epoch 63/100] Train Loss: 0.2046 | Val Loss: 0.2020\n"
     ]
    },
    {
     "name": "stderr",
     "output_type": "stream",
     "text": [
      "Training YELLOW:  64%|████████████▊       | 64/100 [04:16<02:23,  3.99s/it]"
     ]
    },
    {
     "name": "stdout",
     "output_type": "stream",
     "text": [
      "[YELLOW][Epoch 64/100] Train Loss: 0.2021 | Val Loss: 0.1888\n"
     ]
    },
    {
     "name": "stderr",
     "output_type": "stream",
     "text": [
      "Training YELLOW:  65%|█████████████       | 65/100 [04:20<02:19,  3.98s/it]"
     ]
    },
    {
     "name": "stdout",
     "output_type": "stream",
     "text": [
      "[YELLOW][Epoch 65/100] Train Loss: 0.2002 | Val Loss: 0.1777\n"
     ]
    },
    {
     "name": "stderr",
     "output_type": "stream",
     "text": [
      "Training YELLOW:  66%|█████████████▏      | 66/100 [04:24<02:15,  4.00s/it]"
     ]
    },
    {
     "name": "stdout",
     "output_type": "stream",
     "text": [
      "[YELLOW][Epoch 66/100] Train Loss: 0.1978 | Val Loss: 0.1754\n"
     ]
    },
    {
     "name": "stderr",
     "output_type": "stream",
     "text": [
      "Training YELLOW:  67%|█████████████▍      | 67/100 [04:28<02:11,  4.00s/it]"
     ]
    },
    {
     "name": "stdout",
     "output_type": "stream",
     "text": [
      "[YELLOW][Epoch 67/100] Train Loss: 0.1961 | Val Loss: 0.1733\n"
     ]
    },
    {
     "name": "stderr",
     "output_type": "stream",
     "text": [
      "Training YELLOW:  68%|█████████████▌      | 68/100 [04:32<02:07,  3.98s/it]"
     ]
    },
    {
     "name": "stdout",
     "output_type": "stream",
     "text": [
      "[YELLOW][Epoch 68/100] Train Loss: 0.1938 | Val Loss: 0.1718\n"
     ]
    },
    {
     "name": "stderr",
     "output_type": "stream",
     "text": [
      "Training YELLOW:  69%|█████████████▊      | 69/100 [04:36<02:03,  4.00s/it]"
     ]
    },
    {
     "name": "stdout",
     "output_type": "stream",
     "text": [
      "[YELLOW][Epoch 69/100] Train Loss: 0.1917 | Val Loss: 0.1726\n"
     ]
    },
    {
     "name": "stderr",
     "output_type": "stream",
     "text": [
      "Training YELLOW:  70%|██████████████      | 70/100 [04:40<01:59,  3.98s/it]"
     ]
    },
    {
     "name": "stdout",
     "output_type": "stream",
     "text": [
      "[YELLOW][Epoch 70/100] Train Loss: 0.1895 | Val Loss: 0.1732\n"
     ]
    },
    {
     "name": "stderr",
     "output_type": "stream",
     "text": [
      "Training YELLOW:  71%|██████████████▏     | 71/100 [04:44<01:56,  4.02s/it]"
     ]
    },
    {
     "name": "stdout",
     "output_type": "stream",
     "text": [
      "[YELLOW][Epoch 71/100] Train Loss: 0.1876 | Val Loss: 0.1812\n"
     ]
    },
    {
     "name": "stderr",
     "output_type": "stream",
     "text": [
      "Training YELLOW:  72%|██████████████▍     | 72/100 [04:48<01:54,  4.07s/it]"
     ]
    },
    {
     "name": "stdout",
     "output_type": "stream",
     "text": [
      "[YELLOW][Epoch 72/100] Train Loss: 0.1858 | Val Loss: 0.1769\n"
     ]
    },
    {
     "name": "stderr",
     "output_type": "stream",
     "text": [
      "Training YELLOW:  73%|██████████████▌     | 73/100 [04:52<01:50,  4.08s/it]"
     ]
    },
    {
     "name": "stdout",
     "output_type": "stream",
     "text": [
      "[YELLOW][Epoch 73/100] Train Loss: 0.1838 | Val Loss: 0.1880\n"
     ]
    },
    {
     "name": "stderr",
     "output_type": "stream",
     "text": [
      "Training YELLOW:  74%|██████████████▊     | 74/100 [04:56<01:44,  4.04s/it]"
     ]
    },
    {
     "name": "stdout",
     "output_type": "stream",
     "text": [
      "[YELLOW][Epoch 74/100] Train Loss: 0.1819 | Val Loss: 0.1848\n"
     ]
    },
    {
     "name": "stderr",
     "output_type": "stream",
     "text": [
      "Training YELLOW:  75%|███████████████     | 75/100 [05:00<01:40,  4.02s/it]"
     ]
    },
    {
     "name": "stdout",
     "output_type": "stream",
     "text": [
      "[YELLOW][Epoch 75/100] Train Loss: 0.1803 | Val Loss: 0.1816\n"
     ]
    },
    {
     "name": "stderr",
     "output_type": "stream",
     "text": [
      "Training YELLOW:  76%|███████████████▏    | 76/100 [05:04<01:36,  4.02s/it]"
     ]
    },
    {
     "name": "stdout",
     "output_type": "stream",
     "text": [
      "[YELLOW][Epoch 76/100] Train Loss: 0.1781 | Val Loss: 0.1839\n"
     ]
    },
    {
     "name": "stderr",
     "output_type": "stream",
     "text": [
      "Training YELLOW:  77%|███████████████▍    | 77/100 [05:08<01:31,  4.00s/it]"
     ]
    },
    {
     "name": "stdout",
     "output_type": "stream",
     "text": [
      "[YELLOW][Epoch 77/100] Train Loss: 0.1765 | Val Loss: 0.1826\n"
     ]
    },
    {
     "name": "stderr",
     "output_type": "stream",
     "text": [
      "Training YELLOW:  78%|███████████████▌    | 78/100 [05:12<01:27,  3.99s/it]"
     ]
    },
    {
     "name": "stdout",
     "output_type": "stream",
     "text": [
      "[YELLOW][Epoch 78/100] Train Loss: 0.1747 | Val Loss: 0.2158\n"
     ]
    },
    {
     "name": "stderr",
     "output_type": "stream",
     "text": [
      "Training YELLOW:  79%|███████████████▊    | 79/100 [05:16<01:23,  3.97s/it]"
     ]
    },
    {
     "name": "stdout",
     "output_type": "stream",
     "text": [
      "[YELLOW][Epoch 79/100] Train Loss: 0.1728 | Val Loss: 0.1624\n"
     ]
    },
    {
     "name": "stderr",
     "output_type": "stream",
     "text": [
      "Training YELLOW:  80%|████████████████    | 80/100 [05:20<01:19,  3.97s/it]"
     ]
    },
    {
     "name": "stdout",
     "output_type": "stream",
     "text": [
      "[YELLOW][Epoch 80/100] Train Loss: 0.1712 | Val Loss: 0.1634\n"
     ]
    },
    {
     "name": "stderr",
     "output_type": "stream",
     "text": [
      "Training YELLOW:  81%|████████████████▏   | 81/100 [05:24<01:15,  3.97s/it]"
     ]
    },
    {
     "name": "stdout",
     "output_type": "stream",
     "text": [
      "[YELLOW][Epoch 81/100] Train Loss: 0.1692 | Val Loss: 0.1694\n"
     ]
    },
    {
     "name": "stderr",
     "output_type": "stream",
     "text": [
      "Training YELLOW:  82%|████████████████▍   | 82/100 [05:28<01:11,  3.98s/it]"
     ]
    },
    {
     "name": "stdout",
     "output_type": "stream",
     "text": [
      "[YELLOW][Epoch 82/100] Train Loss: 0.1674 | Val Loss: 0.1698\n"
     ]
    },
    {
     "name": "stderr",
     "output_type": "stream",
     "text": [
      "Training YELLOW:  83%|████████████████▌   | 83/100 [05:32<01:07,  3.98s/it]"
     ]
    },
    {
     "name": "stdout",
     "output_type": "stream",
     "text": [
      "[YELLOW][Epoch 83/100] Train Loss: 0.1658 | Val Loss: 0.1663\n"
     ]
    },
    {
     "name": "stderr",
     "output_type": "stream",
     "text": [
      "Training YELLOW:  84%|████████████████▊   | 84/100 [05:36<01:03,  3.97s/it]"
     ]
    },
    {
     "name": "stdout",
     "output_type": "stream",
     "text": [
      "[YELLOW][Epoch 84/100] Train Loss: 0.1643 | Val Loss: 0.1637\n"
     ]
    },
    {
     "name": "stderr",
     "output_type": "stream",
     "text": [
      "Training YELLOW:  85%|█████████████████   | 85/100 [05:40<00:59,  3.96s/it]"
     ]
    },
    {
     "name": "stdout",
     "output_type": "stream",
     "text": [
      "[YELLOW][Epoch 85/100] Train Loss: 0.1626 | Val Loss: 0.1859\n"
     ]
    },
    {
     "name": "stderr",
     "output_type": "stream",
     "text": [
      "Training YELLOW:  86%|█████████████████▏  | 86/100 [05:44<00:55,  3.96s/it]"
     ]
    },
    {
     "name": "stdout",
     "output_type": "stream",
     "text": [
      "[YELLOW][Epoch 86/100] Train Loss: 0.1608 | Val Loss: 0.1706\n"
     ]
    },
    {
     "name": "stderr",
     "output_type": "stream",
     "text": [
      "Training YELLOW:  87%|█████████████████▍  | 87/100 [05:48<00:51,  3.95s/it]"
     ]
    },
    {
     "name": "stdout",
     "output_type": "stream",
     "text": [
      "[YELLOW][Epoch 87/100] Train Loss: 0.1591 | Val Loss: 0.2255\n"
     ]
    },
    {
     "name": "stderr",
     "output_type": "stream",
     "text": [
      "Training YELLOW:  88%|█████████████████▌  | 88/100 [05:52<00:47,  3.97s/it]"
     ]
    },
    {
     "name": "stdout",
     "output_type": "stream",
     "text": [
      "[YELLOW][Epoch 88/100] Train Loss: 0.1579 | Val Loss: 0.1608\n"
     ]
    },
    {
     "name": "stderr",
     "output_type": "stream",
     "text": [
      "Training YELLOW:  89%|█████████████████▊  | 89/100 [05:56<00:43,  3.97s/it]"
     ]
    },
    {
     "name": "stdout",
     "output_type": "stream",
     "text": [
      "[YELLOW][Epoch 89/100] Train Loss: 0.1560 | Val Loss: 0.1618\n"
     ]
    },
    {
     "name": "stderr",
     "output_type": "stream",
     "text": [
      "Training YELLOW:  90%|██████████████████  | 90/100 [06:00<00:39,  3.97s/it]"
     ]
    },
    {
     "name": "stdout",
     "output_type": "stream",
     "text": [
      "[YELLOW][Epoch 90/100] Train Loss: 0.1544 | Val Loss: 0.1627\n"
     ]
    },
    {
     "name": "stderr",
     "output_type": "stream",
     "text": [
      "Training YELLOW:  91%|██████████████████▏ | 91/100 [06:04<00:35,  3.98s/it]"
     ]
    },
    {
     "name": "stdout",
     "output_type": "stream",
     "text": [
      "[YELLOW][Epoch 91/100] Train Loss: 0.1527 | Val Loss: 0.1554\n"
     ]
    },
    {
     "name": "stderr",
     "output_type": "stream",
     "text": [
      "Training YELLOW:  92%|██████████████████▍ | 92/100 [06:08<00:31,  3.98s/it]"
     ]
    },
    {
     "name": "stdout",
     "output_type": "stream",
     "text": [
      "[YELLOW][Epoch 92/100] Train Loss: 0.1513 | Val Loss: 0.1505\n"
     ]
    },
    {
     "name": "stderr",
     "output_type": "stream",
     "text": [
      "Training YELLOW:  93%|██████████████████▌ | 93/100 [06:12<00:27,  3.98s/it]"
     ]
    },
    {
     "name": "stdout",
     "output_type": "stream",
     "text": [
      "[YELLOW][Epoch 93/100] Train Loss: 0.1498 | Val Loss: 0.1467\n"
     ]
    },
    {
     "name": "stderr",
     "output_type": "stream",
     "text": [
      "Training YELLOW:  94%|██████████████████▊ | 94/100 [06:15<00:23,  3.98s/it]"
     ]
    },
    {
     "name": "stdout",
     "output_type": "stream",
     "text": [
      "[YELLOW][Epoch 94/100] Train Loss: 0.1484 | Val Loss: 0.1437\n"
     ]
    },
    {
     "name": "stderr",
     "output_type": "stream",
     "text": [
      "Training YELLOW:  95%|███████████████████ | 95/100 [06:19<00:19,  3.99s/it]"
     ]
    },
    {
     "name": "stdout",
     "output_type": "stream",
     "text": [
      "[YELLOW][Epoch 95/100] Train Loss: 0.1467 | Val Loss: 0.1436\n"
     ]
    },
    {
     "name": "stderr",
     "output_type": "stream",
     "text": [
      "Training YELLOW:  96%|███████████████████▏| 96/100 [06:23<00:15,  3.97s/it]"
     ]
    },
    {
     "name": "stdout",
     "output_type": "stream",
     "text": [
      "[YELLOW][Epoch 96/100] Train Loss: 0.1452 | Val Loss: 0.1429\n"
     ]
    },
    {
     "name": "stderr",
     "output_type": "stream",
     "text": [
      "Training YELLOW:  97%|███████████████████▍| 97/100 [06:27<00:11,  3.98s/it]"
     ]
    },
    {
     "name": "stdout",
     "output_type": "stream",
     "text": [
      "[YELLOW][Epoch 97/100] Train Loss: 0.1440 | Val Loss: 0.1423\n"
     ]
    },
    {
     "name": "stderr",
     "output_type": "stream",
     "text": [
      "Training YELLOW:  98%|███████████████████▌| 98/100 [06:31<00:07,  3.99s/it]"
     ]
    },
    {
     "name": "stdout",
     "output_type": "stream",
     "text": [
      "[YELLOW][Epoch 98/100] Train Loss: 0.1423 | Val Loss: 0.1438\n"
     ]
    },
    {
     "name": "stderr",
     "output_type": "stream",
     "text": [
      "Training YELLOW:  99%|███████████████████▊| 99/100 [06:35<00:04,  4.00s/it]"
     ]
    },
    {
     "name": "stdout",
     "output_type": "stream",
     "text": [
      "[YELLOW][Epoch 99/100] Train Loss: 0.1411 | Val Loss: 0.1437\n"
     ]
    },
    {
     "name": "stderr",
     "output_type": "stream",
     "text": [
      "Training YELLOW: 100%|███████████████████| 100/100 [06:39<00:00,  4.00s/it]"
     ]
    },
    {
     "name": "stdout",
     "output_type": "stream",
     "text": [
      "[YELLOW][Epoch 100/100] Train Loss: 0.1395 | Val Loss: 0.1488\n",
      "✔️ Meilleur modèle YELLOW sauvegardé — Epoch 97, Train Loss: 0.1440, Val Loss: 0.1423\n"
     ]
    },
    {
     "name": "stderr",
     "output_type": "stream",
     "text": [
      "\n"
     ]
    }
   ],
   "source": [
    "import torch\n",
    "from torch.utils.data import DataLoader\n",
    "from tqdm import tqdm\n",
    "\n",
    "criterion = nn.BCEWithLogitsLoss()  # ta loss\n",
    "axes = ['red', 'green', 'yellow']\n",
    "\n",
    "train_losses_by_axis = {}\n",
    "valid_losses_by_axis = {}\n",
    "\n",
    "for axis in axes:\n",
    "    print(f\"\\n Entraînement pour l'axe : {axis.upper()}\")\n",
    "\n",
    "    # === Chargement des datasets ===\n",
    "    train_dataset = all_datasets[axis]['train']\n",
    "    val_dataset = all_datasets[axis]['val']\n",
    "\n",
    "    train_dataloader = DataLoader(train_dataset, batch_size=BATCH_SIZE, shuffle=True)\n",
    "    val_dataloader = DataLoader(val_dataset, batch_size=BATCH_SIZE)\n",
    "\n",
    "    # === Initialisation du modèle et de l'optimizer ===\n",
    "    model = UNet(input_shape=input_shape, output_shape=output_shape, init_channels=init_channels).to(device)\n",
    "    optimizer = torch.optim.AdamW(model.parameters(), lr=LEARNING_RATE)\n",
    "\n",
    "    # Suivi des pertes\n",
    "    train_losses = []\n",
    "    valid_losses = []\n",
    "    best_valid_loss = float('inf')\n",
    "    best_model = None\n",
    "    best_epoch = 0\n",
    "\n",
    "    for epoch in tqdm(range(n_epochs), desc=f\"Training {axis.upper()}\"):\n",
    "        model.train()\n",
    "        train_loss = 0.0\n",
    "\n",
    "        for images, labels, _ in train_dataloader:\n",
    "            images, labels = images.to(device), labels.to(device)\n",
    "            optimizer.zero_grad()\n",
    "            outputs = model(images)\n",
    "            loss = criterion(outputs, labels)\n",
    "            loss.backward()\n",
    "            optimizer.step()\n",
    "            train_loss += loss.item() * images.size(0)\n",
    "\n",
    "        avg_train_loss = train_loss / len(train_dataloader.dataset)\n",
    "        train_losses.append(avg_train_loss)\n",
    "\n",
    "        # === Validation ===\n",
    "        model.eval()\n",
    "        val_loss = 0.0\n",
    "        with torch.no_grad():\n",
    "            for val_images, val_labels, _ in val_dataloader:\n",
    "                val_images, val_labels = val_images.to(device), val_labels.to(device)\n",
    "                val_outputs = model(val_images)\n",
    "                loss = criterion(val_outputs, val_labels)\n",
    "                val_loss += loss.item() * val_images.size(0)\n",
    "\n",
    "        avg_val_loss = val_loss / len(val_dataloader.dataset)\n",
    "        valid_losses.append(avg_val_loss)\n",
    "\n",
    "        print(f\"[{axis.upper()}][Epoch {epoch+1}/{n_epochs}] Train Loss: {avg_train_loss:.4f} | Val Loss: {avg_val_loss:.4f}\")\n",
    "\n",
    "        # Enregistrement du meilleur modèle\n",
    "        if avg_val_loss < best_valid_loss:\n",
    "            best_valid_loss = avg_val_loss\n",
    "            best_model = model.state_dict()\n",
    "            best_epoch = epoch + 1\n",
    "            best_train_loss = avg_train_loss\n",
    "\n",
    "    # === Sauvegarde du meilleur modèle ===\n",
    "    model.load_state_dict(best_model)\n",
    "    torch.save(best_model, f\"best_unet_{axis}.pth\")\n",
    "\n",
    "    print(f\" Meilleur modèle {axis.upper()} sauvegardé — Epoch {best_epoch}, Train Loss: {best_train_loss:.4f}, Val Loss: {best_valid_loss:.4f}\")\n",
    "\n",
    "    train_losses_by_axis[axis] = train_losses\n",
    "    valid_losses_by_axis[axis] = valid_losses\n"
   ]
  },
  {
   "cell_type": "markdown",
   "metadata": {},
   "source": [
    "### <span style=\"color:brown\"> 4.2 Display train / valid curves"
   ]
  },
  {
   "cell_type": "code",
   "execution_count": 24,
   "metadata": {},
   "outputs": [
    {
     "data": {
      "image/png": "[encoded data removed]",
      "text/plain": [
       "<Figure size 1500x500 with 3 Axes>"
      ]
     },
     "metadata": {},
     "output_type": "display_data"
    }
   ],
   "source": [
    "import matplotlib.pyplot as plt\n",
    "\n",
    "plt.figure(figsize=(15, 5))\n",
    "\n",
    "for i, axis in enumerate(['red', 'green', 'yellow']):\n",
    "    plt.subplot(1, 3, i + 1)\n",
    "    \n",
    "    train_loss = train_losses_by_axis[axis]\n",
    "    val_loss = valid_losses_by_axis[axis]\n",
    "\n",
    "    plt.plot(train_loss, label='Train Loss')\n",
    "    plt.plot(val_loss, label='Validation Loss')\n",
    "    plt.title(f\"Loss - {axis.upper()}\")\n",
    "    plt.xlabel(\"Epoch\")\n",
    "    plt.ylabel(\"Loss\")\n",
    "    plt.legend()\n",
    "    plt.grid(True)\n",
    "\n",
    "plt.tight_layout()\n",
    "plt.suptitle(\"Courbes d'entraînement et de validation pour chaque axe\", fontsize=16, y=1.05)\n",
    "plt.show()"
   ]
  },
  {
   "cell_type": "markdown",
   "metadata": {},
   "source": [
    "---\n",
    "## <span style=\"color:brown\"> 5. Perform the inference on the test dataset\n",
    "\n",
    "\n",
    "### <span style=\"color:brown\"> 5.1 Load the weight of the best model\n",
    "You could use other weights for your model..."
   ]
  },
  {
   "cell_type": "code",
   "execution_count": 25,
   "metadata": {},
   "outputs": [
    {
     "name": "stdout",
     "output_type": "stream",
     "text": [
      "Chargement du modèle pour l’axe : RED\n",
      "Chargement du modèle pour l’axe : GREEN\n",
      "Chargement du modèle pour l’axe : YELLOW\n"
     ]
    }
   ],
   "source": [
    "from collections import OrderedDict\n",
    "\n",
    "# === Paramètres du modèle ===\n",
    "input_shape = (1, width, height)  # tu travailles en niveaux de gris\n",
    "num_classes = 1\n",
    "output_shape = (num_classes, width, height)\n",
    "init_channels = 32\n",
    "\n",
    "# === Dictionnaire pour stocker les modèles ===\n",
    "models_by_axis = {}\n",
    "\n",
    "for axis in ['red', 'green', 'yellow']:\n",
    "    print(f\"Chargement du modèle pour l’axe : {axis.upper()}\")\n",
    "    \n",
    "    # Initialiser un nouveau modèle\n",
    "    model = UNet(input_shape=input_shape, output_shape=output_shape, init_channels=init_channels).to(device)\n",
    "    \n",
    "    # Charger les poids depuis le fichier\n",
    "    weights_path = f\"best_unet_{axis}.pth\"\n",
    "    state_dict = torch.load(weights_path, map_location=device)\n",
    "\n",
    "    # Charger les poids dans le modèle\n",
    "    model.load_state_dict(state_dict)\n",
    "    model.eval()  # pour l'inférence (désactive dropout et batchnorm)\n",
    "    \n",
    "    # Stocker le modèle dans le dictionnaire\n",
    "    models_by_axis[axis] = model"
   ]
  },
  {
   "cell_type": "markdown",
   "metadata": {},
   "source": [
    "Then, we perform the inference on a sample from the test dataset and plot the prediction.\n",
    "Run the following cell many times to test several images.\n",
    "**Take care of the dimensions of tensors and data !...**\n"
   ]
  },
  {
   "cell_type": "markdown",
   "metadata": {},
   "source": [
    "### <span style=\"color:brown\"> 5.2 Test and visualized the results on one sample of the test_dataset\n",
    "\n",
    "We compare the computation of Dice and IoU metrics using two approaches:\n",
    "1. **Custom Functions**: Defined directly in the code.\n",
    "2. **MONAI Metrics**: Utilizing the built-in metrics provided by the MONAI library."
   ]
  },
  {
   "cell_type": "code",
   "execution_count": 33,
   "metadata": {},
   "outputs": [
    {
     "name": "stdout",
     "output_type": "stream",
     "text": [
      "num_workers = 0\n",
      "Création du test_dataloader pour l'axe RED\n",
      "Création du test_dataloader pour l'axe GREEN\n",
      "Création du test_dataloader pour l'axe YELLOW\n"
     ]
    }
   ],
   "source": [
    "from torch.utils.data import DataLoader\n",
    "import os\n",
    "\n",
    "# Configuration\n",
    "num_workers=0\n",
    "print(\"num_workers =\", num_workers)\n",
    "\n",
    "# Création des test_dataloader par axe (batch=1 pour affichage)\n",
    "test_dataloaders = {}\n",
    "test_iterators = {}\n",
    "\n",
    "for axis in ['red', 'green', 'yellow']:\n",
    "    print(f\"Création du test_dataloader pour l'axe {axis.upper()}\")\n",
    "    \n",
    "    test_dataset = all_datasets[axis]['test']\n",
    "    \n",
    "    test_loader = DataLoader(\n",
    "        test_dataset,\n",
    "        batch_size=1,\n",
    "        pin_memory=torch.cuda.is_available(),\n",
    "        shuffle=False,\n",
    "        num_workers=num_workers\n",
    "    )\n",
    "    \n",
    "    # Stocker le dataloader et son itérateur\n",
    "    test_dataloaders[axis] = test_loader\n",
    "    test_iterators[axis] = iter(test_loader)\n"
   ]
  },
  {
   "cell_type": "code",
   "execution_count": 38,
   "metadata": {},
   "outputs": [
    {
     "name": "stdout",
     "output_type": "stream",
     "text": [
      "\n",
      "🔍 Affichage prédictions multi-seuils pour l'axe RED\n"
     ]
    },
    {
     "data": {
      "image/png": "[encoded data removed]",
      "text/plain": [
       "<Figure size 2400x400 with 6 Axes>"
      ]
     },
     "metadata": {},
     "output_type": "display_data"
    },
    {
     "name": "stdout",
     "output_type": "stream",
     "text": [
      "\n",
      "🔍 Affichage prédictions multi-seuils pour l'axe GREEN\n"
     ]
    },
    {
     "data": {
      "image/png": "[encoded data removed]",
      "text/plain": [
       "<Figure size 2400x400 with 6 Axes>"
      ]
     },
     "metadata": {},
     "output_type": "display_data"
    },
    {
     "name": "stdout",
     "output_type": "stream",
     "text": [
      "\n",
      "🔍 Affichage prédictions multi-seuils pour l'axe YELLOW\n"
     ]
    },
    {
     "data": {
      "image/png": "[encoded data removed]",
      "text/plain": [
       "<Figure size 2400x400 with 6 Axes>"
      ]
     },
     "metadata": {},
     "output_type": "display_data"
    }
   ],
   "source": [
    "import matplotlib.pyplot as plt\n",
    "import torch\n",
    "import os\n",
    "\n",
    "# Seuils à tester\n",
    "thresholds = [0.1, 0.25, 0.35, 0.5]\n",
    "\n",
    "for axis in ['red', 'green', 'yellow']:\n",
    "    print(f\"\\n Affichage prédictions multi-seuils pour l'axe {axis.upper()}\")\n",
    "\n",
    "    model = models_by_axis[axis]\n",
    "    model.eval()\n",
    "\n",
    "    test_iter = iter(test_dataloaders[axis])\n",
    "    image, label, path = next(test_iter)\n",
    "    image, label = image.to(device), label.to(device)\n",
    "\n",
    "    with torch.no_grad():\n",
    "        pred = model(image)\n",
    "        pred_sigmoid = torch.sigmoid(pred)\n",
    "\n",
    "    # Nombre total de colonnes : image + label + prédictions pour chaque seuil\n",
    "    n_cols = 2 + len(thresholds)\n",
    "    plt.figure(figsize=(4 * n_cols, 4))\n",
    "    plt.suptitle(f\"Axe {axis.upper()} – {os.path.basename(path[0])}\", fontsize=14)\n",
    "\n",
    "    # Image brute\n",
    "    plt.subplot(1, n_cols, 1)\n",
    "    plt.imshow(image[0, 0].cpu(), cmap='gray')\n",
    "    plt.title(\"Image\")\n",
    "    plt.axis('off')\n",
    "\n",
    "    # Masque réel\n",
    "    plt.subplot(1, n_cols, 2)\n",
    "    plt.imshow(label[0, 0].cpu(), cmap='gray')\n",
    "    plt.title(\"Masque réel\")\n",
    "    plt.axis('off')\n",
    "\n",
    "    # Prédictions à différents seuils\n",
    "    for i, thresh in enumerate(thresholds):\n",
    "        pred_bin = (pred_sigmoid > thresh).float()\n",
    "        plt.subplot(1, n_cols, 3 + i)\n",
    "        plt.imshow(pred_bin[0, 0].cpu(), cmap='jet')\n",
    "        plt.title(f\"Seuil {thresh:.2f}\")\n",
    "        plt.axis('off')\n",
    "\n",
    "    plt.tight_layout()\n",
    "    plt.show()\n"
   ]
  },
  {
   "cell_type": "markdown",
   "metadata": {},
   "source": [
    "---\n",
    "### <span style=\"color:brown\"> 5.3 Computing Metrics on the Entire Test Dataset\n",
    "\n",
    "In this section, we evaluate the segmentation accuracy across the entire test dataset.\n",
    "\n",
    "Various metrics can be used for this purpose (refer to your lecture notes for details). You are encouraged to explore and implement additional metrics to test their performance.\n",
    "\n",
    "### Metrics Used:\n",
    "- **Dice Score**: Used here to measure segmentation accuracy.\n",
    "- **IoU Metric**: Add your own user-defined implementation to compute IoU.\n",
    "- **MONAI Metrics**: Experiment with MONAI's built-in metrics for comparison.\n",
    "    (https://docs.monai.io/en/stable/metrics.html"
   ]
  },
  {
   "cell_type": "code",
   "execution_count": 41,
   "metadata": {},
   "outputs": [
    {
     "name": "stderr",
     "output_type": "stream",
     "text": [
      "  0%|                                                | 0/6 [00:00<?, ?it/s]"
     ]
    },
    {
     "name": "stdout",
     "output_type": "stream",
     "text": [
      "0. img.shape: torch.Size([1, 1, 304, 752]) 0. mask.shape: torch.Size([1, 1, 304, 752])\n"
     ]
    },
    {
     "name": "stderr",
     "output_type": "stream",
     "text": [
      " 50%|████████████████████                    | 3/6 [00:00<00:00,  8.60it/s]"
     ]
    },
    {
     "name": "stdout",
     "output_type": "stream",
     "text": [
      "1.y_pred.shape: torch.Size([1, 1, 304, 752]) 1. mask.shape: torch.Size([1, 1, 304, 752]) 1. np_y_pred: torch.Size([5, 1, 304, 752])\n"
     ]
    },
    {
     "name": "stderr",
     "output_type": "stream",
     "text": [
      "100%|████████████████████████████████████████| 6/6 [00:00<00:00, 10.46it/s]\n"
     ]
    },
    {
     "name": "stdout",
     "output_type": "stream",
     "text": [
      "Final Dice Metric 1 : 0.324\n",
      "Final Dice Metric 2  : 0.305\n",
      "test Loss : 0.058\n"
     ]
    }
   ],
   "source": [
    "# Custom functions\n",
    "# Implementation 2: Dice Coefficient ( PyTorch version- Tensor operations)\n",
    "def dice_coefficient(prediction, target, epsilon=1e-07):\n",
    "    prediction_copy = prediction.clone()\n",
    "    prediction_copy[prediction_copy < 0] = 0\n",
    "    prediction_copy[prediction_copy > 0] = 1\n",
    "    intersection = abs(torch.sum(prediction_copy * target))\n",
    "    union = abs(torch.sum(prediction_copy) + torch.sum(target))\n",
    "    dice = (2. * intersection + epsilon) / (union + epsilon)\n",
    "    return dice\n",
    "\n",
    "# Implementation 1: Dice Score (NumPy Version - Array operations)\n",
    "def dice_score(pred, label):\n",
    "    smooth = 1e-6\n",
    "    intersection = np.sum(pred * label)\n",
    "    return 2. * intersection / (np.sum(pred) + np.sum(label) + smooth)\n",
    "    \n",
    "#  IoU Score (Intersection over Union)  (NumPy Version - Array operations)\n",
    "def iou_score(pred, label):\n",
    "    return jaccard_score(label.flatten(), pred.flatten())\n",
    "\n",
    "test_running_loss = 0\n",
    "test_running_dc1 = 0\n",
    "test_running_dc2 = 0  # comparison with dice_score function\n",
    "\n",
    "model.eval()\n",
    "with torch.no_grad():\n",
    "    for idx, img_mask in enumerate(tqdm(test_dataloader, position=0, leave=True)):\n",
    "        img = img_mask[0].float().to(device)\n",
    "        mask = img_mask[1].float().to(device)\n",
    "        if idx==0:\n",
    "            print(\"0. img.shape:\", img.shape,\"0. mask.shape:\",mask.shape)\n",
    "        y_pred = model(img)\n",
    "        loss = criterion(y_pred, mask)\n",
    "        dc1 = dice_coefficient(y_pred, mask)\n",
    "        \n",
    "        y_pred = (torch.sigmoid(y_pred) > 0.3).float()\n",
    "        np_mask = mask.squeeze(dim=0).squeeze(dim=0).detach().cpu().numpy()  # Same here\n",
    "        np_y_pred = y_pred.squeeze(dim=0).squeeze(dim=0).detach().cpu().numpy()  # Sequentially remove the first two dimensions\n",
    "        if idx==0:\n",
    "            print(\"1.y_pred.shape:\", y_pred.shape, \"1. mask.shape:\", mask.shape,\"1. np_y_pred:\", pred.shape)\n",
    "        dc2 = dice_score(np_y_pred, np_mask)\n",
    "       \n",
    "        test_running_loss += loss.item()\n",
    "        test_running_dc1 += dc1.item()\n",
    "        test_running_dc2 += dc2.item()\n",
    "\n",
    "    test_loss = test_running_loss / (idx + 1)\n",
    "    test_dc1 = test_running_dc1 / (idx + 1)\n",
    "    test_dc2 = test_running_dc2 / (idx + 1)\n",
    "\n",
    "print(f\"Final Dice Metric 1 : {test_dc1:.3f}\")\n",
    "print(f\"Final Dice Metric 2  : {test_dc2:.3f}\")\n",
    "print(f\"test Loss : {test_loss:.3f}\")\n",
    "\n",
    "\"\"\" Essai Dice et IoU de Monai à revoir, à ne pas effacer !!!!\"\"\"\n",
    "import torch\n",
    "import numpy as np\n",
    "import matplotlib.pyplot as plt\n",
    "import torch.nn.functional as F\n",
    "from monai.networks.nets import UNet\n",
    "from sklearn.metrics import jaccard_score\n",
    "from monai.metrics import  DiceMetric, MeanIoU\n",
    "\n",
    "# Check the device\n",
    "device = torch.device(\"cuda\" if torch.cuda.is_available() else \"cpu\")\n",
    "\n",
    "# Metrics initialisation\n",
    "dice_metric = DiceMetric(include_background=True, reduction=\"mean\")\n",
    "iou_metric = MeanIoU(include_background=True)  # No num_classes argument\n",
    "\n",
    "# Dice and IoU metrics from monai, reset before use\n",
    "dice_metric.reset()\n",
    "iou_metric.reset()\n",
    "\n",
    "\n"
   ]
  },
  {
   "cell_type": "markdown",
   "metadata": {},
   "source": [
    "### 5.4 Hidden"
   ]
  },
  {
   "cell_type": "code",
   "execution_count": 42,
   "metadata": {},
   "outputs": [
    {
     "name": "stdout",
     "output_type": "stream",
     "text": [
      "\n",
      "🔎 RED – Évaluation pour seuil 0.20\n"
     ]
    },
    {
     "name": "stderr",
     "output_type": "stream",
     "text": [
      "                                                                           "
     ]
    },
    {
     "name": "stdout",
     "output_type": "stream",
     "text": [
      "\n",
      "🔎 RED – Évaluation pour seuil 0.25\n"
     ]
    },
    {
     "name": "stderr",
     "output_type": "stream",
     "text": [
      "                                                                           "
     ]
    },
    {
     "name": "stdout",
     "output_type": "stream",
     "text": [
      "\n",
      "🔎 RED – Évaluation pour seuil 0.30\n"
     ]
    },
    {
     "name": "stderr",
     "output_type": "stream",
     "text": [
      "                                                                           "
     ]
    },
    {
     "name": "stdout",
     "output_type": "stream",
     "text": [
      "\n",
      "🔎 RED – Évaluation pour seuil 0.35\n"
     ]
    },
    {
     "name": "stderr",
     "output_type": "stream",
     "text": [
      "                                                                           "
     ]
    },
    {
     "name": "stdout",
     "output_type": "stream",
     "text": [
      "\n",
      "🔎 RED – Évaluation pour seuil 0.40\n"
     ]
    },
    {
     "name": "stderr",
     "output_type": "stream",
     "text": [
      "                                                                           "
     ]
    },
    {
     "name": "stdout",
     "output_type": "stream",
     "text": [
      "\n",
      "🔎 RED – Évaluation pour seuil 0.45\n"
     ]
    },
    {
     "name": "stderr",
     "output_type": "stream",
     "text": [
      "                                                                           "
     ]
    },
    {
     "name": "stdout",
     "output_type": "stream",
     "text": [
      "\n",
      "🔎 RED – Évaluation pour seuil 0.50\n"
     ]
    },
    {
     "name": "stderr",
     "output_type": "stream",
     "text": [
      "                                                                           "
     ]
    },
    {
     "name": "stdout",
     "output_type": "stream",
     "text": [
      "\n",
      "🔎 GREEN – Évaluation pour seuil 0.20\n"
     ]
    },
    {
     "name": "stderr",
     "output_type": "stream",
     "text": [
      "                                                                           "
     ]
    },
    {
     "name": "stdout",
     "output_type": "stream",
     "text": [
      "\n",
      "🔎 GREEN – Évaluation pour seuil 0.25\n"
     ]
    },
    {
     "name": "stderr",
     "output_type": "stream",
     "text": [
      "                                                                           "
     ]
    },
    {
     "name": "stdout",
     "output_type": "stream",
     "text": [
      "\n",
      "🔎 GREEN – Évaluation pour seuil 0.30\n"
     ]
    },
    {
     "name": "stderr",
     "output_type": "stream",
     "text": [
      "                                                                           "
     ]
    },
    {
     "name": "stdout",
     "output_type": "stream",
     "text": [
      "\n",
      "🔎 GREEN – Évaluation pour seuil 0.35\n"
     ]
    },
    {
     "name": "stderr",
     "output_type": "stream",
     "text": [
      "                                                                           "
     ]
    },
    {
     "name": "stdout",
     "output_type": "stream",
     "text": [
      "\n",
      "🔎 GREEN – Évaluation pour seuil 0.40\n"
     ]
    },
    {
     "name": "stderr",
     "output_type": "stream",
     "text": [
      "                                                                           "
     ]
    },
    {
     "name": "stdout",
     "output_type": "stream",
     "text": [
      "\n",
      "🔎 GREEN – Évaluation pour seuil 0.45\n"
     ]
    },
    {
     "name": "stderr",
     "output_type": "stream",
     "text": [
      "                                                                           "
     ]
    },
    {
     "name": "stdout",
     "output_type": "stream",
     "text": [
      "\n",
      "🔎 GREEN – Évaluation pour seuil 0.50\n"
     ]
    },
    {
     "name": "stderr",
     "output_type": "stream",
     "text": [
      "                                                                           "
     ]
    },
    {
     "name": "stdout",
     "output_type": "stream",
     "text": [
      "\n",
      "🔎 YELLOW – Évaluation pour seuil 0.20\n"
     ]
    },
    {
     "name": "stderr",
     "output_type": "stream",
     "text": [
      "                                                                           "
     ]
    },
    {
     "name": "stdout",
     "output_type": "stream",
     "text": [
      "\n",
      "🔎 YELLOW – Évaluation pour seuil 0.25\n"
     ]
    },
    {
     "name": "stderr",
     "output_type": "stream",
     "text": [
      "                                                                           "
     ]
    },
    {
     "name": "stdout",
     "output_type": "stream",
     "text": [
      "\n",
      "🔎 YELLOW – Évaluation pour seuil 0.30\n"
     ]
    },
    {
     "name": "stderr",
     "output_type": "stream",
     "text": [
      "                                                                           "
     ]
    },
    {
     "name": "stdout",
     "output_type": "stream",
     "text": [
      "\n",
      "🔎 YELLOW – Évaluation pour seuil 0.35\n"
     ]
    },
    {
     "name": "stderr",
     "output_type": "stream",
     "text": [
      "                                                                           "
     ]
    },
    {
     "name": "stdout",
     "output_type": "stream",
     "text": [
      "\n",
      "🔎 YELLOW – Évaluation pour seuil 0.40\n"
     ]
    },
    {
     "name": "stderr",
     "output_type": "stream",
     "text": [
      "                                                                           "
     ]
    },
    {
     "name": "stdout",
     "output_type": "stream",
     "text": [
      "\n",
      "🔎 YELLOW – Évaluation pour seuil 0.45\n"
     ]
    },
    {
     "name": "stderr",
     "output_type": "stream",
     "text": [
      "                                                                           "
     ]
    },
    {
     "name": "stdout",
     "output_type": "stream",
     "text": [
      "\n",
      "🔎 YELLOW – Évaluation pour seuil 0.50\n"
     ]
    },
    {
     "name": "stderr",
     "output_type": "stream",
     "text": [
      "                                                                           "
     ]
    },
    {
     "data": {
      "text/html": [
       "<div>\n",
       "<style scoped>\n",
       "    .dataframe tbody tr th:only-of-type {\n",
       "        vertical-align: middle;\n",
       "    }\n",
       "\n",
       "    .dataframe tbody tr th {\n",
       "        vertical-align: top;\n",
       "    }\n",
       "\n",
       "    .dataframe thead th {\n",
       "        text-align: right;\n",
       "    }\n",
       "</style>\n",
       "<table border=\"1\" class=\"dataframe\">\n",
       "  <thead>\n",
       "    <tr style=\"text-align: right;\">\n",
       "      <th></th>\n",
       "      <th></th>\n",
       "      <th>loss</th>\n",
       "      <th>dice_custom</th>\n",
       "      <th>iou_custom</th>\n",
       "      <th>dice_monai</th>\n",
       "      <th>iou_monai</th>\n",
       "      <th>hd95</th>\n",
       "    </tr>\n",
       "  </thead>\n",
       "  <tbody>\n",
       "    <tr>\n",
       "      <th rowspan=\"7\" valign=\"top\">red</th>\n",
       "      <th>0.20</th>\n",
       "      <td>0.062717</td>\n",
       "      <td>0.435029</td>\n",
       "      <td>0.293607</td>\n",
       "      <td>0.435029</td>\n",
       "      <td>0.293607</td>\n",
       "      <td>60.950884</td>\n",
       "    </tr>\n",
       "    <tr>\n",
       "      <th>0.25</th>\n",
       "      <td>0.062717</td>\n",
       "      <td>0.462471</td>\n",
       "      <td>0.318426</td>\n",
       "      <td>0.462471</td>\n",
       "      <td>0.318426</td>\n",
       "      <td>58.005830</td>\n",
       "    </tr>\n",
       "    <tr>\n",
       "      <th>0.30</th>\n",
       "      <td>0.062717</td>\n",
       "      <td>0.481786</td>\n",
       "      <td>0.336510</td>\n",
       "      <td>0.481786</td>\n",
       "      <td>0.336510</td>\n",
       "      <td>56.053928</td>\n",
       "    </tr>\n",
       "    <tr>\n",
       "      <th>0.35</th>\n",
       "      <td>0.062717</td>\n",
       "      <td>0.498735</td>\n",
       "      <td>0.352693</td>\n",
       "      <td>0.498735</td>\n",
       "      <td>0.352693</td>\n",
       "      <td>54.727630</td>\n",
       "    </tr>\n",
       "    <tr>\n",
       "      <th>0.40</th>\n",
       "      <td>0.062717</td>\n",
       "      <td>0.510882</td>\n",
       "      <td>0.364619</td>\n",
       "      <td>0.510882</td>\n",
       "      <td>0.364619</td>\n",
       "      <td>54.360651</td>\n",
       "    </tr>\n",
       "    <tr>\n",
       "      <th>0.45</th>\n",
       "      <td>0.062717</td>\n",
       "      <td>0.519846</td>\n",
       "      <td>0.373329</td>\n",
       "      <td>0.519846</td>\n",
       "      <td>0.373329</td>\n",
       "      <td>53.708253</td>\n",
       "    </tr>\n",
       "    <tr>\n",
       "      <th>0.50</th>\n",
       "      <td>0.062717</td>\n",
       "      <td>0.522370</td>\n",
       "      <td>0.375840</td>\n",
       "      <td>0.522370</td>\n",
       "      <td>0.375840</td>\n",
       "      <td>52.300743</td>\n",
       "    </tr>\n",
       "    <tr>\n",
       "      <th rowspan=\"7\" valign=\"top\">green</th>\n",
       "      <th>0.20</th>\n",
       "      <td>0.095491</td>\n",
       "      <td>0.587042</td>\n",
       "      <td>0.416528</td>\n",
       "      <td>0.587042</td>\n",
       "      <td>0.416528</td>\n",
       "      <td>123.654816</td>\n",
       "    </tr>\n",
       "    <tr>\n",
       "      <th>0.25</th>\n",
       "      <td>0.095491</td>\n",
       "      <td>0.601229</td>\n",
       "      <td>0.431134</td>\n",
       "      <td>0.601229</td>\n",
       "      <td>0.431134</td>\n",
       "      <td>125.665621</td>\n",
       "    </tr>\n",
       "    <tr>\n",
       "      <th>0.30</th>\n",
       "      <td>0.095491</td>\n",
       "      <td>0.595140</td>\n",
       "      <td>0.425428</td>\n",
       "      <td>0.595140</td>\n",
       "      <td>0.425428</td>\n",
       "      <td>129.311599</td>\n",
       "    </tr>\n",
       "    <tr>\n",
       "      <th>0.35</th>\n",
       "      <td>0.095491</td>\n",
       "      <td>0.543525</td>\n",
       "      <td>0.375725</td>\n",
       "      <td>0.543525</td>\n",
       "      <td>0.375725</td>\n",
       "      <td>133.708258</td>\n",
       "    </tr>\n",
       "    <tr>\n",
       "      <th>0.40</th>\n",
       "      <td>0.095491</td>\n",
       "      <td>0.445285</td>\n",
       "      <td>0.290042</td>\n",
       "      <td>0.445285</td>\n",
       "      <td>0.290042</td>\n",
       "      <td>142.378529</td>\n",
       "    </tr>\n",
       "    <tr>\n",
       "      <th>0.45</th>\n",
       "      <td>0.095491</td>\n",
       "      <td>0.334769</td>\n",
       "      <td>0.204265</td>\n",
       "      <td>0.334769</td>\n",
       "      <td>0.204265</td>\n",
       "      <td>149.458567</td>\n",
       "    </tr>\n",
       "    <tr>\n",
       "      <th>0.50</th>\n",
       "      <td>0.095491</td>\n",
       "      <td>0.213350</td>\n",
       "      <td>0.122827</td>\n",
       "      <td>0.213350</td>\n",
       "      <td>0.122827</td>\n",
       "      <td>193.524826</td>\n",
       "    </tr>\n",
       "    <tr>\n",
       "      <th rowspan=\"7\" valign=\"top\">yellow</th>\n",
       "      <th>0.20</th>\n",
       "      <td>0.147652</td>\n",
       "      <td>0.307064</td>\n",
       "      <td>0.181531</td>\n",
       "      <td>0.307064</td>\n",
       "      <td>0.181531</td>\n",
       "      <td>410.986418</td>\n",
       "    </tr>\n",
       "    <tr>\n",
       "      <th>0.25</th>\n",
       "      <td>0.147652</td>\n",
       "      <td>0.538190</td>\n",
       "      <td>0.368742</td>\n",
       "      <td>0.538190</td>\n",
       "      <td>0.368742</td>\n",
       "      <td>58.648869</td>\n",
       "    </tr>\n",
       "    <tr>\n",
       "      <th>0.30</th>\n",
       "      <td>0.147652</td>\n",
       "      <td>0.603701</td>\n",
       "      <td>0.433320</td>\n",
       "      <td>0.603701</td>\n",
       "      <td>0.433320</td>\n",
       "      <td>64.554961</td>\n",
       "    </tr>\n",
       "    <tr>\n",
       "      <th>0.35</th>\n",
       "      <td>0.147652</td>\n",
       "      <td>0.627037</td>\n",
       "      <td>0.458233</td>\n",
       "      <td>0.627037</td>\n",
       "      <td>0.458233</td>\n",
       "      <td>66.438921</td>\n",
       "    </tr>\n",
       "    <tr>\n",
       "      <th>0.40</th>\n",
       "      <td>0.147652</td>\n",
       "      <td>0.566716</td>\n",
       "      <td>0.396847</td>\n",
       "      <td>0.566716</td>\n",
       "      <td>0.396847</td>\n",
       "      <td>71.715292</td>\n",
       "    </tr>\n",
       "    <tr>\n",
       "      <th>0.45</th>\n",
       "      <td>0.147652</td>\n",
       "      <td>0.320848</td>\n",
       "      <td>0.191453</td>\n",
       "      <td>0.320848</td>\n",
       "      <td>0.191453</td>\n",
       "      <td>164.458037</td>\n",
       "    </tr>\n",
       "    <tr>\n",
       "      <th>0.50</th>\n",
       "      <td>0.147652</td>\n",
       "      <td>0.158267</td>\n",
       "      <td>0.086023</td>\n",
       "      <td>0.158267</td>\n",
       "      <td>0.086023</td>\n",
       "      <td>241.631961</td>\n",
       "    </tr>\n",
       "  </tbody>\n",
       "</table>\n",
       "</div>"
      ],
      "text/plain": [
       "                 loss  dice_custom  iou_custom  dice_monai  iou_monai  \\\n",
       "red    0.20  0.062717     0.435029    0.293607    0.435029   0.293607   \n",
       "       0.25  0.062717     0.462471    0.318426    0.462471   0.318426   \n",
       "       0.30  0.062717     0.481786    0.336510    0.481786   0.336510   \n",
       "       0.35  0.062717     0.498735    0.352693    0.498735   0.352693   \n",
       "       0.40  0.062717     0.510882    0.364619    0.510882   0.364619   \n",
       "       0.45  0.062717     0.519846    0.373329    0.519846   0.373329   \n",
       "       0.50  0.062717     0.522370    0.375840    0.522370   0.375840   \n",
       "green  0.20  0.095491     0.587042    0.416528    0.587042   0.416528   \n",
       "       0.25  0.095491     0.601229    0.431134    0.601229   0.431134   \n",
       "       0.30  0.095491     0.595140    0.425428    0.595140   0.425428   \n",
       "       0.35  0.095491     0.543525    0.375725    0.543525   0.375725   \n",
       "       0.40  0.095491     0.445285    0.290042    0.445285   0.290042   \n",
       "       0.45  0.095491     0.334769    0.204265    0.334769   0.204265   \n",
       "       0.50  0.095491     0.213350    0.122827    0.213350   0.122827   \n",
       "yellow 0.20  0.147652     0.307064    0.181531    0.307064   0.181531   \n",
       "       0.25  0.147652     0.538190    0.368742    0.538190   0.368742   \n",
       "       0.30  0.147652     0.603701    0.433320    0.603701   0.433320   \n",
       "       0.35  0.147652     0.627037    0.458233    0.627037   0.458233   \n",
       "       0.40  0.147652     0.566716    0.396847    0.566716   0.396847   \n",
       "       0.45  0.147652     0.320848    0.191453    0.320848   0.191453   \n",
       "       0.50  0.147652     0.158267    0.086023    0.158267   0.086023   \n",
       "\n",
       "                   hd95  \n",
       "red    0.20   60.950884  \n",
       "       0.25   58.005830  \n",
       "       0.30   56.053928  \n",
       "       0.35   54.727630  \n",
       "       0.40   54.360651  \n",
       "       0.45   53.708253  \n",
       "       0.50   52.300743  \n",
       "green  0.20  123.654816  \n",
       "       0.25  125.665621  \n",
       "       0.30  129.311599  \n",
       "       0.35  133.708258  \n",
       "       0.40  142.378529  \n",
       "       0.45  149.458567  \n",
       "       0.50  193.524826  \n",
       "yellow 0.20  410.986418  \n",
       "       0.25   58.648869  \n",
       "       0.30   64.554961  \n",
       "       0.35   66.438921  \n",
       "       0.40   71.715292  \n",
       "       0.45  164.458037  \n",
       "       0.50  241.631961  "
      ]
     },
     "execution_count": 42,
     "metadata": {},
     "output_type": "execute_result"
    }
   ],
   "source": [
    "import torch\n",
    "import numpy as np\n",
    "from tqdm import tqdm\n",
    "from sklearn.metrics import jaccard_score\n",
    "from monai.metrics import DiceMetric, MeanIoU\n",
    "from medpy.metric.binary import hd95\n",
    "\n",
    "def dice_score(pred, label):\n",
    "    smooth = 1e-6\n",
    "    intersection = np.sum(pred * label)\n",
    "    return 2. * intersection / (np.sum(pred) + np.sum(label) + smooth)\n",
    "\n",
    "def iou_score(pred, label):\n",
    "    return jaccard_score(label.flatten(), pred.flatten())\n",
    "\n",
    "def compute_hd95(pred, label):\n",
    "    try:\n",
    "        return hd95(pred.astype(bool), label.astype(bool))\n",
    "    except:\n",
    "        return np.nan\n",
    "\n",
    "thresholds = np.arange(0.2, 0.51, 0.05)\n",
    "final_results = {}\n",
    "\n",
    "for axis in ['red', 'green', 'yellow']:\n",
    "    model = models_by_axis[axis]\n",
    "    test_dataloader = test_dataloaders[axis]\n",
    "    model.eval()\n",
    "    results = {}\n",
    "\n",
    "    with torch.no_grad():\n",
    "        for threshold in thresholds:\n",
    "            print(f\"\\n🔎 {axis.upper()} – Évaluation pour seuil {threshold:.2f}\")\n",
    "            dice_metric = DiceMetric(include_background=False, reduction=\"mean\")\n",
    "            iou_metric = MeanIoU(include_background=False)\n",
    "            dice_metric.reset()\n",
    "            iou_metric.reset()\n",
    "\n",
    "            test_running_loss = 0\n",
    "            test_running_dice = 0\n",
    "            test_running_iou = 0\n",
    "            test_running_hd95 = 0\n",
    "            hd95_count = 0\n",
    "\n",
    "            for idx, (img, mask, _) in enumerate(tqdm(test_dataloader, desc=f\"{axis.upper()} - seuil {threshold:.2f}\", leave=False)):\n",
    "                img = img.float().to(device)\n",
    "                mask = mask.float().to(device)\n",
    "\n",
    "                output = model(img)\n",
    "                loss = criterion(output, mask)\n",
    "\n",
    "                y_pred = (torch.sigmoid(output) > threshold).float()\n",
    "                dice_metric(y_pred, mask)\n",
    "                iou_metric(y_pred, mask)\n",
    "\n",
    "                np_mask = mask.cpu().numpy().squeeze(1)\n",
    "                np_pred = y_pred.cpu().numpy().squeeze(1)\n",
    "\n",
    "                for p, m in zip(np_pred, np_mask):\n",
    "                    test_running_dice += dice_score(p, m)\n",
    "                    test_running_iou += iou_score(p, m)\n",
    "                    hd = compute_hd95(p, m)\n",
    "                    if not np.isnan(hd):\n",
    "                        test_running_hd95 += hd\n",
    "                        hd95_count += 1\n",
    "\n",
    "                test_running_loss += loss.item()\n",
    "\n",
    "            n_samples = len(test_dataloader.dataset)\n",
    "            avg_loss = test_running_loss / (idx + 1)\n",
    "            avg_dice = test_running_dice / n_samples\n",
    "            avg_iou = test_running_iou / n_samples\n",
    "            avg_hd95 = test_running_hd95 / hd95_count if hd95_count > 0 else np.nan\n",
    "\n",
    "            results[threshold] = {\n",
    "                \"loss\": avg_loss,\n",
    "                \"dice_custom\": avg_dice,\n",
    "                \"iou_custom\": avg_iou,\n",
    "                \"dice_monai\": dice_metric.aggregate().item(),\n",
    "                \"iou_monai\": iou_metric.aggregate().item(),\n",
    "                \"hd95\": avg_hd95\n",
    "            }\n",
    "\n",
    "    final_results[axis] = results\n",
    "\n",
    "# Affichage des résultats\n",
    "import pandas as pd\n",
    "df = pd.concat({k: pd.DataFrame(v).T for k, v in final_results.items()})\n",
    "df\n"
   ]
  },
  {
   "cell_type": "code",
   "execution_count": 43,
   "metadata": {},
   "outputs": [
    {
     "name": "stdout",
     "output_type": "stream",
     "text": [
      "📊 Fusion des axes et évaluation multi-seuils\n",
      "\n",
      "Évaluation fusionnée - Seuil = 0.20\n",
      "\n",
      "Évaluation fusionnée - Seuil = 0.25\n",
      "\n",
      "Évaluation fusionnée - Seuil = 0.30\n",
      "\n",
      "Évaluation fusionnée - Seuil = 0.35\n",
      "\n",
      "Évaluation fusionnée - Seuil = 0.40\n",
      "\n",
      "Évaluation fusionnée - Seuil = 0.45\n",
      "\n",
      "Évaluation fusionnée - Seuil = 0.50\n",
      "\n",
      "📊 Résultats FUSION :\n",
      "\n",
      "Seuil = 0.20\n",
      "  Dice (custom)  : 0.3255\n",
      "  IoU  (custom)  : 0.2025\n",
      "  Dice (MONAI)   : 0.3255\n",
      "  IoU  (MONAI)   : 0.2025\n",
      "  HD95 (MedPy)   : 311.60\n",
      "\n",
      "Seuil = 0.25\n",
      "  Dice (custom)  : 0.4176\n",
      "  IoU  (custom)  : 0.2783\n",
      "  Dice (MONAI)   : 0.4176\n",
      "  IoU  (MONAI)   : 0.2783\n",
      "  HD95 (MedPy)   : 62.58\n",
      "\n",
      "Seuil = 0.30\n",
      "  Dice (custom)  : 0.4512\n",
      "  IoU  (custom)  : 0.3083\n",
      "  Dice (MONAI)   : 0.4512\n",
      "  IoU  (MONAI)   : 0.3083\n",
      "  HD95 (MedPy)   : 55.78\n",
      "\n",
      "Seuil = 0.35\n",
      "  Dice (custom)  : 0.4773\n",
      "  IoU  (custom)  : 0.3324\n",
      "  Dice (MONAI)   : 0.4773\n",
      "  IoU  (MONAI)   : 0.3324\n",
      "  HD95 (MedPy)   : 54.47\n",
      "\n",
      "Seuil = 0.40\n",
      "  Dice (custom)  : 0.4990\n",
      "  IoU  (custom)  : 0.3530\n",
      "  Dice (MONAI)   : 0.4990\n",
      "  IoU  (MONAI)   : 0.3530\n",
      "  HD95 (MedPy)   : 54.33\n",
      "\n",
      "Seuil = 0.45\n",
      "  Dice (custom)  : 0.5139\n",
      "  IoU  (custom)  : 0.3675\n",
      "  Dice (MONAI)   : 0.5139\n",
      "  IoU  (MONAI)   : 0.3675\n",
      "  HD95 (MedPy)   : 53.57\n",
      "\n",
      "Seuil = 0.50\n",
      "  Dice (custom)  : 0.5193\n",
      "  IoU  (custom)  : 0.3728\n",
      "  Dice (MONAI)   : 0.5193\n",
      "  IoU  (MONAI)   : 0.3728\n",
      "  HD95 (MedPy)   : 52.17\n"
     ]
    }
   ],
   "source": [
    "import torch\n",
    "import numpy as np\n",
    "from tqdm import tqdm\n",
    "from sklearn.metrics import jaccard_score\n",
    "from monai.metrics import DiceMetric, MeanIoU\n",
    "from medpy.metric.binary import hd95\n",
    "\n",
    "# --- Fonctions personnalisées ---\n",
    "def dice_score(pred, label):\n",
    "    smooth = 1e-6\n",
    "    intersection = np.sum(pred * label)\n",
    "    return 2. * intersection / (np.sum(pred) + np.sum(label) + smooth)\n",
    "\n",
    "def iou_score(pred, label):\n",
    "    return jaccard_score(label.flatten(), pred.flatten())\n",
    "\n",
    "def compute_hd95(pred, label):\n",
    "    try:\n",
    "        return hd95(pred.astype(bool), label.astype(bool))\n",
    "    except:\n",
    "        return np.nan\n",
    "\n",
    "# --- Paramètres ---\n",
    "thresholds = np.arange(0.2, 0.51, 0.05)\n",
    "results_fusion = {}\n",
    "\n",
    "print(\"📊 Fusion des axes et évaluation multi-seuils\")\n",
    "\n",
    "for threshold in thresholds:\n",
    "    print(f\"\\nÉvaluation fusionnée - Seuil = {threshold:.2f}\")\n",
    "    \n",
    "    dice_metric = DiceMetric(include_background=False, reduction=\"mean\")\n",
    "    iou_metric = MeanIoU(include_background=False)\n",
    "    dice_metric.reset()\n",
    "    iou_metric.reset()\n",
    "\n",
    "    fusion_dice = 0\n",
    "    fusion_iou = 0\n",
    "    fusion_hd95 = 0\n",
    "    fusion_loss = 0\n",
    "    count_hd = 0\n",
    "\n",
    "    for i, (data_r, data_g, data_y) in enumerate(zip(\n",
    "        test_dataloaders[\"red\"], test_dataloaders[\"green\"], test_dataloaders[\"yellow\"]\n",
    "    )):\n",
    "        # Chargement des données\n",
    "        img_r, mask_r = data_r[0].to(device), data_r[1].to(device)\n",
    "        img_g, mask_g = data_g[0].to(device), data_g[1].to(device)\n",
    "        img_y, mask_y = data_y[0].to(device), data_y[1].to(device)\n",
    "\n",
    "        label = mask_r  # même masque supposé pour tous les axes\n",
    "\n",
    "        # Prédictions\n",
    "        with torch.no_grad():\n",
    "            out_r = torch.sigmoid(models_by_axis[\"red\"](img_r))\n",
    "            out_g = torch.sigmoid(models_by_axis[\"green\"](img_g))\n",
    "            out_y = torch.sigmoid(models_by_axis[\"yellow\"](img_y))\n",
    "\n",
    "        # Fusion : max voxel par voxel\n",
    "        fused_pred = torch.max(torch.max(out_r, out_g), out_y)\n",
    "        fused_bin = (fused_pred > threshold).float()\n",
    "\n",
    "        # MONAI metrics\n",
    "        dice_metric(fused_bin, label)\n",
    "        iou_metric(fused_bin, label)\n",
    "\n",
    "        # Custom metrics\n",
    "        pred_np = fused_bin.cpu().numpy().squeeze()\n",
    "        label_np = label.cpu().numpy().squeeze()\n",
    "\n",
    "        fusion_dice += dice_score(pred_np, label_np)\n",
    "        fusion_iou += iou_score(pred_np, label_np)\n",
    "\n",
    "        hd = compute_hd95(pred_np, label_np)\n",
    "        if not np.isnan(hd):\n",
    "            fusion_hd95 += hd\n",
    "            count_hd += 1\n",
    "\n",
    "    n_samples = len(test_dataloaders[\"red\"].dataset)\n",
    "    results_fusion[threshold] = {\n",
    "        \"dice_custom\": fusion_dice / n_samples,\n",
    "        \"iou_custom\": fusion_iou / n_samples,\n",
    "        \"dice_monai\": dice_metric.aggregate().item(),\n",
    "        \"iou_monai\": iou_metric.aggregate().item(),\n",
    "        \"hd95\": fusion_hd95 / count_hd if count_hd > 0 else np.nan\n",
    "    }\n",
    "\n",
    "# --- Affichage ---\n",
    "print(\"\\n📊 Résultats FUSION :\")\n",
    "for t, metrics in results_fusion.items():\n",
    "    print(f\"\\nSeuil = {t:.2f}\")\n",
    "    print(f\"  Dice (custom)  : {metrics['dice_custom']:.4f}\")\n",
    "    print(f\"  IoU  (custom)  : {metrics['iou_custom']:.4f}\")\n",
    "    print(f\"  Dice (MONAI)   : {metrics['dice_monai']:.4f}\")\n",
    "    print(f\"  IoU  (MONAI)   : {metrics['iou_monai']:.4f}\")\n",
    "    print(f\"  HD95 (MedPy)   : {metrics['hd95']:.2f}\")\n"
   ]
  },
  {
   "cell_type": "code",
   "execution_count": null,
   "metadata": {},
   "outputs": [],
   "source": [
    "# Toolkit function\n",
    "# Windows may create an hidden file \"Thumbs.db\". If the error occurs, run the following funtion\n",
    "def delete_thumbs_db(directory):\n",
    "    # Parcours de tous les fichiers et sous-dossiers du répertoire\n",
    "    for root, dirs, files in os.walk(directory):\n",
    "        for file in files:\n",
    "            if file == \"Thumbs.db\":\n",
    "                file_path = os.path.join(root, file)\n",
    "                try:\n",
    "                    os.remove(file_path)\n",
    "                    print(f\"Supprimé : {file_path}\")\n",
    "                except Exception as e:\n",
    "                    print(f\"Erreur lors de la suppression de {file_path} : {e}\")\n",
    "\n",
    "# Remplacez 'chemin/vers/dossier' par le chemin réel de votre répertoire\n",
    "delete_thumbs_db(\"data/carvana/train\")\n",
    "delete_thumbs_db(\"data/carvana/train_masks\")"
   ]
  }
 ],
 "metadata": {
  "anaconda-cloud": {},
  "kernelspec": {
   "display_name": "Python 3 (ipykernel)",
   "language": "python",
   "name": "python3"
  },
  "language_info": {
   "codemirror_mode": {
    "name": "ipython",
    "version": 3
   },
   "file_extension": ".py",
   "mimetype": "text/x-python",
   "name": "python",
   "nbconvert_exporter": "python",
   "pygments_lexer": "ipython3",
   "version": "3.12.9"
  }
 },
 "nbformat": 4,
 "nbformat_minor": 4
}
