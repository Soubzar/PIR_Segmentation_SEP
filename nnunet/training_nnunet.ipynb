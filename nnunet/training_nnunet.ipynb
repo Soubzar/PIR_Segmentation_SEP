{
 "cells": [
  {
   "cell_type": "code",
   "execution_count": 6,
   "id": "e81c0851-7b1c-4459-b6d5-332c60fd48bb",
   "metadata": {},
   "outputs": [
    {
     "name": "stdout",
     "output_type": "stream",
     "text": [
      "PyTorch version: 2.6.0+cu118\n",
      "Torchvision version: 0.21.0+cu118\n",
      "Numpy version: 1.26.4\n",
      "Monai version: 1.4.1rc1+46.gb58e883c\n"
     ]
    }
   ],
   "source": [
    "# Import libraries\n",
    "# PyTorch for building and training neural networks\n",
    "import torch\n",
    "import torch.nn as nn\n",
    "import torch.nn.functional as F\n",
    "from torch.utils.data import Dataset, DataLoader, random_split\n",
    "\n",
    "from torch import Tensor\n",
    "\n",
    "# Torchvision for data transformations\n",
    "import torchvision\n",
    "from torchvision import datasets, transforms\n",
    "\n",
    "# Torchinfo to display model summaries\n",
    "from torchinfo import summary\n",
    "\n",
    "# Numpy and Pathlib for data handling\n",
    "import numpy as np\n",
    "from pathlib import Path\n",
    "\n",
    "# Tqdm for progress bars\n",
    "from tqdm.auto import tqdm\n",
    "\n",
    "# Import the 'os' module, which provides functions for interacting with the operating system.\n",
    "# This module is useful for tasks like handling file paths, creating directories, and managing files.\n",
    "import os\n",
    "\n",
    "# Import specific types from the 'typing' module, which provides support for type hints in Python.\n",
    "# 'Optional' is used for indicating that a variable might be of a certain type or None.\n",
    "# 'Union' allows a variable to be one of several types.\n",
    "# 'Tuple' is used to specify a fixed-size sequence of elements of specified types.\n",
    "from typing import Optional, Union, Tuple\n",
    "\n",
    "# Monai for medical imaging, specific to preprocessing and loss functions\n",
    "import monai\n",
    "from monai.transforms import LoadImage\n",
    "# from monai.losses import DiceLoss\n",
    "\n",
    "# Matplotlib for data visualization\n",
    "import matplotlib\n",
    "import matplotlib.pyplot as plt\n",
    "from matplotlib.colors import ListedColormap\n",
    "%matplotlib inline\n",
    "\n",
    "# Import the 'glob' module, which provides a way to retrieve files matching a specified pattern. \n",
    "# This is useful for loading multiple image and mask files from directories.\n",
    "import glob\n",
    "# Import the 'Image' class from the 'PIL' (Python Imaging Library) module.\n",
    "# This class allows us to open, manipulate, and save various image file formats.\n",
    "from PIL import Image\n",
    "\n",
    "# Check and display library versions for reproducibility\n",
    "print(f\"PyTorch version: {torch.__version__}\")\n",
    "print(f\"Torchvision version: {torchvision.__version__}\")\n",
    "print(f\"Numpy version: {np.__version__}\")\n",
    "print(f\"Monai version: {monai.__version__}\")\n",
    "\n",
    "import copy\n",
    "import os\n",
    "import random\n",
    "import shutil\n",
    "import zipfile\n",
    "from math import atan2, cos, sin, sqrt, pi, log\n",
    "\n",
    "#import cv2\n",
    "import matplotlib.pyplot as plt\n",
    "import numpy as np\n",
    "import torch\n",
    "import torch.nn as nn\n",
    "import torch.nn.functional as F\n",
    "import torchvision.transforms as transforms\n",
    "from PIL import Image\n",
    "from numpy import linalg as LA\n",
    "from torch import optim, nn\n",
    "from torch.utils.data import DataLoader, random_split\n",
    "from torch.utils.data.dataset import Dataset\n",
    "from torchvision import transforms\n",
    "from tqdm import tqdm\n"
   ]
  },
  {
   "cell_type": "code",
   "execution_count": 7,
   "id": "39c4a1db-23ab-421a-a1ff-9a7891b4e79f",
   "metadata": {},
   "outputs": [],
   "source": [
    "import os\n",
    "\n",
    "os.environ[\"nnUNet_raw\"] = r\"\\\\ps-home.insa-lyon.fr\\users\\home\\selkhalifi\\Documents\\PIR\\nnunet_data\\nnUNet_raw\"\n",
    "os.environ[\"nnUNet_preprocessed\"] = r\"C:\\Users\\selkhalifi\\nnUNet_preprocessed_test\"\n",
    "os.environ[\"nnUNet_results\"] = r\"C:\\Users\\selkhalifi\\nnUNet_results\"\n"
   ]
  },
  {
   "cell_type": "code",
   "execution_count": 8,
   "id": "26dc981a-2006-4338-a902-62920ff8ebd9",
   "metadata": {},
   "outputs": [
    {
     "name": "stdout",
     "output_type": "stream",
     "text": [
      "Using device: cuda\n",
      "True\n",
      "2.6.0+cu118\n",
      "11.8\n",
      "90100\n",
      "/c/Users/selkhalifi/.conda/envs/monai-dev/python\n"
     ]
    }
   ],
   "source": [
    "# Device setup\n",
    "# Use GPU if available for faster training, otherwise fallback to CPU\n",
    "device = torch.device(\"cuda\" if torch.cuda.is_available() else \"cpu\")\n",
    "print(f\"Using device: {device}\")\n",
    "print(torch.cuda.is_available())\n",
    "print(torch.__version__)\n",
    "print(torch.version.cuda)\n",
    "print(torch.backends.cudnn.version())\n",
    "!which python"
   ]
  },
  {
   "cell_type": "code",
   "execution_count": null,
   "id": "e4c2d6ea-49d2-4746-b6a3-60d15c7c55b9",
   "metadata": {},
   "outputs": [],
   "source": [
    "!nnUNetv2_train 300 2d all -tr nnUNetTrainer_250epochs"
   ]
  },
  {
   "cell_type": "code",
   "execution_count": null,
   "id": "86941111-a78d-45cf-8d1d-dd060bc5983a",
   "metadata": {},
   "outputs": [],
   "source": []
  }
 ],
 "metadata": {
  "kernelspec": {
   "display_name": "Python 3 (ipykernel)",
   "language": "python",
   "name": "python3"
  },
  "language_info": {
   "codemirror_mode": {
    "name": "ipython",
    "version": 3
   },
   "file_extension": ".py",
   "mimetype": "text/x-python",
   "name": "python",
   "nbconvert_exporter": "python",
   "pygments_lexer": "ipython3",
   "version": "3.12.3"
  }
 },
 "nbformat": 4,
 "nbformat_minor": 5
}
