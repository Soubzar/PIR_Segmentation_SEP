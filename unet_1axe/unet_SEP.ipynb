{
 "cells": [
  {
   "cell_type": "markdown",
   "metadata": {},
   "source": [
    "# <span style=\"color:blue\"> Binary Segmentation with the U-Net Model\n",
    "\n",
    "**Segmenting a single object** - the ```Multiple Sclerosis``` dataset\n",
    "\n",
    "In this notebook, we will train a U-Net model to perform semantic segmentation on RGB images of cars from the **Multiple Sclerosis dataset**. The objective of this task is to accurately separate the lesions from their background.\n",
    "\n",
    "<span style=\"color:red\"> **Before proceeding**, ensure the dataset is available at ```D:\\PIR_SEP\\Datasets\\BRAIN_MRI_SLICES```  \n",
    "\n",
    "<span style=\"color:black\">\n",
    "\n",
    "The **U-Net** architecture is ideal for this task because it combines a contracting path (encoder) and an expanding path (decoder). This design effectively captures both high-level global features and fine-grained local details.\n",
    "\n",
    "This notebook will guide you through the following steps:\n",
    ">1. **Imports:** Setting up required libraries and packages.\n",
    ">2. **Data Loading and Visualization:** Understanding the dataset and preprocessing it for the task.\n",
    ">3. **Network Architecture Definition:** Implementing the U-Net model.\n",
    ">4. **Model Training:** Optimizing the network with backpropagation.\n",
    ">5. **Inference and Evaluation:** Testing the model on unseen data and assessing its performance using relevant metrics.\n",
    "\n",
    "---\n",
    "\n",
    "### <span style=\"color:brown\"> **What is Segmentation?**\n",
    "\n",
    "Segmentation involves assigning a class label to every pixel in an image.\n",
    "\n",
    "- **Binary Segmentation:** Identifies a single object class (e.g., car) against the background.\n",
    "- **Multi-Class Segmentation:** Differentiates between multiple object classes.\n",
    "\n",
    "---\n",
    "\n",
    "### <span style=\"color:brown\"> **Semantic vs. Instance Segmentation**\n",
    "\n",
    "When multiple objects of the same class appear in an image:\n",
    "- **Semantic Segmentation:** Assigns the same label to all objects of the same class.\n",
    "- **Instance Segmentation:** Differentiates and labels each object instance separately, enabling object counting.\n",
    "\n",
    "Instance separation can sometimes be performed using traditional image processing techniques after semantic segmentation.\n",
    "\n",
    "<img src=\"figures/SemanticIntanceSegmentation.png\" alt=\"Semantic vs Instance Segmentation\" style=\"width: 75%;\"/>\n",
    "\n",
    "**In this notebook, we focus on semantic segmentation** using the U-Net deep learning architecture.\n",
    "\n",
    "---\n",
    "\n",
    "### <span style=\"color:brown\"> **A Quick Overview of U-Net**\n",
    "\n",
    "The U-Net architecture is a fully **convolutional network** designed for segmentation tasks. Its key features include:\n",
    "- **Skip connections:** Directly link the encoder and decoder layers to preserve spatial details and scale information.\n",
    "- **Symmetrical design:** Combines downsampling for context (**encoder in orange**) with upsampling for precise localization (**decoder in green**).\n",
    "\n",
    "<img src=\"figures/UNet.png\" alt=\"U-Net Architecture\" style=\"width: 70%;\"/>\n"
   ]
  },
  {
   "cell_type": "markdown",
   "metadata": {},
   "source": [
    "## <span style=\"color:brown\"> 1. Imports \n",
    "Before we begin, we will import the necessary libraries for data handling, image transformations, and model training using PyTorch."
   ]
  },
  {
   "cell_type": "code",
   "execution_count": 1,
   "metadata": {},
   "outputs": [
    {
     "name": "stdout",
     "output_type": "stream",
     "text": [
      "PyTorch version: 2.2.0\n",
      "Torchvision version: 0.17.0\n",
      "Numpy version: 1.26.4\n",
      "Monai version: 1.4.1rc1+46.gb58e883c\n"
     ]
    }
   ],
   "source": [
    "# Import libraries\n",
    "# PyTorch for building and training neural networks\n",
    "import torch\n",
    "import torch.nn as nn\n",
    "import torch.nn.functional as F\n",
    "from torch.utils.data import Dataset, DataLoader, random_split\n",
    "\n",
    "from torch import Tensor\n",
    "\n",
    "# Torchvision for data transformations\n",
    "import torchvision\n",
    "from torchvision import datasets, transforms\n",
    "\n",
    "# Torchinfo to display model summaries\n",
    "from torchinfo import summary\n",
    "\n",
    "# Numpy and Pathlib for data handling\n",
    "import numpy as np\n",
    "from pathlib import Path\n",
    "\n",
    "# Tqdm for progress bars\n",
    "from tqdm.auto import tqdm\n",
    "\n",
    "# Import the 'os' module, which provides functions for interacting with the operating system.\n",
    "# This module is useful for tasks like handling file paths, creating directories, and managing files.\n",
    "import os\n",
    "\n",
    "# Import specific types from the 'typing' module, which provides support for type hints in Python.\n",
    "# 'Optional' is used for indicating that a variable might be of a certain type or None.\n",
    "# 'Union' allows a variable to be one of several types.\n",
    "# 'Tuple' is used to specify a fixed-size sequence of elements of specified types.\n",
    "from typing import Optional, Union, Tuple\n",
    "\n",
    "# Monai for medical imaging, specific to preprocessing and loss functions\n",
    "import monai\n",
    "from monai.transforms import LoadImage\n",
    "# from monai.losses import DiceLoss\n",
    "\n",
    "# Matplotlib for data visualization\n",
    "import matplotlib\n",
    "import matplotlib.pyplot as plt\n",
    "from matplotlib.colors import ListedColormap\n",
    "%matplotlib inline\n",
    "\n",
    "# Import the 'glob' module, which provides a way to retrieve files matching a specified pattern. \n",
    "# This is useful for loading multiple image and mask files from directories.\n",
    "import glob\n",
    "# Import the 'Image' class from the 'PIL' (Python Imaging Library) module.\n",
    "# This class allows us to open, manipulate, and save various image file formats.\n",
    "from PIL import Image\n",
    "\n",
    "# Check and display library versions for reproducibility\n",
    "print(f\"PyTorch version: {torch.__version__}\")\n",
    "print(f\"Torchvision version: {torchvision.__version__}\")\n",
    "print(f\"Numpy version: {np.__version__}\")\n",
    "print(f\"Monai version: {monai.__version__}\")\n",
    "\n",
    "import copy\n",
    "import os\n",
    "import random\n",
    "import shutil\n",
    "import zipfile\n",
    "from math import atan2, cos, sin, sqrt, pi, log\n",
    "\n",
    "#import cv2\n",
    "import matplotlib.pyplot as plt\n",
    "import numpy as np\n",
    "import torch\n",
    "import torch.nn as nn\n",
    "import torch.nn.functional as F\n",
    "import torchvision.transforms as transforms\n",
    "from PIL import Image\n",
    "from numpy import linalg as LA\n",
    "from torch import optim, nn\n",
    "from torch.utils.data import DataLoader, random_split\n",
    "from torch.utils.data.dataset import Dataset\n",
    "from torchvision import transforms\n",
    "from tqdm import tqdm\n"
   ]
  },
  {
   "cell_type": "code",
   "execution_count": 2,
   "metadata": {},
   "outputs": [
    {
     "name": "stdout",
     "output_type": "stream",
     "text": [
      "Using device: cuda\n",
      "True\n",
      "2.2.0\n",
      "12.1\n",
      "8801\n",
      "/c/Users/sofia/anaconda3/envs/monai-dev/python\n"
     ]
    }
   ],
   "source": [
    "\n",
    "# Device setup\n",
    "# Use GPU if available for faster training, otherwise fallback to CPU\n",
    "device = torch.device(\"cuda\" if torch.cuda.is_available() else \"cpu\")\n",
    "print(f\"Using device: {device}\")\n",
    "print(torch.cuda.is_available())\n",
    "print(torch.__version__)\n",
    "print(torch.version.cuda)\n",
    "print(torch.backends.cudnn.version())\n",
    "!which python\n",
    "\n"
   ]
  },
  {
   "cell_type": "markdown",
   "metadata": {},
   "source": [
    "--- \n",
    "## <span style=\"color:brown\"> 2. Load and Visualize the Data\n",
    "In this section, we load and visualize RGB images from the carvana dataset.\n",
    "\n",
    "Datasets often require preprocessing steps to prepare the data for training. Here, we will visualize a few examples to understand what our model will learn to segment. \n",
    "    "
   ]
  },
  {
   "cell_type": "markdown",
   "metadata": {},
   "source": [
    "### <span style=\"color:brown\"> 2.1 Create Dataset objects\n",
    "`SepDataset`  will be used to load the data during training, validating and testing."
   ]
  },
  {
   "cell_type": "code",
   "execution_count": 3,
   "metadata": {},
   "outputs": [],
   "source": [
    "from torchvision import transforms\n",
    "from PIL import Image\n",
    "import torch\n",
    "from torch.utils.data import Dataset\n",
    "\n",
    "# Transformation personnalisée pour redimensionner l'image et le masque\n",
    "class ResizeImageAndMask:\n",
    "    def __init__(self, image_size, mask_size):\n",
    "        #on redimensionne pour :\n",
    "        #Uniformiser toutes les images (et masques) à une taille standard\n",
    "        #Permettre des batchs (traiter plusieurs images à la fois)\n",
    "        #Faire tourner le modèle sans crash\n",
    "        \n",
    "        #Quand tu redimensionnes une image, tu perds des pixels (ou tu en inventes, si tu agrandis).\n",
    "        #→ L’interpolation est juste la méthode utilisée pour remplir les trous ou lisser la transition.\n",
    "\n",
    "        # Redimensionner l'image avec interpolation bilinéaire, fait une moyenne des pixels voisins\n",
    "        self.image_resize = transforms.Resize(image_size, interpolation=Image.BILINEAR)\n",
    "        # Redimensionner le masque avec interpolation nearest (voisinage), plus proche voisin, si tu fais une interpolation bilinéaire, tu risques d’avoir des valeurs entre 0 et 1, genre 0.3, 0.8... ce qui n’a aucun sens pour un masque binaire\n",
    "        self.mask_resize = transforms.Resize(mask_size, interpolation=Image.NEAREST)\n",
    "\n",
    "    def __call__(self, sample):\n",
    "        # Sample est un tuple (image, mask)\n",
    "        image, mask = sample\n",
    "        image = self.image_resize(image)\n",
    "        mask = self.mask_resize(mask)\n",
    "        return image, mask\n",
    "\n",
    "\n",
    "class SepDataset(Dataset):\n",
    "    #  def __init__(self, image_paths, mask_paths, resized_width, resized_height, limit=None):\n",
    "    #limit = nombre limité de couples image/mask\n",
    "    def __init__(self, root_path, resized_width, resized_height,limit=None):\n",
    "        self.root_path = root_path\n",
    "        self.limit = limit\n",
    "        # Liste des chemins des images et des masques\n",
    "        #trier les images et les masques (pour que image <-> mask reste aligné) et en prendre jusqu'à la limite définie\n",
    "        self.images = sorted(\n",
    "            [os.path.join(root_path, \"train_data\", i) \n",
    "             for i in os.listdir(os.path.join(root_path, \"train_data\")) \n",
    "             if i.endswith(\".png\")]\n",
    "        )[:self.limit]\n",
    "        \n",
    "        self.masks = sorted(\n",
    "            [os.path.join(root_path, \"train_seg\", i) \n",
    "             for i in os.listdir(os.path.join(root_path, \"train_seg\")) \n",
    "             if i.endswith(\".png\")]\n",
    "        )[:self.limit]\n",
    "\n",
    "        #définir la taille des images et des masques\n",
    "        self.resized_width = resized_width\n",
    "        self.resized_height = resized_height\n",
    "        # Définir la transformation composée\n",
    "        self.transform = transforms.Compose([\n",
    "             ResizeImageAndMask((resized_width, resized_height), (resized_width, resized_height)),  # Redimensionner l'image et le masque\n",
    " \n",
    "        ])\n",
    "\n",
    "        if self.limit is None:\n",
    "            self.limit = len(self.images)\n",
    "\n",
    "    def __getitem__(self, index):\n",
    "        # Charger l'image et le masque\n",
    "        img = Image.open(self.images[index]).convert(\"L\")\n",
    "        mask = Image.open(self.masks[index]).convert(\"L\") #luminance = noir et blanc\n",
    "\n",
    "        # Appliquer la transformation composée (l'image et le masque doivent être passés comme un tuple)\n",
    "        img, mask = self.transform((img, mask))  # Passer le tuple à la transformation\n",
    "\n",
    "        # Convertir l'image en tenseur\n",
    "        img = transforms.ToTensor()(img)\n",
    "\n",
    "        # Vérifier la valeur maximale de l'image après la conversion en tenseur\n",
    "        if img.max() > 1.0:  # Si l'image est dans la plage [0, 255]\n",
    "            img = img / 255.0  # Normaliser les pixels dans la plage [0, 1]\n",
    "\n",
    "        # Normalisation de l'image entre [-1, 1]\n",
    "        img = (img - 0.5) / 0.5  # Normalisation de l'image\n",
    "\n",
    "        # Convertir le masque en tenseur et binariser\n",
    "        mask = transforms.ToTensor()(mask)  # Convertir le masque en tenseur\n",
    "        mask = (mask > 0).float()  # Binariser le masque (0 ou 1)\n",
    "\n",
    "        # Retourner l'image transformée, le masque transformé et le chemin de l'image\n",
    "        return img, mask, self.images[index]\n",
    "\n",
    "    def __len__(self):\n",
    "        return min(len(self.images), self.limit)\n"
   ]
  },
  {
   "cell_type": "markdown",
   "metadata": {},
   "source": [
    "### <span style=\"color:brown\"> 2.2 - Load Files and Create Datasets\n",
    "\n",
    "The ```SepDataset``` class is responsible for loading and formatting the data. It ensures that:\n",
    "- The **size** of the images and masks (labels) is adjusted to the desired dimensions using resizing transformations.\n",
    "- The **range** of pixel values is normalized:\n",
    "  - **Images:** Normalized to the range [-1, 1] after being scaled to [0, 1].\n",
    "  - **Masks:** Binarized to contain only 0 or 1 values after conversion to tensors.\n",
    "- The **type** of images and masks is compatible with PyTorch:\n",
    "  - Images are converted to `float32` tensors.\n",
    "  - Masks are also converted to `float32` tensors but remain binary.\n",
    "\n",
    "#### Using the Entire Dataset\n",
    "To process the entire dataset, simply **omit the `limit` parameter** when calling the ```SepDataset``` class. If a value is provided for `limit`, only the specified number of samples will be loaded, which can be useful for debugging or testing.\n",
    "\n",
    "```python\n",
    "dataset = SepDataset(root_path=\"D:\\PIR_SEP\\Datasets\\BRAIN_MRI_SLICES\", resized_width=128, resized_height=128, limit=None)\n"
   ]
  },
  {
   "cell_type": "code",
   "execution_count": 4,
   "metadata": {},
   "outputs": [
    {
     "name": "stdout",
     "output_type": "stream",
     "text": [
      "Size dataset : 59\n",
      "Size train_dataset : 48\n",
      "Size test_dataset : 11\n",
      "Size train_dataset : 48\n",
      "Size test_dataset : 6\n",
      "Size val_dataset : 5\n",
      "device : cuda\n",
      "num_workers : 3\n"
     ]
    }
   ],
   "source": [
    "width=304   # width of images/masks processed by the network\n",
    "height=752  # height of images/masks processed by the network\n",
    "#print(os.listdir(\"./.\"))\n",
    "\n",
    "DATASET_DIR = 'D:/PIR_SEP/Datasets/BRAIN_MRI_SLICES'\n",
    "train_dataset = SepDataset(DATASET_DIR,resized_width=width,resized_height=height)        # Full database\n",
    "#train_dataset = CarvanaDataset(DATASET_DIR,resized_width=width,resized_height=height,limit=500) # only 500 samples of the database\n",
    "# Initial size of the images is (1918,1280) coded in RGB. \n",
    "# The previous function change the size of these images and their corresponding mask (label).\n",
    "\n",
    "#Si tu n'utilisais pas de générateur, la division serait différente à chaque exécution du code.\n",
    "generator = torch.Generator().manual_seed(25)\n",
    "#diviser le dataset en dataset d'entraînement et de test de manière random avec 0.8 train et 0.2 test en utilisant les générateur\n",
    "train_dataset, test_dataset = random_split(train_dataset, [0.8, 0.2], generator=generator)\n",
    "print(\"Size dataset :\",len(train_dataset)+len(test_dataset))\n",
    "print(\"Size train_dataset :\",len(train_dataset))\n",
    "print(\"Size test_dataset :\",len(test_dataset))\n",
    "\n",
    "#diviser le dataset de test en dataset de test et de validation à 0.5 et 0.5 en utilisant le générateur\n",
    "test_dataset, val_dataset = random_split(test_dataset, [0.5, 0.5], generator=generator)\n",
    "print(\"Size train_dataset :\",len(train_dataset))\n",
    "print(\"Size test_dataset :\", len(test_dataset))\n",
    "print(\"Size val_dataset :\", len(val_dataset))\n",
    "\n",
    "device = \"cuda\" if torch.cuda.is_available() else \"cpu\"\n",
    "if device == \"cuda\":\n",
    "    num_workers = torch.cuda.device_count() * 4 - 1 #L'idée de multiplier par 4 et soustraire 1 est une méthode pour utiliser efficacement les ressources disponibles.\n",
    "#num_workers = 1  # cmu\n",
    "print(\"device :\",device)\n",
    "print(\"num_workers :\",num_workers)\n",
    "\n",
    "LEARNING_RATE = 3e-4 #Le learning rate (taux d'apprentissage) détermine à quel point les poids du modèle doivent être ajustés pendant l'entraînement à chaque itération.\n",
    "BATCH_SIZE = 8  # 1   #  4, 8, 16, 32 Le batch size (taille du lot) détermine combien d'exemples seront traités simultanément dans chaque passage du modèle pendant l'entraînement.\n"
   ]
  },
  {
   "cell_type": "code",
   "execution_count": 5,
   "metadata": {},
   "outputs": [],
   "source": [
    "#Création des objets DataLoader pour charger les données d'entraînement, de validation et de test dans des mini-lots (batches) pendant l'entraînement de ton modèle.\n",
    "train_dataloader = DataLoader(dataset=train_dataset, batch_size=BATCH_SIZE, shuffle=True) #Cela signifie que les données seront mélangées à chaque époque pour éviter que le modèle apprenne de manière séquentielle et n'intègre pas des biais liés à l'ordre des données.\n",
    "val_dataloader = DataLoader(dataset=val_dataset,batch_size=BATCH_SIZE,shuffle= False) #Les données de validation ne sont pas mélangées. Cela permet de toujours tester le modèle sur les mêmes données à chaque époque pour une évaluation stable.\n",
    "test_dataloader = DataLoader(dataset=test_dataset,batch_size=BATCH_SIZE, shuffle=False) #Comme pour la validation, les données de test ne sont pas mélangées pour garantir une évaluation cohérente."
   ]
  },
  {
   "cell_type": "code",
   "execution_count": 6,
   "metadata": {},
   "outputs": [
    {
     "name": "stdout",
     "output_type": "stream",
     "text": [
      "Image batch shape: torch.Size([6, 1, 304, 752])\n",
      "Mask batch shape: torch.Size([6, 1, 304, 752])\n",
      "Image path: D:/PIR_SEP/Datasets/BRAIN_MRI_SLICES\\train_data\\Patient-59_59-Flair.png\n"
     ]
    }
   ],
   "source": [
    "# Vérification du DataLoader\n",
    "for img, mask, path in  test_dataloader:\n",
    "    print(f'Image batch shape: {img.shape}') #nbre d'images dans le batch, nombre de canaux (3 pour RGB, 1 pour L), hauteur, largeur)\n",
    "    print(f'Mask batch shape: {mask.shape}')\n",
    "    print(f'Image path: {path[0]}')  # Afficher un chemin d'image pour vérifier\n",
    "    break  # Juste pour vérifier une première itération\n"
   ]
  },
  {
   "cell_type": "code",
   "execution_count": 7,
   "metadata": {},
   "outputs": [
    {
     "name": "stdout",
     "output_type": "stream",
     "text": [
      "image.shape torch.Size([6, 1, 304, 752])\n",
      "label.shape torch.Size([6, 1, 304, 752])\n",
      "torch.max(label):  tensor(1., device='cuda:0')\n",
      "torch.max(imag):  tensor(1., device='cuda:0')\n"
     ]
    }
   ],
   "source": [
    "# Create an iterator to iterate over the test dataloader\n",
    "test_dataloader_iter = iter(test_dataloader)\n",
    "batch_data = next(test_dataloader_iter) #retourne le prochain lot de données. Ce lot contient une image et son masque associé label. batch_data est une tupla: image, mask\n",
    "image, label = batch_data[0].to(device), batch_data[1].to(device)\n",
    "print(\"image.shape\",image.shape)     \n",
    "print(\"label.shape\",label.shape) \n",
    "print(\"torch.max(label): \",torch.max(label)) #la plus grande valeur du mask\n",
    "print(\"torch.max(imag): \",torch.max(image)) #la plus grande valeur de l'image\n"
   ]
  },
  {
   "cell_type": "code",
   "execution_count": 8,
   "metadata": {},
   "outputs": [
    {
     "name": "stdout",
     "output_type": "stream",
     "text": [
      "train_idx: 4\n",
      "val_idx: 1\n",
      "test_idx: 2\n"
     ]
    },
    {
     "data": {
      "image/png": "[encoded data removed]",
      "text/plain": [
       "<Figure size 1000x1000 with 6 Axes>"
      ]
     },
     "metadata": {},
     "output_type": "display_data"
    }
   ],
   "source": [
    "import torch\n",
    "import numpy as np\n",
    "import matplotlib.pyplot as plt\n",
    "\n",
    "# Get a random index for each dataset\n",
    "train_idx = np.random.randint(len(train_dataset))\n",
    "val_idx = np.random.randint(len(val_dataset))\n",
    "test_idx = np.random.randint(len(test_dataset))\n",
    "\n",
    "print(\"train_idx:\", train_idx)\n",
    "print(\"val_idx:\", val_idx)\n",
    "print(\"test_idx:\", test_idx)\n",
    "\n",
    "figure = plt.figure(figsize=(10, 10))\n",
    "\n",
    "def display_image_and_label(image, label, row, title_prefix):\n",
    "    # Déplacer vers CPU et numpy\n",
    "    image = image.detach().cpu().numpy()\n",
    "    label = label.detach().cpu().numpy()\n",
    "\n",
    "    # Normalisation : [-1, 1] → [0, 1]\n",
    "    image = (image + 1) / 2.0\n",
    "\n",
    "    # Squeeze les dimensions inutiles\n",
    "    image = np.squeeze(image)  # Devient (H, W) ou (H, W, C) selon le cas\n",
    "    label = np.squeeze(label)\n",
    "\n",
    "    ax = figure.add_subplot(3, 2, row * 2 - 1)\n",
    "    if image.ndim == 2:\n",
    "        ax.imshow(image, cmap='gray')  # Image en niveaux de gris\n",
    "    elif image.ndim == 3:\n",
    "        ax.imshow(np.transpose(image, (1, 2, 0)))  # (C, H, W) → (H, W, C)\n",
    "    else:\n",
    "        raise ValueError(f\"Format image inattendu: {image.shape}\")\n",
    "    ax.set_title(f\"{title_prefix} image\")\n",
    "    ax.axis('off')\n",
    "\n",
    "    ax = figure.add_subplot(3, 2, row * 2)\n",
    "    ax.imshow(label, cmap='jet', alpha=1)\n",
    "    ax.set_title(f\"{title_prefix} label\")\n",
    "    ax.axis('off')\n",
    "\n",
    "# 1. Train\n",
    "batch_data = train_dataset[train_idx]\n",
    "image, label = batch_data[0].to(device), batch_data[1].to(device)\n",
    "display_image_and_label(image, label, 1, \"Training\")\n",
    "\n",
    "# 2. Validation\n",
    "batch_data = val_dataset[val_idx]\n",
    "image, label = batch_data[0].to(device), batch_data[1].to(device)\n",
    "display_image_and_label(image, label, 2, \"Validation\")\n",
    "\n",
    "# 3. Test\n",
    "batch_data = test_dataset[test_idx]\n",
    "image, label = batch_data[0].to(device), batch_data[1].to(device)\n",
    "display_image_and_label(image, label, 3, \"Test\")\n",
    "\n",
    "# Layout final\n",
    "figure.tight_layout()\n",
    "plt.show()\n"
   ]
  },
  {
   "cell_type": "markdown",
   "metadata": {},
   "source": [
    "---\n",
    "## <span style=\"color:brown\"> 3. Define the Network [Architecture](http://pytorch.org/docs/stable/nn.html)\n",
    "\n",
    "The U-Net model for binary segmentation takes a batch of input images and processes each image to output **a corresponding probability map**. Each pixel in this map represents the likelihood that the pixel belongs to the target object class. \n",
    "\n",
    "Since we’re performing binary segmentation, the output for each image is a single-channel tensor, where each pixel value ranges between 0 and 1. A value closer to 1 indicates a higher probability that the pixel is part of the target object, while a value closer to 0 suggests background.\n",
    "\n",
    "This approach allows the model to efficiently learn the spatial structure of the objects within the images, providing pixel-wise predictions for accurate segmentation.\n",
    "\n",
    "### <span style=\"color:brown\"> 3.1 Model Architecture Parameters"
   ]
  },
  {
   "cell_type": "code",
   "execution_count": 10,
   "metadata": {},
   "outputs": [],
   "source": [
    "# Model Architecture Parameters\n",
    "input_channels = 1    #e.g. 3 for RGB, 1 for grayscale input images\n",
    "num_classes  = 1      #  e.g. 1 for binary segmentation (background vs object)\n",
    "input_shape = (input_channels, width, height)  # This is the shape of the input image to the network\n",
    "output_shape = (num_classes, width, height)  # This is the shape of the output mask\n",
    "init_channels = 32              # This is the number of channels in the first layer of the network\n",
    "# Nombre de filtres appliqués à l’image dans la 1ère couche\n",
    "#Chaque filtre apprend à détecter quelque chose de différent :\n",
    "#un peut détecter des bords horizontaux,\n",
    "#un autre les coins,\n",
    "#un autre une texture spécifique, etc."
   ]
  },
  {
   "cell_type": "markdown",
   "metadata": {},
   "source": [
    "### <span style=\"color:brown\">3.2 Model Architecture</span>\n",
    "\n",
    "In this section, two distinct model architectures are provided. However, you should only use one model for your task. Please select and activate the corresponding cell below based on your preferred model choice."
   ]
  },
  {
   "cell_type": "markdown",
   "metadata": {},
   "source": [
    "#### <span style=\"color:brown\">Comparison of MONAI's `UNet` and Custom `UNet` Model in PyTorch</span>\n",
    "\n",
    "When working with U-Net architectures for image segmentation, both **MONAI**'s `UNet` and a **custom PyTorch U-Net** can be used. However, they offer different levels of abstraction, flexibility, and usability. Below is a comparison of these two approaches:\n",
    "\n",
    "\n",
    "\n",
    "##### <span style=\"color:brown\">MONAI `UNet` Model</span> (from `monai.networks.nets`)\n",
    "\n",
    "- **Purpose**: MONAI is a framework specifically designed for medical imaging tasks, built on top of PyTorch.\n",
    "  \n",
    "- **Ease of Use**: MONAI provides a high-level interface that simplifies the process of creating U-Net models. It allows users to quickly configure and instantiate a U-Net model by specifying only a few parameters, such as the number of input and output channels, the number of feature channels, and other configuration parameters like the stride and number of residual units.\n",
    "\n",
    "- **Customizability**: While MONAI's `UNet` is highly configurable with parameters like `channels`, `strides`, and `num_res_units`, it hides some of the underlying complexity of U-Net, making it suitable for users who want an easy-to-implement model. \n",
    "\n",
    "- **Key Features**:\n",
    "  - Optimized for 2D and 3D medical image segmentation.\n",
    "  - Predefined configurations for common tasks, reducing setup time.\n",
    "  - Focus on usability for medical AI tasks.\n",
    "\n",
    "\n",
    "##### <span style=\"color:brown\">Custom U-Net Model in PyTorch</span>\n",
    "\n",
    "- **Purpose**: A custom U-Net implementation in PyTorch provides full flexibility, allowing users to define the architecture according to their specific needs. This model can be used for both general and specialized image segmentation tasks, not just medical imaging.\n",
    "\n",
    "- **Flexibility**: The custom implementation allows for fine-grained control over every aspect of the network architecture. You can modify the number of layers, types of layers, normalization methods, upsampling techniques, and more.\n",
    "\n",
    "- **Complexity**: Writing a custom U-Net requires more effort as you must manually define each block (e.g., convolution layers, downsampling, and upsampling). This gives more control over the implementation but increases the amount of code and complexity.\n",
    "\n",
    "- **Customizability**: You can adjust various hyperparameters, such as the type of convolution (`Conv2d` or `ConvTranspose2d`), batch normalization, dropout rates, and even the use of bilinear interpolation or transposed convolutions for upsampling.\n",
    "\n",
    "- **Key Features**:\n",
    "  - Full control over architecture.\n",
    "  - Greater flexibility to modify layer types and network structure.\n",
    "  - Ideal for users who need customization for specific segmentation tasks.\n",
    "\n",
    "\n",
    "\n",
    "##### <span style=\"color:brown\">Comparison Table</span>\n",
    "\n",
    "| **Feature**                        | **MONAI `UNet`**                                  | **Custom PyTorch `UNet`**                      |\n",
    "|------------------------------------|--------------------------------------------------|-----------------------------------------------|\n",
    "| **Ease of Use**                    | High (dedicated for medical image segmentation)   | Low (manual implementation required)          |\n",
    "| **Flexibility**                    | Moderate (configurable parameters)               | High (full control over architecture)         |\n",
    "| **Customizability**                | Low (limited to predefined blocks and parameters) | High (customize every part of the network)     |\n",
    "| **Code Complexity**                | Low (simple instantiation)                       | High (requires manual architecture design)    |\n",
    "| **Intended Use Case**              | Medical imaging segmentation                     | General segmentation tasks                    |\n"
   ]
  },
  {
   "cell_type": "markdown",
   "metadata": {},
   "source": [
    "### <span style=\"color:brown\"> First Model Architecture "
   ]
  },
  {
   "cell_type": "code",
   "execution_count": 11,
   "metadata": {},
   "outputs": [],
   "source": [
    "from monai.networks.nets import UNet\n",
    "\n",
    "# Define a Unet with  monai, lighter than Class Unet \n",
    "# Creation of the model U-Net with MONAI\n",
    "model = UNet(\n",
    "    spatial_dims = 2,                 # 2D U-Net\n",
    "    in_channels = 1,     # Canaux d'entrée (3)\n",
    "    out_channels = 1,       # Canaux de sortie (classes de segmentation)\n",
    "    channels = (16, 32, 64, 128),     # Nombres de canaux aux différents niveaux d'encodage\n",
    "    #1\tEntrée → conv\t16\n",
    "    #2\tconv → pooling\t32\n",
    "    #3\tconv → pooling\t64\n",
    "    #4\tBottleneck\t128: Compresser l'information visuelle, Extraire des représentations abstraites (ex: \"ça ressemble à une voiture\", \"y'a un contour ici\"), Garder seulement l’essentiel avant de reconstruire.\n",
    "    #Dans la phase de décodage, ces nombres sont utilisés à l’envers avec upsampling\n",
    "    strides = (2, 2, 2),              # Strides de downsampling: chaque stride contrôle la taille de sortie de l’étape suivante\n",
    "    #2 veut dire qu’on divise par 2 à chaque fois \n",
    "    num_res_units=1                   # Nombre d'unités résiduelles par bloc: plus = plus profond localement\n",
    ").to(device)\n"
   ]
  },
  {
   "cell_type": "markdown",
   "metadata": {},
   "source": [
    "### <span style=\"color:brown\"> Second Model Architecture "
   ]
  },
  {
   "cell_type": "code",
   "execution_count": 12,
   "metadata": {},
   "outputs": [],
   "source": [
    "class UNet(nn.Module):\n",
    "    \"\"\"Architecture based on U-Net: Convolutional Networks for Biomedical Image Segmentation.\n",
    "\n",
    "    References:\n",
    "    - Paper that introduced the U-Net model: https://arxiv.org/abs/1505.04597\n",
    "    \"\"\"\n",
    "\n",
    "    def __init__(\n",
    "        self,\n",
    "        input_shape: Tuple[int, ...],\n",
    "        output_shape: Tuple[int, ...],\n",
    "        init_channels: int = 32,\n",
    "        use_batchnorm: bool = True,\n",
    "        bilinear: bool = False,\n",
    "        dropout: float = 0.0,\n",
    "    ):\n",
    "        \"\"\"Initializes class instance.\n",
    "\n",
    "        Args:\n",
    "            input_shape: (in_channels, H, W), Shape of the input images.\n",
    "            output_shape: (num_classes, H, W), Shape of the output segmentation map.\n",
    "            init_channels: Number of output feature maps from the first layer, used to compute the number of feature\n",
    "                maps in following layers.\n",
    "            use_batchnorm: Whether to use batch normalization between the convolution and activation layers in the\n",
    "                convolutional blocks.\n",
    "            bilinear: Whether to use bilinear interpolation or transposed convolutions for upsampling.\n",
    "            dropout: Probability of an element to be zeroed (e.g. 0 means no dropout).\n",
    "        \"\"\"\n",
    "        super().__init__()\n",
    "        in_channels = input_shape[0]\n",
    "        out_channels = output_shape[0]\n",
    "\n",
    "        self.layer1 = _DoubleConv(in_channels, init_channels // 2, dropout / 2, use_batchnorm)\n",
    "        self.layer2 = _Down(init_channels // 2, init_channels, dropout, use_batchnorm)\n",
    "        self.layer3 = _Down(init_channels, init_channels * 2, dropout, use_batchnorm)\n",
    "        self.layer4 = _Down(init_channels * 2, init_channels * 4, dropout, use_batchnorm)\n",
    "\n",
    "        self.layer5 = _Up(\n",
    "            init_channels * 4, init_channels * 2, dropout, use_batchnorm, bilinear=bilinear\n",
    "        )\n",
    "        self.layer6 = _Up(\n",
    "            init_channels * 2, init_channels, dropout, use_batchnorm, bilinear=bilinear\n",
    "        )\n",
    "        self.layer7 = _Up(init_channels, init_channels // 2, 0, use_batchnorm, bilinear=bilinear)\n",
    "\n",
    "        self.layer9 = nn.Conv2d(init_channels // 2, out_channels, kernel_size=1)\n",
    "\n",
    "        # Use Xavier initialisation for weights\n",
    "        for m in self.modules():\n",
    "            if isinstance(m, nn.Conv2d) or isinstance(m, nn.ConvTranspose2d):\n",
    "                nn.init.xavier_uniform_(m.weight)\n",
    "\n",
    "    def forward(self, x: Tensor) -> Tensor:\n",
    "        \"\"\"Defines the computation performed at every call.\n",
    "\n",
    "        Args:\n",
    "            x: (N, ``in_channels``, H, W), Input image to segment.\n",
    "\n",
    "        Returns:\n",
    "            (N, ``out_channels``, H, W), Raw, unnormalized scores for each class in the input's segmentation.\n",
    "        \"\"\"\n",
    "        x1 = self.layer1(x)\n",
    "        x2 = self.layer2(x1)\n",
    "        x3 = self.layer3(x2)\n",
    "        x4 = self.layer4(x3)\n",
    "\n",
    "        out = self.layer5(x4, x3)\n",
    "        out = self.layer6(out, x2)\n",
    "        out = self.layer7(out, x1)\n",
    "\n",
    "        return self.layer9(out)\n",
    "\n",
    "\n",
    "class _DoubleConv(nn.Module):\n",
    "    \"\"\"Double Convolution and BN and ReLU.\n",
    "\n",
    "    (3x3 conv -> BN -> ReLU) ** 2\n",
    "    \"\"\"\n",
    "\n",
    "    def __init__(self, in_ch: int, out_ch: int, dropout_prob: float, use_batchnorm: bool):\n",
    "        super().__init__()\n",
    "        if use_batchnorm:\n",
    "            self.net = nn.Sequential(\n",
    "                nn.Conv2d(in_ch, out_ch, kernel_size=3, padding=1),\n",
    "                nn.BatchNorm2d(out_ch),\n",
    "                nn.ReLU(inplace=True),\n",
    "                nn.Dropout(p=dropout_prob),\n",
    "                nn.Conv2d(out_ch, out_ch, kernel_size=3, padding=1),\n",
    "                nn.BatchNorm2d(out_ch),\n",
    "                nn.ReLU(inplace=True),\n",
    "                nn.Dropout(p=dropout_prob),\n",
    "            )\n",
    "        else:\n",
    "            self.net = nn.Sequential(\n",
    "                nn.Conv2d(in_ch, out_ch, kernel_size=3, padding=1),\n",
    "                nn.ReLU(inplace=True),\n",
    "                nn.Dropout(p=dropout_prob),\n",
    "                nn.Conv2d(out_ch, out_ch, kernel_size=3, padding=1),\n",
    "                nn.ReLU(inplace=True),\n",
    "                nn.Dropout(p=dropout_prob),\n",
    "            )\n",
    "\n",
    "    def forward(self, x: Tensor) -> Tensor:\n",
    "        return self.net(x)\n",
    "\n",
    "\n",
    "class _Down(nn.Module):\n",
    "    \"\"\"Combination of MaxPool2d and DoubleConv in series.\"\"\"\n",
    "\n",
    "    def __init__(self, in_ch: int, out_ch: int, dropout_prob: float, use_batchnorm: bool):\n",
    "        super().__init__()\n",
    "        self.net = nn.Sequential(\n",
    "            nn.MaxPool2d(kernel_size=2, stride=2),\n",
    "            _DoubleConv(in_ch, out_ch, dropout_prob, use_batchnorm),\n",
    "        )\n",
    "\n",
    "    def forward(self, x: Tensor) -> Tensor:  \n",
    "        return self.net(x)\n",
    "\n",
    "\n",
    "class _Up(nn.Module):\n",
    "    \"\"\"Upsampling (by either bilinear interpolation or transpose convolutions).\n",
    "\n",
    "    followed by concatenation of feature map from contracting path, followed by double 3x3\n",
    "    convolution.\n",
    "    \"\"\"\n",
    "\n",
    "    def __init__(\n",
    "        self, in_ch, out_ch: int, dropout_prob: float, use_batchnorm: bool, bilinear: bool = False\n",
    "    ):\n",
    "        super().__init__()\n",
    "        self.upsample = None\n",
    "        if bilinear:\n",
    "            self.upsample = nn.Upsample(scale_factor=2, mode=\"bilinear\", align_corners=True)\n",
    "        else:\n",
    "            self.upsample = nn.ConvTranspose2d(in_ch, in_ch // 2, kernel_size=2, stride=2)\n",
    "\n",
    "        self.conv = _DoubleConv(in_ch, out_ch, dropout_prob, use_batchnorm)\n",
    "\n",
    "    def forward(self, x: Tensor, connected_encoder_features: Tensor) -> Tensor:\n",
    "        x = self.upsample(x)\n",
    "\n",
    "        # Pad ``x`` to the size of ``connected_encoder_features``\n",
    "        diff_h = connected_encoder_features.shape[2] - x.shape[2]\n",
    "        diff_w = connected_encoder_features.shape[3] - x.shape[3]\n",
    "\n",
    "        x = F.pad(x, [diff_w // 2, diff_w - diff_w // 2, diff_h // 2, diff_h - diff_h // 2])\n",
    "\n",
    "        # Concatenate along the channels axis\n",
    "        x = torch.cat([connected_encoder_features, x], dim=1)\n",
    "\n",
    "        return self.conv(x)\n",
    "\n",
    "\n",
    "# initialize the NN\n",
    "device = torch.device(\"cuda\" if torch.cuda.is_available() else \"cpu\")\n",
    "model = UNet(input_shape=input_shape, output_shape=output_shape, init_channels=init_channels).to(device)"
   ]
  },
  {
   "cell_type": "markdown",
   "metadata": {},
   "source": [
    "### <span style=\"color:brown\"> Function: ```Summary``` </span>\n",
    "\n",
    "The **summary** function provides a detailed overview of the model. Pay close attention to the following key information:\n",
    "\n",
    "- **Number of parameters**: This indicates the total number of learnable parameters in the model, which can give you insight into its complexity.\n",
    "- **Total model size**: This refers to the overall size of the model in memory, which is important for assessing its computational requirements and suitability for deployment.\n",
    "\n",
    "Understanding these details can help you evaluate the efficiency and scalability of the model."
   ]
  },
  {
   "cell_type": "code",
   "execution_count": 18,
   "metadata": {},
   "outputs": [
    {
     "data": {
      "text/plain": [
       "=================================================================================================================================================\n",
       "Layer (type:depth-idx)                        Input Shape               Output Shape              Kernel Shape              Param #\n",
       "=================================================================================================================================================\n",
       "UNet                                          [8, 1, 304, 752]          [8, 1, 304, 752]          --                        --\n",
       "├─_DoubleConv: 1-1                            [8, 1, 304, 752]          [8, 16, 304, 752]         --                        --\n",
       "│    └─Sequential: 2-1                        [8, 1, 304, 752]          [8, 16, 304, 752]         --                        --\n",
       "│    │    └─Conv2d: 3-1                       [8, 1, 304, 752]          [8, 16, 304, 752]         [3, 3]                    160\n",
       "│    │    └─BatchNorm2d: 3-2                  [8, 16, 304, 752]         [8, 16, 304, 752]         --                        32\n",
       "│    │    └─ReLU: 3-3                         [8, 16, 304, 752]         [8, 16, 304, 752]         --                        --\n",
       "│    │    └─Dropout: 3-4                      [8, 16, 304, 752]         [8, 16, 304, 752]         --                        --\n",
       "│    │    └─Conv2d: 3-5                       [8, 16, 304, 752]         [8, 16, 304, 752]         [3, 3]                    2,320\n",
       "│    │    └─BatchNorm2d: 3-6                  [8, 16, 304, 752]         [8, 16, 304, 752]         --                        32\n",
       "│    │    └─ReLU: 3-7                         [8, 16, 304, 752]         [8, 16, 304, 752]         --                        --\n",
       "│    │    └─Dropout: 3-8                      [8, 16, 304, 752]         [8, 16, 304, 752]         --                        --\n",
       "├─_Down: 1-2                                  [8, 16, 304, 752]         [8, 32, 152, 376]         --                        --\n",
       "│    └─Sequential: 2-2                        [8, 16, 304, 752]         [8, 32, 152, 376]         --                        --\n",
       "│    │    └─MaxPool2d: 3-9                    [8, 16, 304, 752]         [8, 16, 152, 376]         2                         --\n",
       "│    │    └─_DoubleConv: 3-10                 [8, 16, 152, 376]         [8, 32, 152, 376]         --                        --\n",
       "│    │    │    └─Sequential: 4-1              [8, 16, 152, 376]         [8, 32, 152, 376]         --                        --\n",
       "│    │    │    │    └─Conv2d: 5-1             [8, 16, 152, 376]         [8, 32, 152, 376]         [3, 3]                    4,640\n",
       "│    │    │    │    └─BatchNorm2d: 5-2        [8, 32, 152, 376]         [8, 32, 152, 376]         --                        64\n",
       "│    │    │    │    └─ReLU: 5-3               [8, 32, 152, 376]         [8, 32, 152, 376]         --                        --\n",
       "│    │    │    │    └─Dropout: 5-4            [8, 32, 152, 376]         [8, 32, 152, 376]         --                        --\n",
       "│    │    │    │    └─Conv2d: 5-5             [8, 32, 152, 376]         [8, 32, 152, 376]         [3, 3]                    9,248\n",
       "│    │    │    │    └─BatchNorm2d: 5-6        [8, 32, 152, 376]         [8, 32, 152, 376]         --                        64\n",
       "│    │    │    │    └─ReLU: 5-7               [8, 32, 152, 376]         [8, 32, 152, 376]         --                        --\n",
       "│    │    │    │    └─Dropout: 5-8            [8, 32, 152, 376]         [8, 32, 152, 376]         --                        --\n",
       "├─_Down: 1-3                                  [8, 32, 152, 376]         [8, 64, 76, 188]          --                        --\n",
       "│    └─Sequential: 2-3                        [8, 32, 152, 376]         [8, 64, 76, 188]          --                        --\n",
       "│    │    └─MaxPool2d: 3-11                   [8, 32, 152, 376]         [8, 32, 76, 188]          2                         --\n",
       "│    │    └─_DoubleConv: 3-12                 [8, 32, 76, 188]          [8, 64, 76, 188]          --                        --\n",
       "│    │    │    └─Sequential: 4-2              [8, 32, 76, 188]          [8, 64, 76, 188]          --                        --\n",
       "│    │    │    │    └─Conv2d: 5-9             [8, 32, 76, 188]          [8, 64, 76, 188]          [3, 3]                    18,496\n",
       "│    │    │    │    └─BatchNorm2d: 5-10       [8, 64, 76, 188]          [8, 64, 76, 188]          --                        128\n",
       "│    │    │    │    └─ReLU: 5-11              [8, 64, 76, 188]          [8, 64, 76, 188]          --                        --\n",
       "│    │    │    │    └─Dropout: 5-12           [8, 64, 76, 188]          [8, 64, 76, 188]          --                        --\n",
       "│    │    │    │    └─Conv2d: 5-13            [8, 64, 76, 188]          [8, 64, 76, 188]          [3, 3]                    36,928\n",
       "│    │    │    │    └─BatchNorm2d: 5-14       [8, 64, 76, 188]          [8, 64, 76, 188]          --                        128\n",
       "│    │    │    │    └─ReLU: 5-15              [8, 64, 76, 188]          [8, 64, 76, 188]          --                        --\n",
       "│    │    │    │    └─Dropout: 5-16           [8, 64, 76, 188]          [8, 64, 76, 188]          --                        --\n",
       "├─_Down: 1-4                                  [8, 64, 76, 188]          [8, 128, 38, 94]          --                        --\n",
       "│    └─Sequential: 2-4                        [8, 64, 76, 188]          [8, 128, 38, 94]          --                        --\n",
       "│    │    └─MaxPool2d: 3-13                   [8, 64, 76, 188]          [8, 64, 38, 94]           2                         --\n",
       "│    │    └─_DoubleConv: 3-14                 [8, 64, 38, 94]           [8, 128, 38, 94]          --                        --\n",
       "│    │    │    └─Sequential: 4-3              [8, 64, 38, 94]           [8, 128, 38, 94]          --                        --\n",
       "│    │    │    │    └─Conv2d: 5-17            [8, 64, 38, 94]           [8, 128, 38, 94]          [3, 3]                    73,856\n",
       "│    │    │    │    └─BatchNorm2d: 5-18       [8, 128, 38, 94]          [8, 128, 38, 94]          --                        256\n",
       "│    │    │    │    └─ReLU: 5-19              [8, 128, 38, 94]          [8, 128, 38, 94]          --                        --\n",
       "│    │    │    │    └─Dropout: 5-20           [8, 128, 38, 94]          [8, 128, 38, 94]          --                        --\n",
       "│    │    │    │    └─Conv2d: 5-21            [8, 128, 38, 94]          [8, 128, 38, 94]          [3, 3]                    147,584\n",
       "│    │    │    │    └─BatchNorm2d: 5-22       [8, 128, 38, 94]          [8, 128, 38, 94]          --                        256\n",
       "│    │    │    │    └─ReLU: 5-23              [8, 128, 38, 94]          [8, 128, 38, 94]          --                        --\n",
       "│    │    │    │    └─Dropout: 5-24           [8, 128, 38, 94]          [8, 128, 38, 94]          --                        --\n",
       "├─_Up: 1-5                                    [8, 128, 38, 94]          [8, 64, 76, 188]          --                        --\n",
       "│    └─ConvTranspose2d: 2-5                   [8, 128, 38, 94]          [8, 64, 76, 188]          [2, 2]                    32,832\n",
       "│    └─_DoubleConv: 2-6                       [8, 128, 76, 188]         [8, 64, 76, 188]          --                        --\n",
       "│    │    └─Sequential: 3-15                  [8, 128, 76, 188]         [8, 64, 76, 188]          --                        --\n",
       "│    │    │    └─Conv2d: 4-4                  [8, 128, 76, 188]         [8, 64, 76, 188]          [3, 3]                    73,792\n",
       "│    │    │    └─BatchNorm2d: 4-5             [8, 64, 76, 188]          [8, 64, 76, 188]          --                        128\n",
       "│    │    │    └─ReLU: 4-6                    [8, 64, 76, 188]          [8, 64, 76, 188]          --                        --\n",
       "│    │    │    └─Dropout: 4-7                 [8, 64, 76, 188]          [8, 64, 76, 188]          --                        --\n",
       "│    │    │    └─Conv2d: 4-8                  [8, 64, 76, 188]          [8, 64, 76, 188]          [3, 3]                    36,928\n",
       "│    │    │    └─BatchNorm2d: 4-9             [8, 64, 76, 188]          [8, 64, 76, 188]          --                        128\n",
       "│    │    │    └─ReLU: 4-10                   [8, 64, 76, 188]          [8, 64, 76, 188]          --                        --\n",
       "│    │    │    └─Dropout: 4-11                [8, 64, 76, 188]          [8, 64, 76, 188]          --                        --\n",
       "├─_Up: 1-6                                    [8, 64, 76, 188]          [8, 32, 152, 376]         --                        --\n",
       "│    └─ConvTranspose2d: 2-7                   [8, 64, 76, 188]          [8, 32, 152, 376]         [2, 2]                    8,224\n",
       "│    └─_DoubleConv: 2-8                       [8, 64, 152, 376]         [8, 32, 152, 376]         --                        --\n",
       "│    │    └─Sequential: 3-16                  [8, 64, 152, 376]         [8, 32, 152, 376]         --                        --\n",
       "│    │    │    └─Conv2d: 4-12                 [8, 64, 152, 376]         [8, 32, 152, 376]         [3, 3]                    18,464\n",
       "│    │    │    └─BatchNorm2d: 4-13            [8, 32, 152, 376]         [8, 32, 152, 376]         --                        64\n",
       "│    │    │    └─ReLU: 4-14                   [8, 32, 152, 376]         [8, 32, 152, 376]         --                        --\n",
       "│    │    │    └─Dropout: 4-15                [8, 32, 152, 376]         [8, 32, 152, 376]         --                        --\n",
       "│    │    │    └─Conv2d: 4-16                 [8, 32, 152, 376]         [8, 32, 152, 376]         [3, 3]                    9,248\n",
       "│    │    │    └─BatchNorm2d: 4-17            [8, 32, 152, 376]         [8, 32, 152, 376]         --                        64\n",
       "│    │    │    └─ReLU: 4-18                   [8, 32, 152, 376]         [8, 32, 152, 376]         --                        --\n",
       "│    │    │    └─Dropout: 4-19                [8, 32, 152, 376]         [8, 32, 152, 376]         --                        --\n",
       "├─_Up: 1-7                                    [8, 32, 152, 376]         [8, 16, 304, 752]         --                        --\n",
       "│    └─ConvTranspose2d: 2-9                   [8, 32, 152, 376]         [8, 16, 304, 752]         [2, 2]                    2,064\n",
       "│    └─_DoubleConv: 2-10                      [8, 32, 304, 752]         [8, 16, 304, 752]         --                        --\n",
       "│    │    └─Sequential: 3-17                  [8, 32, 304, 752]         [8, 16, 304, 752]         --                        --\n",
       "│    │    │    └─Conv2d: 4-20                 [8, 32, 304, 752]         [8, 16, 304, 752]         [3, 3]                    4,624\n",
       "│    │    │    └─BatchNorm2d: 4-21            [8, 16, 304, 752]         [8, 16, 304, 752]         --                        32\n",
       "│    │    │    └─ReLU: 4-22                   [8, 16, 304, 752]         [8, 16, 304, 752]         --                        --\n",
       "│    │    │    └─Dropout: 4-23                [8, 16, 304, 752]         [8, 16, 304, 752]         --                        --\n",
       "│    │    │    └─Conv2d: 4-24                 [8, 16, 304, 752]         [8, 16, 304, 752]         [3, 3]                    2,320\n",
       "│    │    │    └─BatchNorm2d: 4-25            [8, 16, 304, 752]         [8, 16, 304, 752]         --                        32\n",
       "│    │    │    └─ReLU: 4-26                   [8, 16, 304, 752]         [8, 16, 304, 752]         --                        --\n",
       "│    │    │    └─Dropout: 4-27                [8, 16, 304, 752]         [8, 16, 304, 752]         --                        --\n",
       "├─Conv2d: 1-8                                 [8, 16, 304, 752]         [8, 1, 304, 752]          [1, 1]                    17\n",
       "=================================================================================================================================================\n",
       "Total params: 483,153\n",
       "Trainable params: 483,153\n",
       "Non-trainable params: 0\n",
       "Total mult-adds (Units.GIGABYTES): 72.89\n",
       "=================================================================================================================================================\n",
       "Input size (MB): 7.32\n",
       "Forward/backward pass size (MB): 3818.67\n",
       "Params size (MB): 1.93\n",
       "Estimated Total Size (MB): 3827.92\n",
       "================================================================================================================================================="
      ]
     },
     "execution_count": 18,
     "metadata": {},
     "output_type": "execute_result"
    }
   ],
   "source": [
    "# Print the summary of the network\n",
    "#summary_kwargs:\tUn dictionnaire de paramètres pour summary()\n",
    "summary_kwargs = dict(\n",
    "    col_names=[\"input_size\", \"output_size\", \"kernel_size\", \"num_params\"], depth=5, verbose=0\n",
    ")\n",
    "#verbose=0\tN’affiche pas les entrées/sorties des modules très petits ou inutiles (plus clean)\n",
    "#summary(model, input_size = (32,3, 64, 64),  device=device, **summary_kwargs)\n",
    "summary(model, input_size = (BATCH_SIZE,1, width, height),  device=device, **summary_kwargs)\n",
    "#**summary_kwargs: Tu le \"déplies\" pour passer chaque clé/valeur comme un argument à la fonction"
   ]
  },
  {
   "cell_type": "code",
   "execution_count": 17,
   "metadata": {},
   "outputs": [
    {
     "data": {
      "text/plain": [
       "=================================================================================================================================================\n",
       "Layer (type:depth-idx)                        Input Shape               Output Shape              Kernel Shape              Param #\n",
       "=================================================================================================================================================\n",
       "UNet                                          [8, 1, 304, 752]          [8, 1, 304, 752]          --                        --\n",
       "├─_DoubleConv: 1-1                            [8, 1, 304, 752]          [8, 16, 304, 752]         --                        --\n",
       "│    └─Sequential: 2-1                        [8, 1, 304, 752]          [8, 16, 304, 752]         --                        2,544\n",
       "├─_Down: 1-2                                  [8, 16, 304, 752]         [8, 32, 152, 376]         --                        --\n",
       "│    └─Sequential: 2-2                        [8, 16, 304, 752]         [8, 32, 152, 376]         --                        14,016\n",
       "├─_Down: 1-3                                  [8, 32, 152, 376]         [8, 64, 76, 188]          --                        --\n",
       "│    └─Sequential: 2-3                        [8, 32, 152, 376]         [8, 64, 76, 188]          --                        55,680\n",
       "├─_Down: 1-4                                  [8, 64, 76, 188]          [8, 128, 38, 94]          --                        --\n",
       "│    └─Sequential: 2-4                        [8, 64, 76, 188]          [8, 128, 38, 94]          --                        221,952\n",
       "├─_Up: 1-5                                    [8, 128, 38, 94]          [8, 64, 76, 188]          --                        --\n",
       "│    └─ConvTranspose2d: 2-5                   [8, 128, 38, 94]          [8, 64, 76, 188]          [2, 2]                    32,832\n",
       "│    └─_DoubleConv: 2-6                       [8, 128, 76, 188]         [8, 64, 76, 188]          --                        110,976\n",
       "├─_Up: 1-6                                    [8, 64, 76, 188]          [8, 32, 152, 376]         --                        --\n",
       "│    └─ConvTranspose2d: 2-7                   [8, 64, 76, 188]          [8, 32, 152, 376]         [2, 2]                    8,224\n",
       "│    └─_DoubleConv: 2-8                       [8, 64, 152, 376]         [8, 32, 152, 376]         --                        27,840\n",
       "├─_Up: 1-7                                    [8, 32, 152, 376]         [8, 16, 304, 752]         --                        --\n",
       "│    └─ConvTranspose2d: 2-9                   [8, 32, 152, 376]         [8, 16, 304, 752]         [2, 2]                    2,064\n",
       "│    └─_DoubleConv: 2-10                      [8, 32, 304, 752]         [8, 16, 304, 752]         --                        7,008\n",
       "├─Conv2d: 1-8                                 [8, 16, 304, 752]         [8, 1, 304, 752]          [1, 1]                    17\n",
       "=================================================================================================================================================\n",
       "Total params: 483,153\n",
       "Trainable params: 483,153\n",
       "Non-trainable params: 0\n",
       "Total mult-adds (Units.GIGABYTES): 72.89\n",
       "=================================================================================================================================================\n",
       "Input size (MB): 7.32\n",
       "Forward/backward pass size (MB): 3818.67\n",
       "Params size (MB): 1.93\n",
       "Estimated Total Size (MB): 3827.92\n",
       "================================================================================================================================================="
      ]
     },
     "execution_count": 17,
     "metadata": {},
     "output_type": "execute_result"
    }
   ],
   "source": [
    "# Print the summary of the network\n",
    "summary_kwargs = dict(\n",
    "    col_names=[\"input_size\", \"output_size\", \"kernel_size\", \"num_params\"], depth=2, verbose=0\n",
    ")\n",
    "#summary(model, input_size = (32,3, 64, 64),  device=device, **summary_kwargs)\n",
    "summary(model, input_size = (BATCH_SIZE,1, width, height),  device=device, **summary_kwargs)   "
   ]
  },
  {
   "cell_type": "markdown",
   "metadata": {},
   "source": [
    "\n",
    "## 4. Specify [Loss Function](http://pytorch.org/docs/stable/nn.html#loss-functions) and [Optimizer](http://pytorch.org/docs/stable/optim.html)\n",
    "\n",
    "It's recommended that you use `BCEWithLogitsLoss`. \n",
    "\n",
    "`BCEWithLogitsLoss` combines **sigmoid activation** and **Binary Cross-Entropy (BCE) loss** into a single function. It is used when the **model's outputs** are raw logits (values before applying a sigmoid activation to convert them into probabilities).\n",
    "\n",
    "`BCELoss` stands for **Binary Cross-Entropy Loss**. It is used when the model's output is already in the form of **probabilities** (values between 0 and 1).\n",
    "\n",
    "\n",
    "- **`BCEWithLogitsLoss`**:\n",
    "  - Accepts **logits** (raw model outputs).\n",
    "  - Automatically applies the sigmoid function internally.\n",
    "  - More **numerically stable** because sigmoid and BCE are combined into one operation.\n",
    "\n",
    "- **`BCELoss`**:\n",
    "  - Accepts **probabilities** (values between 0 and 1).\n",
    "  - Requires **manual application of the sigmoid function** in the model’s output.\n"
   ]
  },
  {
   "cell_type": "code",
   "execution_count": 19,
   "metadata": {},
   "outputs": [],
   "source": [
    "## Specify loss and optimization functions\n",
    "\n",
    "# Parameters\n",
    "learning_rate = 0.001\n",
    "n_epochs = 100 # 5 # 20\n",
    "\n",
    "# specify loss function\n",
    "#criterion = DiceLoss()\n",
    "\n",
    "criterion = nn.BCEWithLogitsLoss()\n",
    "# specify optimizer\n",
    "#optimizer = torch.optim.Adam(model.parameters(), lr=learning_rate)\n",
    "optimizer = torch.optim.AdamW(model.parameters(), lr=LEARNING_RATE)\n",
    "#optimizer = torch.optim.SGD(model.parameters(), lr=LEARNING_RATE)"
   ]
  },
  {
   "cell_type": "markdown",
   "metadata": {},
   "source": [
    "---\n",
    "## <span style=\"color:brown\"> 4. Train the Network\n",
    "\n",
    "The steps for training/learning from a batch of data are described in the comments below:\n",
    "1. Clear the gradients of all optimized variables\n",
    "2. Forward pass: compute predicted outputs by passing inputs to the model\n",
    "3. Calculate the loss\n",
    "4. Backward pass: compute gradient of the loss with respect to model parameters\n",
    "5. Perform a single optimization step (parameter update)\n",
    "6. Update average training loss\n",
    "\n",
    "The following loop trains for 3 epochs; feel free to change this number. For now, we suggest somewhere between 20-50 epochs. As you train, take a look at how the values for the training loss decrease over time. We want it to decrease while also avoiding overfitting the training data. "
   ]
  },
  {
   "cell_type": "markdown",
   "metadata": {},
   "source": [
    "### <span style=\"color:brown\"> 4.1 Training loop"
   ]
  },
  {
   "cell_type": "code",
   "execution_count": 21,
   "metadata": {},
   "outputs": [
    {
     "name": "stderr",
     "output_type": "stream",
     "text": [
      "100%|████████████████████████████████████████| 6/6 [00:09<00:00,  1.60s/it]\n",
      "100%|████████████████████████████████████████| 1/1 [00:00<00:00,  1.05it/s]\n",
      "  1%|▍                                     | 1/100 [00:10<17:30, 10.61s/it]"
     ]
    },
    {
     "name": "stdout",
     "output_type": "stream",
     "text": [
      "Epoch: 1 \tTraining Loss: 0.1123 \tValidation Loss: 0.1182\n"
     ]
    },
    {
     "name": "stderr",
     "output_type": "stream",
     "text": [
      "100%|████████████████████████████████████████| 6/6 [00:08<00:00,  1.42s/it]\n",
      "100%|████████████████████████████████████████| 1/1 [00:00<00:00,  1.42it/s]\n",
      "  2%|▊                                     | 2/100 [00:19<16:03,  9.83s/it]"
     ]
    },
    {
     "name": "stdout",
     "output_type": "stream",
     "text": [
      "Epoch: 2 \tTraining Loss: 0.1111 \tValidation Loss: 0.1160\n"
     ]
    },
    {
     "name": "stderr",
     "output_type": "stream",
     "text": [
      "100%|████████████████████████████████████████| 6/6 [00:10<00:00,  1.82s/it]\n",
      "100%|████████████████████████████████████████| 1/1 [00:00<00:00,  2.55it/s]\n",
      "  3%|█▏                                    | 3/100 [00:31<17:02, 10.54s/it]"
     ]
    },
    {
     "name": "stdout",
     "output_type": "stream",
     "text": [
      "Epoch: 3 \tTraining Loss: 0.1095 \tValidation Loss: 0.1088\n"
     ]
    },
    {
     "name": "stderr",
     "output_type": "stream",
     "text": [
      "100%|████████████████████████████████████████| 6/6 [00:10<00:00,  1.72s/it]\n",
      "100%|████████████████████████████████████████| 1/1 [00:00<00:00,  1.01it/s]\n",
      "  4%|█▌                                    | 4/100 [00:42<17:23, 10.87s/it]"
     ]
    },
    {
     "name": "stdout",
     "output_type": "stream",
     "text": [
      "Epoch: 4 \tTraining Loss: 0.1081 \tValidation Loss: 0.1025\n"
     ]
    },
    {
     "name": "stderr",
     "output_type": "stream",
     "text": [
      "100%|████████████████████████████████████████| 6/6 [00:10<00:00,  1.67s/it]\n",
      "100%|████████████████████████████████████████| 1/1 [00:00<00:00,  1.37it/s]\n",
      "  5%|█▉                                    | 5/100 [00:53<17:11, 10.85s/it]"
     ]
    },
    {
     "name": "stdout",
     "output_type": "stream",
     "text": [
      "Epoch: 5 \tTraining Loss: 0.1069 \tValidation Loss: 0.1005\n"
     ]
    },
    {
     "name": "stderr",
     "output_type": "stream",
     "text": [
      "100%|████████████████████████████████████████| 6/6 [00:07<00:00,  1.24s/it]\n",
      "100%|████████████████████████████████████████| 1/1 [00:00<00:00,  1.02it/s]\n",
      "  6%|██▎                                   | 6/100 [01:01<15:43, 10.04s/it]"
     ]
    },
    {
     "name": "stdout",
     "output_type": "stream",
     "text": [
      "Epoch: 6 \tTraining Loss: 0.1056 \tValidation Loss: 0.1026\n"
     ]
    },
    {
     "name": "stderr",
     "output_type": "stream",
     "text": [
      "100%|████████████████████████████████████████| 6/6 [00:07<00:00,  1.32s/it]\n",
      "100%|████████████████████████████████████████| 1/1 [00:00<00:00,  1.44it/s]\n",
      "  7%|██▋                                   | 7/100 [01:10<14:52,  9.59s/it]"
     ]
    },
    {
     "name": "stdout",
     "output_type": "stream",
     "text": [
      "Epoch: 7 \tTraining Loss: 0.1045 \tValidation Loss: 0.1073\n"
     ]
    },
    {
     "name": "stderr",
     "output_type": "stream",
     "text": [
      "100%|████████████████████████████████████████| 6/6 [00:10<00:00,  1.71s/it]\n",
      "100%|████████████████████████████████████████| 1/1 [00:00<00:00,  1.47it/s]\n",
      "  8%|███                                   | 8/100 [01:21<15:24, 10.05s/it]"
     ]
    },
    {
     "name": "stdout",
     "output_type": "stream",
     "text": [
      "Epoch: 8 \tTraining Loss: 0.1035 \tValidation Loss: 0.1029\n"
     ]
    },
    {
     "name": "stderr",
     "output_type": "stream",
     "text": [
      "100%|████████████████████████████████████████| 6/6 [00:08<00:00,  1.41s/it]\n",
      "100%|████████████████████████████████████████| 1/1 [00:00<00:00,  1.39it/s]\n",
      "  9%|███▍                                  | 9/100 [01:30<14:53,  9.82s/it]"
     ]
    },
    {
     "name": "stdout",
     "output_type": "stream",
     "text": [
      "Epoch: 9 \tTraining Loss: 0.1023 \tValidation Loss: 0.0993\n"
     ]
    },
    {
     "name": "stderr",
     "output_type": "stream",
     "text": [
      "100%|████████████████████████████████████████| 6/6 [00:08<00:00,  1.45s/it]\n",
      "100%|████████████████████████████████████████| 1/1 [00:01<00:00,  1.00s/it]\n",
      " 10%|███▋                                 | 10/100 [01:40<14:43,  9.82s/it]"
     ]
    },
    {
     "name": "stdout",
     "output_type": "stream",
     "text": [
      "Epoch: 10 \tTraining Loss: 0.1012 \tValidation Loss: 0.1018\n"
     ]
    },
    {
     "name": "stderr",
     "output_type": "stream",
     "text": [
      "100%|████████████████████████████████████████| 6/6 [00:07<00:00,  1.20s/it]\n",
      "100%|████████████████████████████████████████| 1/1 [00:00<00:00, 10.49it/s]\n",
      " 11%|████                                 | 11/100 [01:48<13:25,  9.05s/it]"
     ]
    },
    {
     "name": "stdout",
     "output_type": "stream",
     "text": [
      "Epoch: 11 \tTraining Loss: 0.1001 \tValidation Loss: 0.1038\n"
     ]
    },
    {
     "name": "stderr",
     "output_type": "stream",
     "text": [
      "100%|████████████████████████████████████████| 6/6 [00:08<00:00,  1.41s/it]\n",
      "100%|████████████████████████████████████████| 1/1 [00:00<00:00,  1.53it/s]\n",
      " 12%|████▍                                | 12/100 [01:57<13:20,  9.10s/it]"
     ]
    },
    {
     "name": "stdout",
     "output_type": "stream",
     "text": [
      "Epoch: 12 \tTraining Loss: 0.0991 \tValidation Loss: 0.0949\n"
     ]
    },
    {
     "name": "stderr",
     "output_type": "stream",
     "text": [
      "100%|████████████████████████████████████████| 6/6 [00:08<00:00,  1.39s/it]\n",
      "100%|████████████████████████████████████████| 1/1 [00:00<00:00, 10.63it/s]\n",
      " 13%|████▊                                | 13/100 [02:05<12:54,  8.90s/it]"
     ]
    },
    {
     "name": "stdout",
     "output_type": "stream",
     "text": [
      "Epoch: 13 \tTraining Loss: 0.0978 \tValidation Loss: 0.1010\n"
     ]
    },
    {
     "name": "stderr",
     "output_type": "stream",
     "text": [
      "100%|████████████████████████████████████████| 6/6 [00:03<00:00,  1.63it/s]\n",
      "100%|████████████████████████████████████████| 1/1 [00:00<00:00, 10.08it/s]\n",
      " 14%|█████▏                               | 14/100 [02:09<10:32,  7.35s/it]"
     ]
    },
    {
     "name": "stdout",
     "output_type": "stream",
     "text": [
      "Epoch: 14 \tTraining Loss: 0.0968 \tValidation Loss: 0.1011\n"
     ]
    },
    {
     "name": "stderr",
     "output_type": "stream",
     "text": [
      "100%|████████████████████████████████████████| 6/6 [00:01<00:00,  3.04it/s]\n",
      "100%|████████████████████████████████████████| 1/1 [00:00<00:00, 10.18it/s]\n",
      " 15%|█████▌                               | 15/100 [02:11<08:09,  5.76s/it]"
     ]
    },
    {
     "name": "stdout",
     "output_type": "stream",
     "text": [
      "Epoch: 15 \tTraining Loss: 0.0958 \tValidation Loss: 0.0947\n"
     ]
    },
    {
     "name": "stderr",
     "output_type": "stream",
     "text": [
      "100%|████████████████████████████████████████| 6/6 [00:01<00:00,  3.05it/s]\n",
      "100%|████████████████████████████████████████| 1/1 [00:00<00:00, 10.19it/s]\n",
      " 16%|█████▉                               | 16/100 [02:13<06:30,  4.65s/it]"
     ]
    },
    {
     "name": "stdout",
     "output_type": "stream",
     "text": [
      "Epoch: 16 \tTraining Loss: 0.0948 \tValidation Loss: 0.0961\n"
     ]
    },
    {
     "name": "stderr",
     "output_type": "stream",
     "text": [
      "100%|████████████████████████████████████████| 6/6 [00:01<00:00,  3.05it/s]\n",
      "100%|████████████████████████████████████████| 1/1 [00:00<00:00, 10.21it/s]\n",
      " 17%|██████▎                              | 17/100 [02:15<05:21,  3.88s/it]"
     ]
    },
    {
     "name": "stdout",
     "output_type": "stream",
     "text": [
      "Epoch: 17 \tTraining Loss: 0.0939 \tValidation Loss: 0.0932\n"
     ]
    },
    {
     "name": "stderr",
     "output_type": "stream",
     "text": [
      "100%|████████████████████████████████████████| 6/6 [00:05<00:00,  1.08it/s]\n",
      "100%|████████████████████████████████████████| 1/1 [00:00<00:00,  9.01it/s]\n",
      " 18%|██████▋                              | 18/100 [02:21<06:02,  4.42s/it]"
     ]
    },
    {
     "name": "stdout",
     "output_type": "stream",
     "text": [
      "Epoch: 18 \tTraining Loss: 0.0930 \tValidation Loss: 0.0954\n"
     ]
    },
    {
     "name": "stderr",
     "output_type": "stream",
     "text": [
      "100%|████████████████████████████████████████| 6/6 [00:02<00:00,  2.89it/s]\n",
      "100%|████████████████████████████████████████| 1/1 [00:00<00:00,  9.12it/s]\n",
      " 19%|███████                              | 19/100 [02:23<05:04,  3.75s/it]"
     ]
    },
    {
     "name": "stdout",
     "output_type": "stream",
     "text": [
      "Epoch: 19 \tTraining Loss: 0.0919 \tValidation Loss: 0.0943\n"
     ]
    },
    {
     "name": "stderr",
     "output_type": "stream",
     "text": [
      "100%|████████████████████████████████████████| 6/6 [00:02<00:00,  2.96it/s]\n",
      "100%|████████████████████████████████████████| 1/1 [00:00<00:00,  9.37it/s]\n",
      " 20%|███████▍                             | 20/100 [02:25<04:21,  3.27s/it]"
     ]
    },
    {
     "name": "stdout",
     "output_type": "stream",
     "text": [
      "Epoch: 20 \tTraining Loss: 0.0911 \tValidation Loss: 0.0900\n"
     ]
    },
    {
     "name": "stderr",
     "output_type": "stream",
     "text": [
      "100%|████████████████████████████████████████| 6/6 [00:03<00:00,  1.63it/s]\n",
      "100%|████████████████████████████████████████| 1/1 [00:00<00:00, 10.38it/s]\n",
      " 21%|███████▊                             | 21/100 [02:29<04:30,  3.43s/it]"
     ]
    },
    {
     "name": "stdout",
     "output_type": "stream",
     "text": [
      "Epoch: 21 \tTraining Loss: 0.0898 \tValidation Loss: 0.0878\n"
     ]
    },
    {
     "name": "stderr",
     "output_type": "stream",
     "text": [
      "100%|████████████████████████████████████████| 6/6 [00:01<00:00,  3.00it/s]\n",
      "100%|████████████████████████████████████████| 1/1 [00:00<00:00, 10.33it/s]\n",
      " 22%|████████▏                            | 22/100 [02:31<03:56,  3.03s/it]"
     ]
    },
    {
     "name": "stdout",
     "output_type": "stream",
     "text": [
      "Epoch: 22 \tTraining Loss: 0.0889 \tValidation Loss: 0.0892\n"
     ]
    },
    {
     "name": "stderr",
     "output_type": "stream",
     "text": [
      "100%|████████████████████████████████████████| 6/6 [00:07<00:00,  1.23s/it]\n",
      "100%|████████████████████████████████████████| 1/1 [00:00<00:00,  1.30it/s]\n",
      " 23%|████████▌                            | 23/100 [02:39<05:52,  4.58s/it]"
     ]
    },
    {
     "name": "stdout",
     "output_type": "stream",
     "text": [
      "Epoch: 23 \tTraining Loss: 0.0880 \tValidation Loss: 0.0858\n"
     ]
    },
    {
     "name": "stderr",
     "output_type": "stream",
     "text": [
      "100%|████████████████████████████████████████| 6/6 [00:04<00:00,  1.50it/s]\n",
      "100%|████████████████████████████████████████| 1/1 [00:00<00:00,  9.63it/s]\n",
      " 24%|████████▉                            | 24/100 [02:44<05:38,  4.45s/it]"
     ]
    },
    {
     "name": "stdout",
     "output_type": "stream",
     "text": [
      "Epoch: 24 \tTraining Loss: 0.0871 \tValidation Loss: 0.0865\n"
     ]
    },
    {
     "name": "stderr",
     "output_type": "stream",
     "text": [
      "100%|████████████████████████████████████████| 6/6 [00:02<00:00,  3.00it/s]\n",
      "100%|████████████████████████████████████████| 1/1 [00:00<00:00,  9.77it/s]\n",
      " 25%|█████████▎                           | 25/100 [02:46<04:41,  3.75s/it]"
     ]
    },
    {
     "name": "stdout",
     "output_type": "stream",
     "text": [
      "Epoch: 25 \tTraining Loss: 0.0860 \tValidation Loss: 0.0856\n"
     ]
    },
    {
     "name": "stderr",
     "output_type": "stream",
     "text": [
      "100%|████████████████████████████████████████| 6/6 [00:01<00:00,  3.01it/s]\n",
      "100%|████████████████████████████████████████| 1/1 [00:00<00:00,  9.72it/s]\n",
      " 26%|█████████▌                           | 26/100 [02:48<04:00,  3.26s/it]"
     ]
    },
    {
     "name": "stdout",
     "output_type": "stream",
     "text": [
      "Epoch: 26 \tTraining Loss: 0.0852 \tValidation Loss: 0.0831\n"
     ]
    },
    {
     "name": "stderr",
     "output_type": "stream",
     "text": [
      "100%|████████████████████████████████████████| 6/6 [00:02<00:00,  2.99it/s]\n",
      "100%|████████████████████████████████████████| 1/1 [00:00<00:00, 10.02it/s]\n",
      " 27%|█████████▉                           | 27/100 [02:50<03:32,  2.92s/it]"
     ]
    },
    {
     "name": "stdout",
     "output_type": "stream",
     "text": [
      "Epoch: 27 \tTraining Loss: 0.0842 \tValidation Loss: 0.0885\n"
     ]
    },
    {
     "name": "stderr",
     "output_type": "stream",
     "text": [
      "100%|████████████████████████████████████████| 6/6 [00:02<00:00,  2.97it/s]\n",
      "100%|████████████████████████████████████████| 1/1 [00:00<00:00,  9.48it/s]\n",
      " 28%|██████████▎                          | 28/100 [02:52<03:13,  2.68s/it]"
     ]
    },
    {
     "name": "stdout",
     "output_type": "stream",
     "text": [
      "Epoch: 28 \tTraining Loss: 0.0834 \tValidation Loss: 0.0864\n"
     ]
    },
    {
     "name": "stderr",
     "output_type": "stream",
     "text": [
      "100%|████████████████████████████████████████| 6/6 [00:02<00:00,  2.92it/s]\n",
      "100%|████████████████████████████████████████| 1/1 [00:00<00:00,  9.37it/s]\n",
      " 29%|██████████▋                          | 29/100 [02:54<02:59,  2.53s/it]"
     ]
    },
    {
     "name": "stdout",
     "output_type": "stream",
     "text": [
      "Epoch: 29 \tTraining Loss: 0.0825 \tValidation Loss: 0.0825\n"
     ]
    },
    {
     "name": "stderr",
     "output_type": "stream",
     "text": [
      "100%|████████████████████████████████████████| 6/6 [00:02<00:00,  2.96it/s]\n",
      "100%|████████████████████████████████████████| 1/1 [00:00<00:00,  9.60it/s]\n",
      " 30%|███████████                          | 30/100 [02:56<02:48,  2.41s/it]"
     ]
    },
    {
     "name": "stdout",
     "output_type": "stream",
     "text": [
      "Epoch: 30 \tTraining Loss: 0.0817 \tValidation Loss: 0.0850\n"
     ]
    },
    {
     "name": "stderr",
     "output_type": "stream",
     "text": [
      "100%|████████████████████████████████████████| 6/6 [00:02<00:00,  2.82it/s]\n",
      "100%|████████████████████████████████████████| 1/1 [00:00<00:00,  8.46it/s]\n",
      " 31%|███████████▍                         | 31/100 [02:59<02:43,  2.37s/it]"
     ]
    },
    {
     "name": "stdout",
     "output_type": "stream",
     "text": [
      "Epoch: 31 \tTraining Loss: 0.0808 \tValidation Loss: 0.0820\n"
     ]
    },
    {
     "name": "stderr",
     "output_type": "stream",
     "text": [
      "100%|████████████████████████████████████████| 6/6 [00:02<00:00,  2.95it/s]\n",
      "100%|████████████████████████████████████████| 1/1 [00:00<00:00,  9.64it/s]\n",
      " 32%|███████████▊                         | 32/100 [03:01<02:36,  2.30s/it]"
     ]
    },
    {
     "name": "stdout",
     "output_type": "stream",
     "text": [
      "Epoch: 32 \tTraining Loss: 0.0800 \tValidation Loss: 0.0830\n"
     ]
    },
    {
     "name": "stderr",
     "output_type": "stream",
     "text": [
      "100%|████████████████████████████████████████| 6/6 [00:07<00:00,  1.18s/it]\n",
      "100%|████████████████████████████████████████| 1/1 [00:00<00:00,  4.80it/s]\n",
      " 33%|████████████▏                        | 33/100 [03:08<04:15,  3.81s/it]"
     ]
    },
    {
     "name": "stdout",
     "output_type": "stream",
     "text": [
      "Epoch: 33 \tTraining Loss: 0.0791 \tValidation Loss: 0.0803\n"
     ]
    },
    {
     "name": "stderr",
     "output_type": "stream",
     "text": [
      "100%|████████████████████████████████████████| 6/6 [00:08<00:00,  1.37s/it]\n",
      "100%|████████████████████████████████████████| 1/1 [00:00<00:00,  4.45it/s]\n",
      " 34%|████████████▌                        | 34/100 [03:17<05:45,  5.23s/it]"
     ]
    },
    {
     "name": "stdout",
     "output_type": "stream",
     "text": [
      "Epoch: 34 \tTraining Loss: 0.0783 \tValidation Loss: 0.0851\n"
     ]
    },
    {
     "name": "stderr",
     "output_type": "stream",
     "text": [
      "100%|████████████████████████████████████████| 6/6 [00:07<00:00,  1.26s/it]\n",
      "100%|████████████████████████████████████████| 1/1 [00:00<00:00,  1.25it/s]\n",
      " 35%|████████████▉                        | 35/100 [03:25<06:42,  6.19s/it]"
     ]
    },
    {
     "name": "stdout",
     "output_type": "stream",
     "text": [
      "Epoch: 35 \tTraining Loss: 0.0775 \tValidation Loss: 0.0813\n"
     ]
    },
    {
     "name": "stderr",
     "output_type": "stream",
     "text": [
      "100%|████████████████████████████████████████| 6/6 [00:08<00:00,  1.49s/it]\n",
      "100%|████████████████████████████████████████| 1/1 [00:00<00:00,  1.40it/s]\n",
      " 36%|█████████████▎                       | 36/100 [03:35<07:44,  7.25s/it]"
     ]
    },
    {
     "name": "stdout",
     "output_type": "stream",
     "text": [
      "Epoch: 36 \tTraining Loss: 0.0772 \tValidation Loss: 0.0822\n"
     ]
    },
    {
     "name": "stderr",
     "output_type": "stream",
     "text": [
      "100%|████████████████████████████████████████| 6/6 [00:06<00:00,  1.04s/it]\n",
      "100%|████████████████████████████████████████| 1/1 [00:00<00:00,  9.68it/s]\n",
      " 37%|█████████████▋                       | 37/100 [03:41<07:20,  6.99s/it]"
     ]
    },
    {
     "name": "stdout",
     "output_type": "stream",
     "text": [
      "Epoch: 37 \tTraining Loss: 0.0767 \tValidation Loss: 0.0787\n"
     ]
    },
    {
     "name": "stderr",
     "output_type": "stream",
     "text": [
      "100%|████████████████████████████████████████| 6/6 [00:02<00:00,  2.88it/s]\n",
      "100%|████████████████████████████████████████| 1/1 [00:00<00:00,  9.39it/s]\n",
      " 38%|██████████████                       | 38/100 [03:43<05:44,  5.56s/it]"
     ]
    },
    {
     "name": "stdout",
     "output_type": "stream",
     "text": [
      "Epoch: 38 \tTraining Loss: 0.0757 \tValidation Loss: 0.0764\n"
     ]
    },
    {
     "name": "stderr",
     "output_type": "stream",
     "text": [
      "100%|████████████████████████████████████████| 6/6 [00:02<00:00,  2.87it/s]\n",
      "100%|████████████████████████████████████████| 1/1 [00:00<00:00,  8.67it/s]\n",
      " 39%|██████████████▍                      | 39/100 [03:46<04:37,  4.55s/it]"
     ]
    },
    {
     "name": "stdout",
     "output_type": "stream",
     "text": [
      "Epoch: 39 \tTraining Loss: 0.0751 \tValidation Loss: 0.0762\n"
     ]
    },
    {
     "name": "stderr",
     "output_type": "stream",
     "text": [
      "100%|████████████████████████████████████████| 6/6 [00:02<00:00,  2.91it/s]\n",
      "100%|████████████████████████████████████████| 1/1 [00:00<00:00,  9.53it/s]\n",
      " 40%|██████████████▊                      | 40/100 [03:48<03:50,  3.84s/it]"
     ]
    },
    {
     "name": "stdout",
     "output_type": "stream",
     "text": [
      "Epoch: 40 \tTraining Loss: 0.0739 \tValidation Loss: 0.0823\n"
     ]
    },
    {
     "name": "stderr",
     "output_type": "stream",
     "text": [
      "100%|████████████████████████████████████████| 6/6 [00:02<00:00,  2.92it/s]\n",
      "100%|████████████████████████████████████████| 1/1 [00:00<00:00,  9.46it/s]\n",
      " 41%|███████████████▏                     | 41/100 [03:50<03:16,  3.34s/it]"
     ]
    },
    {
     "name": "stdout",
     "output_type": "stream",
     "text": [
      "Epoch: 41 \tTraining Loss: 0.0732 \tValidation Loss: 0.0736\n"
     ]
    },
    {
     "name": "stderr",
     "output_type": "stream",
     "text": [
      "100%|████████████████████████████████████████| 6/6 [00:02<00:00,  2.93it/s]\n",
      "100%|████████████████████████████████████████| 1/1 [00:00<00:00,  8.65it/s]\n",
      " 42%|███████████████▌                     | 42/100 [03:52<02:53,  2.99s/it]"
     ]
    },
    {
     "name": "stdout",
     "output_type": "stream",
     "text": [
      "Epoch: 42 \tTraining Loss: 0.0722 \tValidation Loss: 0.0735\n"
     ]
    },
    {
     "name": "stderr",
     "output_type": "stream",
     "text": [
      "100%|████████████████████████████████████████| 6/6 [00:02<00:00,  2.91it/s]\n",
      "100%|████████████████████████████████████████| 1/1 [00:00<00:00,  9.66it/s]\n",
      " 43%|███████████████▉                     | 43/100 [03:54<02:36,  2.75s/it]"
     ]
    },
    {
     "name": "stdout",
     "output_type": "stream",
     "text": [
      "Epoch: 43 \tTraining Loss: 0.0714 \tValidation Loss: 0.0763\n"
     ]
    },
    {
     "name": "stderr",
     "output_type": "stream",
     "text": [
      "100%|████████████████████████████████████████| 6/6 [00:02<00:00,  2.91it/s]\n",
      "100%|████████████████████████████████████████| 1/1 [00:00<00:00,  9.27it/s]\n",
      " 44%|████████████████▎                    | 44/100 [03:56<02:24,  2.58s/it]"
     ]
    },
    {
     "name": "stdout",
     "output_type": "stream",
     "text": [
      "Epoch: 44 \tTraining Loss: 0.0708 \tValidation Loss: 0.0778\n"
     ]
    },
    {
     "name": "stderr",
     "output_type": "stream",
     "text": [
      "100%|████████████████████████████████████████| 6/6 [00:02<00:00,  2.88it/s]\n",
      "100%|████████████████████████████████████████| 1/1 [00:00<00:00,  9.06it/s]\n",
      " 45%|████████████████▋                    | 45/100 [03:59<02:15,  2.46s/it]"
     ]
    },
    {
     "name": "stdout",
     "output_type": "stream",
     "text": [
      "Epoch: 45 \tTraining Loss: 0.0701 \tValidation Loss: 0.0759\n"
     ]
    },
    {
     "name": "stderr",
     "output_type": "stream",
     "text": [
      "100%|████████████████████████████████████████| 6/6 [00:02<00:00,  2.88it/s]\n",
      "100%|████████████████████████████████████████| 1/1 [00:00<00:00,  9.49it/s]\n",
      " 46%|█████████████████                    | 46/100 [04:01<02:08,  2.38s/it]"
     ]
    },
    {
     "name": "stdout",
     "output_type": "stream",
     "text": [
      "Epoch: 46 \tTraining Loss: 0.0694 \tValidation Loss: 0.0749\n"
     ]
    },
    {
     "name": "stderr",
     "output_type": "stream",
     "text": [
      "100%|████████████████████████████████████████| 6/6 [00:02<00:00,  2.86it/s]\n",
      "100%|████████████████████████████████████████| 1/1 [00:00<00:00,  9.37it/s]\n",
      " 47%|█████████████████▍                   | 47/100 [04:03<02:03,  2.33s/it]"
     ]
    },
    {
     "name": "stdout",
     "output_type": "stream",
     "text": [
      "Epoch: 47 \tTraining Loss: 0.0687 \tValidation Loss: 0.0727\n"
     ]
    },
    {
     "name": "stderr",
     "output_type": "stream",
     "text": [
      "100%|████████████████████████████████████████| 6/6 [00:02<00:00,  2.85it/s]\n",
      "100%|████████████████████████████████████████| 1/1 [00:00<00:00,  8.76it/s]\n",
      " 48%|█████████████████▊                   | 48/100 [04:05<01:59,  2.30s/it]"
     ]
    },
    {
     "name": "stdout",
     "output_type": "stream",
     "text": [
      "Epoch: 48 \tTraining Loss: 0.0680 \tValidation Loss: 0.0719\n"
     ]
    },
    {
     "name": "stderr",
     "output_type": "stream",
     "text": [
      "100%|████████████████████████████████████████| 6/6 [00:02<00:00,  2.86it/s]\n",
      "100%|████████████████████████████████████████| 1/1 [00:00<00:00,  9.16it/s]\n",
      " 49%|██████████████████▏                  | 49/100 [04:07<01:56,  2.28s/it]"
     ]
    },
    {
     "name": "stdout",
     "output_type": "stream",
     "text": [
      "Epoch: 49 \tTraining Loss: 0.0672 \tValidation Loss: 0.0669\n"
     ]
    },
    {
     "name": "stderr",
     "output_type": "stream",
     "text": [
      "100%|████████████████████████████████████████| 6/6 [00:02<00:00,  2.87it/s]\n",
      "100%|████████████████████████████████████████| 1/1 [00:00<00:00,  9.12it/s]\n",
      " 50%|██████████████████▌                  | 50/100 [04:10<01:52,  2.26s/it]"
     ]
    },
    {
     "name": "stdout",
     "output_type": "stream",
     "text": [
      "Epoch: 50 \tTraining Loss: 0.0665 \tValidation Loss: 0.0680\n"
     ]
    },
    {
     "name": "stderr",
     "output_type": "stream",
     "text": [
      "100%|████████████████████████████████████████| 6/6 [00:03<00:00,  1.80it/s]\n",
      "100%|████████████████████████████████████████| 1/1 [00:00<00:00,  1.11it/s]\n",
      " 51%|██████████████████▊                  | 51/100 [04:14<02:20,  2.86s/it]"
     ]
    },
    {
     "name": "stdout",
     "output_type": "stream",
     "text": [
      "Epoch: 51 \tTraining Loss: 0.0659 \tValidation Loss: 0.0672\n"
     ]
    },
    {
     "name": "stderr",
     "output_type": "stream",
     "text": [
      "100%|████████████████████████████████████████| 6/6 [00:08<00:00,  1.34s/it]\n",
      "100%|████████████████████████████████████████| 1/1 [00:00<00:00,  1.10it/s]\n",
      " 52%|███████████████████▏                 | 52/100 [04:23<03:46,  4.72s/it]"
     ]
    },
    {
     "name": "stdout",
     "output_type": "stream",
     "text": [
      "Epoch: 52 \tTraining Loss: 0.0652 \tValidation Loss: 0.0667\n"
     ]
    },
    {
     "name": "stderr",
     "output_type": "stream",
     "text": [
      "100%|████████████████████████████████████████| 6/6 [00:09<00:00,  1.66s/it]\n",
      "100%|████████████████████████████████████████| 1/1 [00:00<00:00,  1.49it/s]\n",
      " 53%|███████████████████▌                 | 53/100 [04:34<05:06,  6.53s/it]"
     ]
    },
    {
     "name": "stdout",
     "output_type": "stream",
     "text": [
      "Epoch: 53 \tTraining Loss: 0.0646 \tValidation Loss: 0.0716\n"
     ]
    },
    {
     "name": "stderr",
     "output_type": "stream",
     "text": [
      "100%|████████████████████████████████████████| 6/6 [00:09<00:00,  1.65s/it]\n",
      "100%|████████████████████████████████████████| 1/1 [00:00<00:00,  1.47it/s]\n",
      " 54%|███████████████████▉                 | 54/100 [04:44<05:56,  7.76s/it]"
     ]
    },
    {
     "name": "stdout",
     "output_type": "stream",
     "text": [
      "Epoch: 54 \tTraining Loss: 0.0640 \tValidation Loss: 0.0734\n"
     ]
    },
    {
     "name": "stderr",
     "output_type": "stream",
     "text": [
      "100%|████████████████████████████████████████| 6/6 [00:09<00:00,  1.59s/it]\n",
      "100%|████████████████████████████████████████| 1/1 [00:00<00:00,  1.56it/s]\n",
      " 55%|████████████████████▎                | 55/100 [04:55<06:22,  8.50s/it]"
     ]
    },
    {
     "name": "stdout",
     "output_type": "stream",
     "text": [
      "Epoch: 55 \tTraining Loss: 0.0632 \tValidation Loss: 0.0680\n"
     ]
    },
    {
     "name": "stderr",
     "output_type": "stream",
     "text": [
      "100%|████████████████████████████████████████| 6/6 [00:11<00:00,  1.89s/it]\n",
      "100%|████████████████████████████████████████| 1/1 [00:00<00:00,  1.46it/s]\n",
      " 56%|████████████████████▋                | 56/100 [05:07<07:01,  9.58s/it]"
     ]
    },
    {
     "name": "stdout",
     "output_type": "stream",
     "text": [
      "Epoch: 56 \tTraining Loss: 0.0626 \tValidation Loss: 0.0642\n"
     ]
    },
    {
     "name": "stderr",
     "output_type": "stream",
     "text": [
      "100%|████████████████████████████████████████| 6/6 [00:11<00:00,  1.88s/it]\n",
      "100%|████████████████████████████████████████| 1/1 [00:00<00:00,  1.50it/s]\n",
      " 57%|█████████████████████                | 57/100 [05:19<07:23, 10.32s/it]"
     ]
    },
    {
     "name": "stdout",
     "output_type": "stream",
     "text": [
      "Epoch: 57 \tTraining Loss: 0.0620 \tValidation Loss: 0.0639\n"
     ]
    },
    {
     "name": "stderr",
     "output_type": "stream",
     "text": [
      "100%|████████████████████████████████████████| 6/6 [00:09<00:00,  1.66s/it]\n",
      "100%|████████████████████████████████████████| 1/1 [00:00<00:00,  1.50it/s]\n",
      " 58%|█████████████████████▍               | 58/100 [05:29<07:18, 10.43s/it]"
     ]
    },
    {
     "name": "stdout",
     "output_type": "stream",
     "text": [
      "Epoch: 58 \tTraining Loss: 0.0615 \tValidation Loss: 0.0637\n"
     ]
    },
    {
     "name": "stderr",
     "output_type": "stream",
     "text": [
      "100%|████████████████████████████████████████| 6/6 [00:10<00:00,  1.71s/it]\n",
      "100%|████████████████████████████████████████| 1/1 [00:00<00:00,  1.28it/s]\n",
      " 59%|█████████████████████▊               | 59/100 [05:41<07:16, 10.63s/it]"
     ]
    },
    {
     "name": "stdout",
     "output_type": "stream",
     "text": [
      "Epoch: 59 \tTraining Loss: 0.0608 \tValidation Loss: 0.0647\n"
     ]
    },
    {
     "name": "stderr",
     "output_type": "stream",
     "text": [
      "100%|████████████████████████████████████████| 6/6 [00:10<00:00,  1.83s/it]\n",
      "100%|████████████████████████████████████████| 1/1 [00:00<00:00,  2.39it/s]\n",
      " 60%|██████████████████████▏              | 60/100 [05:52<07:15, 10.89s/it]"
     ]
    },
    {
     "name": "stdout",
     "output_type": "stream",
     "text": [
      "Epoch: 60 \tTraining Loss: 0.0605 \tValidation Loss: 0.0662\n"
     ]
    },
    {
     "name": "stderr",
     "output_type": "stream",
     "text": [
      "100%|████████████████████████████████████████| 6/6 [00:08<00:00,  1.49s/it]\n",
      "100%|████████████████████████████████████████| 1/1 [00:01<00:00,  1.32s/it]\n",
      " 61%|██████████████████████▌              | 61/100 [06:02<06:58, 10.72s/it]"
     ]
    },
    {
     "name": "stdout",
     "output_type": "stream",
     "text": [
      "Epoch: 61 \tTraining Loss: 0.0599 \tValidation Loss: 0.0629\n"
     ]
    },
    {
     "name": "stderr",
     "output_type": "stream",
     "text": [
      "100%|████████████████████████████████████████| 6/6 [00:11<00:00,  1.85s/it]\n",
      "100%|████████████████████████████████████████| 1/1 [00:00<00:00,  1.43it/s]\n",
      " 62%|██████████████████████▉              | 62/100 [06:14<07:00, 11.08s/it]"
     ]
    },
    {
     "name": "stdout",
     "output_type": "stream",
     "text": [
      "Epoch: 62 \tTraining Loss: 0.0593 \tValidation Loss: 0.0634\n"
     ]
    },
    {
     "name": "stderr",
     "output_type": "stream",
     "text": [
      "100%|████████████████████████████████████████| 6/6 [00:11<00:00,  1.91s/it]\n",
      "100%|████████████████████████████████████████| 1/1 [00:00<00:00,  1.43it/s]\n",
      " 63%|███████████████████████▎             | 63/100 [06:27<07:03, 11.43s/it]"
     ]
    },
    {
     "name": "stdout",
     "output_type": "stream",
     "text": [
      "Epoch: 63 \tTraining Loss: 0.0586 \tValidation Loss: 0.0611\n"
     ]
    },
    {
     "name": "stderr",
     "output_type": "stream",
     "text": [
      "100%|████████████████████████████████████████| 6/6 [00:08<00:00,  1.41s/it]\n",
      "100%|████████████████████████████████████████| 1/1 [00:00<00:00,  5.05it/s]\n",
      " 64%|███████████████████████▋             | 64/100 [06:35<06:22, 10.62s/it]"
     ]
    },
    {
     "name": "stdout",
     "output_type": "stream",
     "text": [
      "Epoch: 64 \tTraining Loss: 0.0580 \tValidation Loss: 0.0645\n"
     ]
    },
    {
     "name": "stderr",
     "output_type": "stream",
     "text": [
      "100%|████████████████████████████████████████| 6/6 [00:07<00:00,  1.20s/it]\n",
      "100%|████████████████████████████████████████| 1/1 [00:00<00:00,  1.47it/s]\n",
      " 65%|████████████████████████             | 65/100 [06:43<05:44,  9.83s/it]"
     ]
    },
    {
     "name": "stdout",
     "output_type": "stream",
     "text": [
      "Epoch: 65 \tTraining Loss: 0.0576 \tValidation Loss: 0.0637\n"
     ]
    },
    {
     "name": "stderr",
     "output_type": "stream",
     "text": [
      "100%|████████████████████████████████████████| 6/6 [00:08<00:00,  1.45s/it]\n",
      "100%|████████████████████████████████████████| 1/1 [00:00<00:00,  9.66it/s]\n",
      " 66%|████████████████████████▍            | 66/100 [06:52<05:24,  9.54s/it]"
     ]
    },
    {
     "name": "stdout",
     "output_type": "stream",
     "text": [
      "Epoch: 66 \tTraining Loss: 0.0571 \tValidation Loss: 0.0588\n"
     ]
    },
    {
     "name": "stderr",
     "output_type": "stream",
     "text": [
      "100%|████████████████████████████████████████| 6/6 [00:10<00:00,  1.78s/it]\n",
      "100%|████████████████████████████████████████| 1/1 [00:00<00:00,  9.37it/s]\n",
      " 67%|████████████████████████▊            | 67/100 [07:03<05:27,  9.92s/it]"
     ]
    },
    {
     "name": "stdout",
     "output_type": "stream",
     "text": [
      "Epoch: 67 \tTraining Loss: 0.0564 \tValidation Loss: 0.0603\n"
     ]
    },
    {
     "name": "stderr",
     "output_type": "stream",
     "text": [
      "100%|████████████████████████████████████████| 6/6 [00:06<00:00,  1.14s/it]\n",
      "100%|████████████████████████████████████████| 1/1 [00:00<00:00,  6.52it/s]\n",
      " 68%|█████████████████████████▏           | 68/100 [07:10<04:49,  9.04s/it]"
     ]
    },
    {
     "name": "stdout",
     "output_type": "stream",
     "text": [
      "Epoch: 68 \tTraining Loss: 0.0558 \tValidation Loss: 0.0594\n"
     ]
    },
    {
     "name": "stderr",
     "output_type": "stream",
     "text": [
      "100%|████████████████████████████████████████| 6/6 [00:09<00:00,  1.57s/it]\n",
      "100%|████████████████████████████████████████| 1/1 [00:00<00:00,  1.23it/s]\n",
      " 69%|█████████████████████████▌           | 69/100 [07:20<04:51,  9.42s/it]"
     ]
    },
    {
     "name": "stdout",
     "output_type": "stream",
     "text": [
      "Epoch: 69 \tTraining Loss: 0.0553 \tValidation Loss: 0.0647\n"
     ]
    },
    {
     "name": "stderr",
     "output_type": "stream",
     "text": [
      "100%|████████████████████████████████████████| 6/6 [00:12<00:00,  2.03s/it]\n",
      "100%|████████████████████████████████████████| 1/1 [00:00<00:00,  1.44it/s]\n",
      " 70%|█████████████████████████▉           | 70/100 [07:33<05:14, 10.48s/it]"
     ]
    },
    {
     "name": "stdout",
     "output_type": "stream",
     "text": [
      "Epoch: 70 \tTraining Loss: 0.0549 \tValidation Loss: 0.0602\n"
     ]
    },
    {
     "name": "stderr",
     "output_type": "stream",
     "text": [
      "100%|████████████████████████████████████████| 6/6 [00:12<00:00,  2.12s/it]\n",
      "100%|████████████████████████████████████████| 1/1 [00:04<00:00,  4.02s/it]\n",
      " 71%|██████████████████████████▎          | 71/100 [07:50<06:00, 12.43s/it]"
     ]
    },
    {
     "name": "stdout",
     "output_type": "stream",
     "text": [
      "Epoch: 71 \tTraining Loss: 0.0544 \tValidation Loss: 0.0588\n"
     ]
    },
    {
     "name": "stderr",
     "output_type": "stream",
     "text": [
      "100%|████████████████████████████████████████| 6/6 [00:22<00:00,  3.79s/it]\n",
      "100%|████████████████████████████████████████| 1/1 [00:00<00:00,  1.12it/s]\n",
      " 72%|██████████████████████████▋          | 72/100 [08:14<07:25, 15.90s/it]"
     ]
    },
    {
     "name": "stdout",
     "output_type": "stream",
     "text": [
      "Epoch: 72 \tTraining Loss: 0.0537 \tValidation Loss: 0.0572\n"
     ]
    },
    {
     "name": "stderr",
     "output_type": "stream",
     "text": [
      "100%|████████████████████████████████████████| 6/6 [00:12<00:00,  2.02s/it]\n",
      "100%|████████████████████████████████████████| 1/1 [00:05<00:00,  5.22s/it]\n",
      " 73%|███████████████████████████          | 73/100 [08:32<07:22, 16.39s/it]"
     ]
    },
    {
     "name": "stdout",
     "output_type": "stream",
     "text": [
      "Epoch: 73 \tTraining Loss: 0.0533 \tValidation Loss: 0.0578\n"
     ]
    },
    {
     "name": "stderr",
     "output_type": "stream",
     "text": [
      "100%|████████████████████████████████████████| 6/6 [00:21<00:00,  3.57s/it]\n",
      "100%|████████████████████████████████████████| 1/1 [00:00<00:00,  1.11it/s]\n",
      " 74%|███████████████████████████▍         | 74/100 [08:54<07:53, 18.21s/it]"
     ]
    },
    {
     "name": "stdout",
     "output_type": "stream",
     "text": [
      "Epoch: 74 \tTraining Loss: 0.0528 \tValidation Loss: 0.0578\n"
     ]
    },
    {
     "name": "stderr",
     "output_type": "stream",
     "text": [
      "100%|████████████████████████████████████████| 6/6 [00:10<00:00,  1.71s/it]\n",
      "100%|████████████████████████████████████████| 1/1 [00:00<00:00,  1.18it/s]\n",
      " 75%|███████████████████████████▊         | 75/100 [09:05<06:42, 16.10s/it]"
     ]
    },
    {
     "name": "stdout",
     "output_type": "stream",
     "text": [
      "Epoch: 75 \tTraining Loss: 0.0522 \tValidation Loss: 0.0559\n"
     ]
    },
    {
     "name": "stderr",
     "output_type": "stream",
     "text": [
      "100%|████████████████████████████████████████| 6/6 [00:11<00:00,  1.85s/it]\n",
      "100%|████████████████████████████████████████| 1/1 [00:00<00:00,  2.43it/s]\n",
      " 76%|████████████████████████████         | 76/100 [09:17<05:53, 14.75s/it]"
     ]
    },
    {
     "name": "stdout",
     "output_type": "stream",
     "text": [
      "Epoch: 76 \tTraining Loss: 0.0516 \tValidation Loss: 0.0549\n"
     ]
    },
    {
     "name": "stderr",
     "output_type": "stream",
     "text": [
      "100%|████████████████████████████████████████| 6/6 [00:09<00:00,  1.63s/it]\n",
      "100%|████████████████████████████████████████| 1/1 [00:00<00:00,  1.35it/s]\n",
      " 77%|████████████████████████████▍        | 77/100 [09:27<05:10, 13.49s/it]"
     ]
    },
    {
     "name": "stdout",
     "output_type": "stream",
     "text": [
      "Epoch: 77 \tTraining Loss: 0.0511 \tValidation Loss: 0.0560\n"
     ]
    },
    {
     "name": "stderr",
     "output_type": "stream",
     "text": [
      "100%|████████████████████████████████████████| 6/6 [00:10<00:00,  1.77s/it]\n",
      "100%|████████████████████████████████████████| 1/1 [00:00<00:00,  1.49it/s]\n",
      " 78%|████████████████████████████▊        | 78/100 [09:39<04:42, 12.85s/it]"
     ]
    },
    {
     "name": "stdout",
     "output_type": "stream",
     "text": [
      "Epoch: 78 \tTraining Loss: 0.0507 \tValidation Loss: 0.0545\n"
     ]
    },
    {
     "name": "stderr",
     "output_type": "stream",
     "text": [
      "100%|████████████████████████████████████████| 6/6 [00:10<00:00,  1.72s/it]\n",
      "100%|████████████████████████████████████████| 1/1 [00:01<00:00,  1.41s/it]\n",
      " 79%|█████████████████████████████▏       | 79/100 [09:51<04:23, 12.54s/it]"
     ]
    },
    {
     "name": "stdout",
     "output_type": "stream",
     "text": [
      "Epoch: 79 \tTraining Loss: 0.0504 \tValidation Loss: 0.0563\n"
     ]
    },
    {
     "name": "stderr",
     "output_type": "stream",
     "text": [
      "100%|████████████████████████████████████████| 6/6 [00:10<00:00,  1.82s/it]\n",
      "100%|████████████████████████████████████████| 1/1 [00:00<00:00,  1.43it/s]\n",
      " 80%|█████████████████████████████▌       | 80/100 [10:02<04:05, 12.30s/it]"
     ]
    },
    {
     "name": "stdout",
     "output_type": "stream",
     "text": [
      "Epoch: 80 \tTraining Loss: 0.0499 \tValidation Loss: 0.0627\n"
     ]
    },
    {
     "name": "stderr",
     "output_type": "stream",
     "text": [
      "100%|████████████████████████████████████████| 6/6 [00:10<00:00,  1.76s/it]\n",
      "100%|████████████████████████████████████████| 1/1 [00:00<00:00,  1.87it/s]\n",
      " 81%|█████████████████████████████▉       | 81/100 [10:14<03:47, 11.95s/it]"
     ]
    },
    {
     "name": "stdout",
     "output_type": "stream",
     "text": [
      "Epoch: 81 \tTraining Loss: 0.0495 \tValidation Loss: 0.0566\n"
     ]
    },
    {
     "name": "stderr",
     "output_type": "stream",
     "text": [
      "100%|████████████████████████████████████████| 6/6 [00:09<00:00,  1.64s/it]\n",
      "100%|████████████████████████████████████████| 1/1 [00:00<00:00,  1.36it/s]\n",
      " 82%|██████████████████████████████▎      | 82/100 [10:24<03:28, 11.56s/it]"
     ]
    },
    {
     "name": "stdout",
     "output_type": "stream",
     "text": [
      "Epoch: 82 \tTraining Loss: 0.0489 \tValidation Loss: 0.0567\n"
     ]
    },
    {
     "name": "stderr",
     "output_type": "stream",
     "text": [
      "100%|████████████████████████████████████████| 6/6 [00:09<00:00,  1.60s/it]\n",
      "100%|████████████████████████████████████████| 1/1 [00:00<00:00,  1.06it/s]\n",
      " 83%|██████████████████████████████▋      | 83/100 [10:35<03:11, 11.29s/it]"
     ]
    },
    {
     "name": "stdout",
     "output_type": "stream",
     "text": [
      "Epoch: 83 \tTraining Loss: 0.0486 \tValidation Loss: 0.0523\n"
     ]
    },
    {
     "name": "stderr",
     "output_type": "stream",
     "text": [
      "100%|████████████████████████████████████████| 6/6 [00:09<00:00,  1.65s/it]\n",
      "100%|████████████████████████████████████████| 1/1 [00:00<00:00,  1.72it/s]\n",
      " 84%|███████████████████████████████      | 84/100 [10:45<02:57, 11.08s/it]"
     ]
    },
    {
     "name": "stdout",
     "output_type": "stream",
     "text": [
      "Epoch: 84 \tTraining Loss: 0.0480 \tValidation Loss: 0.0536\n"
     ]
    },
    {
     "name": "stderr",
     "output_type": "stream",
     "text": [
      "100%|████████████████████████████████████████| 6/6 [00:10<00:00,  1.80s/it]\n",
      "100%|████████████████████████████████████████| 1/1 [00:00<00:00,  1.30it/s]\n",
      " 85%|███████████████████████████████▍     | 85/100 [10:57<02:48, 11.25s/it]"
     ]
    },
    {
     "name": "stdout",
     "output_type": "stream",
     "text": [
      "Epoch: 85 \tTraining Loss: 0.0476 \tValidation Loss: 0.0520\n"
     ]
    },
    {
     "name": "stderr",
     "output_type": "stream",
     "text": [
      "100%|████████████████████████████████████████| 6/6 [00:10<00:00,  1.72s/it]\n",
      "100%|████████████████████████████████████████| 1/1 [00:00<00:00,  1.79it/s]\n",
      " 86%|███████████████████████████████▊     | 86/100 [11:08<02:36, 11.16s/it]"
     ]
    },
    {
     "name": "stdout",
     "output_type": "stream",
     "text": [
      "Epoch: 86 \tTraining Loss: 0.0471 \tValidation Loss: 0.0506\n"
     ]
    },
    {
     "name": "stderr",
     "output_type": "stream",
     "text": [
      "100%|████████████████████████████████████████| 6/6 [00:09<00:00,  1.63s/it]\n",
      "100%|████████████████████████████████████████| 1/1 [00:00<00:00,  1.24it/s]\n",
      " 87%|████████████████████████████████▏    | 87/100 [11:19<02:23, 11.02s/it]"
     ]
    },
    {
     "name": "stdout",
     "output_type": "stream",
     "text": [
      "Epoch: 87 \tTraining Loss: 0.0467 \tValidation Loss: 0.0520\n"
     ]
    },
    {
     "name": "stderr",
     "output_type": "stream",
     "text": [
      "100%|████████████████████████████████████████| 6/6 [00:11<00:00,  1.84s/it]\n",
      "100%|████████████████████████████████████████| 1/1 [00:00<00:00,  1.46it/s]\n",
      " 88%|████████████████████████████████▌    | 88/100 [11:31<02:15, 11.25s/it]"
     ]
    },
    {
     "name": "stdout",
     "output_type": "stream",
     "text": [
      "Epoch: 88 \tTraining Loss: 0.0463 \tValidation Loss: 0.0499\n"
     ]
    },
    {
     "name": "stderr",
     "output_type": "stream",
     "text": [
      "100%|████████████████████████████████████████| 6/6 [00:18<00:00,  3.07s/it]\n",
      "100%|████████████████████████████████████████| 1/1 [00:03<00:00,  3.39s/it]\n",
      " 89%|████████████████████████████████▉    | 89/100 [11:52<02:38, 14.44s/it]"
     ]
    },
    {
     "name": "stdout",
     "output_type": "stream",
     "text": [
      "Epoch: 89 \tTraining Loss: 0.0458 \tValidation Loss: 0.0511\n"
     ]
    },
    {
     "name": "stderr",
     "output_type": "stream",
     "text": [
      "100%|████████████████████████████████████████| 6/6 [00:20<00:00,  3.39s/it]\n",
      "100%|████████████████████████████████████████| 1/1 [00:00<00:00,  1.38it/s]\n",
      " 90%|█████████████████████████████████▎   | 90/100 [12:14<02:44, 16.46s/it]"
     ]
    },
    {
     "name": "stdout",
     "output_type": "stream",
     "text": [
      "Epoch: 90 \tTraining Loss: 0.0454 \tValidation Loss: 0.0503\n"
     ]
    },
    {
     "name": "stderr",
     "output_type": "stream",
     "text": [
      "100%|████████████████████████████████████████| 6/6 [00:14<00:00,  2.46s/it]\n",
      "100%|████████████████████████████████████████| 1/1 [00:00<00:00,  1.45it/s]\n",
      " 91%|█████████████████████████████████▋   | 91/100 [12:29<02:25, 16.19s/it]"
     ]
    },
    {
     "name": "stdout",
     "output_type": "stream",
     "text": [
      "Epoch: 91 \tTraining Loss: 0.0450 \tValidation Loss: 0.0480\n"
     ]
    },
    {
     "name": "stderr",
     "output_type": "stream",
     "text": [
      "100%|████████████████████████████████████████| 6/6 [00:15<00:00,  2.55s/it]\n",
      "100%|████████████████████████████████████████| 1/1 [00:00<00:00,  2.21it/s]\n",
      " 92%|██████████████████████████████████   | 92/100 [12:45<02:08, 16.07s/it]"
     ]
    },
    {
     "name": "stdout",
     "output_type": "stream",
     "text": [
      "Epoch: 92 \tTraining Loss: 0.0446 \tValidation Loss: 0.0507\n"
     ]
    },
    {
     "name": "stderr",
     "output_type": "stream",
     "text": [
      "100%|████████████████████████████████████████| 6/6 [00:14<00:00,  2.35s/it]\n",
      "100%|████████████████████████████████████████| 1/1 [00:00<00:00,  2.15it/s]\n",
      " 93%|██████████████████████████████████▍  | 93/100 [12:59<01:49, 15.62s/it]"
     ]
    },
    {
     "name": "stdout",
     "output_type": "stream",
     "text": [
      "Epoch: 93 \tTraining Loss: 0.0441 \tValidation Loss: 0.0509\n"
     ]
    },
    {
     "name": "stderr",
     "output_type": "stream",
     "text": [
      "100%|████████████████████████████████████████| 6/6 [00:14<00:00,  2.35s/it]\n",
      "100%|████████████████████████████████████████| 1/1 [00:00<00:00,  2.11it/s]\n",
      " 94%|██████████████████████████████████▊  | 94/100 [13:14<01:31, 15.30s/it]"
     ]
    },
    {
     "name": "stdout",
     "output_type": "stream",
     "text": [
      "Epoch: 94 \tTraining Loss: 0.0437 \tValidation Loss: 0.0505\n"
     ]
    },
    {
     "name": "stderr",
     "output_type": "stream",
     "text": [
      "100%|████████████████████████████████████████| 6/6 [00:14<00:00,  2.34s/it]\n",
      "100%|████████████████████████████████████████| 1/1 [00:00<00:00,  2.09it/s]\n",
      " 95%|███████████████████████████████████▏ | 95/100 [13:29<01:15, 15.07s/it]"
     ]
    },
    {
     "name": "stdout",
     "output_type": "stream",
     "text": [
      "Epoch: 95 \tTraining Loss: 0.0433 \tValidation Loss: 0.0512\n"
     ]
    },
    {
     "name": "stderr",
     "output_type": "stream",
     "text": [
      "100%|████████████████████████████████████████| 6/6 [00:14<00:00,  2.34s/it]\n",
      "100%|████████████████████████████████████████| 1/1 [00:00<00:00,  2.17it/s]\n",
      " 96%|███████████████████████████████████▌ | 96/100 [13:43<00:59, 14.90s/it]"
     ]
    },
    {
     "name": "stdout",
     "output_type": "stream",
     "text": [
      "Epoch: 96 \tTraining Loss: 0.0429 \tValidation Loss: 0.0479\n"
     ]
    },
    {
     "name": "stderr",
     "output_type": "stream",
     "text": [
      "100%|████████████████████████████████████████| 6/6 [00:14<00:00,  2.35s/it]\n",
      "100%|████████████████████████████████████████| 1/1 [00:00<00:00,  2.14it/s]\n",
      " 97%|███████████████████████████████████▉ | 97/100 [13:58<00:44, 14.80s/it]"
     ]
    },
    {
     "name": "stdout",
     "output_type": "stream",
     "text": [
      "Epoch: 97 \tTraining Loss: 0.0426 \tValidation Loss: 0.0483\n"
     ]
    },
    {
     "name": "stderr",
     "output_type": "stream",
     "text": [
      "100%|████████████████████████████████████████| 6/6 [00:14<00:00,  2.34s/it]\n",
      "100%|████████████████████████████████████████| 1/1 [00:00<00:00,  2.10it/s]\n",
      " 98%|████████████████████████████████████▎| 98/100 [14:12<00:29, 14.73s/it]"
     ]
    },
    {
     "name": "stdout",
     "output_type": "stream",
     "text": [
      "Epoch: 98 \tTraining Loss: 0.0422 \tValidation Loss: 0.0495\n"
     ]
    },
    {
     "name": "stderr",
     "output_type": "stream",
     "text": [
      "100%|████████████████████████████████████████| 6/6 [00:14<00:00,  2.34s/it]\n",
      "100%|████████████████████████████████████████| 1/1 [00:00<00:00,  2.17it/s]\n",
      " 99%|████████████████████████████████████▋| 99/100 [14:27<00:14, 14.66s/it]"
     ]
    },
    {
     "name": "stdout",
     "output_type": "stream",
     "text": [
      "Epoch: 99 \tTraining Loss: 0.0419 \tValidation Loss: 0.0483\n"
     ]
    },
    {
     "name": "stderr",
     "output_type": "stream",
     "text": [
      "100%|████████████████████████████████████████| 6/6 [00:14<00:00,  2.36s/it]\n",
      "100%|████████████████████████████████████████| 1/1 [00:00<00:00,  2.18it/s]\n",
      "100%|████████████████████████████████████| 100/100 [14:41<00:00,  8.82s/it]"
     ]
    },
    {
     "name": "stdout",
     "output_type": "stream",
     "text": [
      "Epoch: 100 \tTraining Loss: 0.0416 \tValidation Loss: 0.0494\n",
      "CPU times: total: 28min 22s\n",
      "Wall time: 14min 41s\n"
     ]
    },
    {
     "name": "stderr",
     "output_type": "stream",
     "text": [
      "\n"
     ]
    }
   ],
   "source": [
    "%%time\n",
    "# avec l'avancement de tqdm\n",
    "# Move the model to the device\n",
    "model = model.to(device)\n",
    "\n",
    "# Lists to store loss and accuracy for each epoch\n",
    "train_losses = []\n",
    "valid_losses = []\n",
    "\n",
    "best_metric = -1  # to track the best validation loss\n",
    "best_valid_loss = float('inf')\n",
    "best_model = None  # to store the best model\n",
    "best_epoch = 0  # to track the epoch number of the best model\n",
    "\n",
    "model.train()  # prepare model for training\n",
    "\n",
    "\n",
    "for epoch in tqdm(range(n_epochs)):\n",
    "    \n",
    "    epoch_tp_hard = []\n",
    "    epoch_fp_hard = []\n",
    "    epoch_fn_hard = []    \n",
    "    \n",
    "    # monitor training loss\n",
    "    train_loss = 0.0\n",
    "    model.train()  # ensure the model is in training mode\n",
    "    \n",
    "    ###################\n",
    "    # train the model #\n",
    "    ###################\n",
    "     \n",
    "    for batch_data in tqdm(train_dataloader, position=0, leave=True):   \n",
    "        # Load data and target samples stored the current batch_data\n",
    "        images, labels = batch_data[0].to(device), batch_data[1].to(device)\n",
    "        # clear the gradients of all optimized variables\n",
    "        optimizer.zero_grad()\n",
    "        # forward pass: compute predicted outputs by passing inputs to the model\n",
    "        output = model(images)\n",
    "        # calculate the loss\n",
    "        loss = criterion(output, labels)\n",
    "        # backward pass: compute gradient of the loss with respect to model parameters\n",
    "        loss.backward()\n",
    "        # perform a single optimization step (parameter update)\n",
    "        optimizer.step()\n",
    "        # update running training loss\n",
    "        train_loss += loss.item()*images.size(0)\n",
    "              \n",
    "        \n",
    "    # Calculate average training loss and accuracy over the epoch\n",
    "    train_loss = train_loss / len(train_dataloader.dataset)\n",
    "    train_losses.append(train_loss)\n",
    "\n",
    "    ###################\n",
    "    # Validation step #\n",
    "    ###################    \n",
    "    model.eval()  # set model to evaluation mode\n",
    "    valid_loss = 0.0\n",
    "\n",
    "    with torch.no_grad():  # disable gradient calculation during validation\n",
    "        for batch_data in tqdm(val_dataloader, position=0, leave=True):   \n",
    "            # Load data and target samples stored the current batch_data\n",
    "            val_inputs, val_labels = batch_data[0].to(device), batch_data[1].to(device)\n",
    "            # forward pass: compute predicted outputs by passing inputs to the model\n",
    "            val_outputs = model(val_inputs)\n",
    "            # calculate the loss\n",
    "            val_loss = criterion(val_outputs, val_labels)\n",
    "            # update running validation loss\n",
    "            valid_loss += val_loss.item() * val_inputs.size(0)\n",
    "\n",
    "        # Compute average validation loss and accuracy\n",
    "        valid_loss = valid_loss / len(val_dataloader.dataset)\n",
    "        valid_losses.append(valid_loss)\n",
    "        \n",
    "        print(f'Epoch: {epoch+1} \\tTraining Loss: {train_loss:.4f} \\tValidation Loss: {valid_loss:.4f}')\n",
    "\n",
    "        # Save the model if it has the best validation loss\n",
    "        if valid_loss < best_valid_loss:\n",
    "            best_valid_loss = valid_loss\n",
    "            best_model = model.state_dict()\n",
    "            best_epoch = epoch + 1  # Save the epoch number\n",
    "\n"
   ]
  },
  {
   "cell_type": "markdown",
   "metadata": {
    "scrolled": true
   },
   "source": [
    "### <span style=\"color:brown\"> Load and save the best model"
   ]
  },
  {
   "cell_type": "code",
   "execution_count": 22,
   "metadata": {
    "scrolled": true
   },
   "outputs": [
    {
     "name": "stdout",
     "output_type": "stream",
     "text": [
      "Best model selected at epoch 96 with validation loss: 0.0479\n"
     ]
    }
   ],
   "source": [
    "model.load_state_dict(best_model)\n",
    "torch.save(best_model, 'best_model_sep.pth')  # Save the best model\n",
    "print(f\"Best model selected at epoch {best_epoch} with validation loss: {best_valid_loss:.4f}\")"
   ]
  },
  {
   "cell_type": "markdown",
   "metadata": {},
   "source": [
    "### <span style=\"color:brown\"> 4.2 Display train / valid curves"
   ]
  },
  {
   "cell_type": "code",
   "execution_count": 23,
   "metadata": {},
   "outputs": [
    {
     "data": {
      "text/plain": [
       "<matplotlib.legend.Legend at 0x2beb5b613a0>"
      ]
     },
     "execution_count": 23,
     "metadata": {},
     "output_type": "execute_result"
    },
    {
     "data": {
      "image/png": "[encoded data removed]",
      "text/plain": [
       "<Figure size 600x600 with 1 Axes>"
      ]
     },
     "metadata": {},
     "output_type": "display_data"
    }
   ],
   "source": [
    "# Plot loss curves\n",
    "plt.figure(figsize=(6, 6))\n",
    "\n",
    "# Plotting Training and Validation Loss\n",
    "plt.subplot(1, 1, 1)\n",
    "plt.plot(train_losses, label='Training Loss')\n",
    "plt.plot(valid_losses, label='Validation Loss')\n",
    "plt.title('Loss Curve')\n",
    "plt.xlabel('Epochs')\n",
    "plt.ylabel('Loss')\n",
    "plt.legend()\n"
   ]
  },
  {
   "cell_type": "markdown",
   "metadata": {},
   "source": [
    "---\n",
    "## <span style=\"color:brown\"> 5. Perform the inference on the test dataset\n",
    "\n",
    "\n",
    "### <span style=\"color:brown\"> 5.1 Load the weight of the best model\n",
    "You could use other weights for your model..."
   ]
  },
  {
   "cell_type": "code",
   "execution_count": 32,
   "metadata": {},
   "outputs": [
    {
     "data": {
      "text/plain": [
       "<All keys matched successfully>"
      ]
     },
     "execution_count": 32,
     "metadata": {},
     "output_type": "execute_result"
    }
   ],
   "source": [
    "# To load and use the best model\n",
    "\n",
    "input_shape = (3, width, height)  # This is the shape of the input image to the network\n",
    "num_classes = 1  # This is the number of output classes\n",
    "output_shape = (num_classes, width, height)  # This is the shape of the output mask\n",
    "init_channels = 32  # This is the number of channels in the first layer of the network\n",
    "\n",
    "#model = UNet(input_shape=input_shape, output_shape=output_shape, init_channels=init_channels).to(device)\n",
    "\n",
    "model_weights_path = \"best_model_carvana.pth\"\n",
    "model.load_state_dict(torch.load(model_weights_path))"
   ]
  },
  {
   "cell_type": "markdown",
   "metadata": {},
   "source": [
    "Then, we perform the inference on a sample from the test dataset and plot the prediction.\n",
    "Run the following cell many times to test several images.\n",
    "**Take care of the dimensions of tensors and data !...**\n"
   ]
  },
  {
   "cell_type": "markdown",
   "metadata": {},
   "source": [
    "### <span style=\"color:brown\"> 5.2 Test and visualized the results on one sample of the test_dataset\n",
    "\n",
    "We compare the computation of Dice and IoU metrics using two approaches:\n",
    "1. **Custom Functions**: Defined directly in the code.\n",
    "2. **MONAI Metrics**: Utilizing the built-in metrics provided by the MONAI library."
   ]
  },
  {
   "cell_type": "code",
   "execution_count": 33,
   "metadata": {},
   "outputs": [
    {
     "name": "stdout",
     "output_type": "stream",
     "text": [
      "num_worker s= 15\n"
     ]
    }
   ],
   "source": [
    "num_workers = os.cpu_count() - 1\n",
    "print(\"num_worker s=\",num_workers)\n",
    "\n",
    "# Create test_dataloader2, batch_size=1, just for the display of the following cell\n",
    "test_dataloader2 = DataLoader(\n",
    "    test_dataset, \n",
    "    batch_size=1, \n",
    "    pin_memory=torch.cuda.is_available(), \n",
    "    shuffle=False\n",
    ")\n",
    "\n",
    "# Create an iterator to iterate over the test dataloader\n",
    "test_dataloader_iter = iter(test_dataloader2)"
   ]
  },
  {
   "cell_type": "code",
   "execution_count": 59,
   "metadata": {},
   "outputs": [
    {
     "name": "stdout",
     "output_type": "stream",
     "text": [
      "Image shape: torch.Size([1, 1, 304, 752]) Label shape: torch.Size([1, 1, 304, 752])\n"
     ]
    },
    {
     "data": {
      "image/png": "[encoded data removed]",
      "text/plain": [
       "<Figure size 1000x800 with 6 Axes>"
      ]
     },
     "metadata": {},
     "output_type": "display_data"
    },
    {
     "name": "stdout",
     "output_type": "stream",
     "text": [
      "dice_metric_result (Monai) : 0.611\n",
      "iou_metric_result  (Monai) : 0.439\n"
     ]
    }
   ],
   "source": [
    "import torch\n",
    "import numpy as np\n",
    "import matplotlib.pyplot as plt\n",
    "from monai.networks.nets import UNet\n",
    "from sklearn.metrics import jaccard_score\n",
    "from monai.metrics import DiceMetric, MeanIoU\n",
    "\n",
    "# Initialisation des métriques MONAI\n",
    "dice_metric = DiceMetric(include_background=False, reduction=\"mean\")\n",
    "iou_metric = MeanIoU(include_background=False)\n",
    "dice_metric.reset()\n",
    "iou_metric.reset()\n",
    "\n",
    "# Fonctions de calcul Dice et IoU avec NumPy\n",
    "def dice_score(pred, label):\n",
    "    smooth = 1e-6\n",
    "    intersection = np.sum(pred * label)\n",
    "    return 2. * intersection / (np.sum(pred) + np.sum(label) + smooth)\n",
    "\n",
    "def iou_score(pred, label):\n",
    "    return jaccard_score(label.flatten(), pred.flatten())\n",
    "\n",
    "# Préparation du modèle et du dataloader\n",
    "model.to(device)\n",
    "model.eval()\n",
    "\n",
    "# Lecture d'un batch du test_dataloader\n",
    "test_dataloader_iter = iter(test_dataloader)\n",
    "batch_data = next(test_dataloader_iter)\n",
    "\n",
    "with torch.no_grad():\n",
    "    # Récupérer une image et son label\n",
    "    image, label = batch_data[0][0].unsqueeze(0).to(device), batch_data[1][0].unsqueeze(0).to(device)\n",
    "    print(\"Image shape:\", image.shape, \"Label shape:\", label.shape)\n",
    "\n",
    "    # Prédiction\n",
    "    output = model(image)\n",
    "    pred = (torch.sigmoid(output) > 0.3).float()\n",
    "\n",
    "    # Métriques MONAI\n",
    "    dice_metric(pred, label)\n",
    "    iou_metric(pred, label)\n",
    "    dice_metric_result = dice_metric.aggregate().item()\n",
    "    iou_metric_result = iou_metric.aggregate().item()\n",
    "\n",
    "    # Conversion en NumPy pour affichage\n",
    "    pred = pred.squeeze().cpu().numpy()\n",
    "    image = image.squeeze().cpu().numpy()\n",
    "    label = label.squeeze().cpu().numpy()\n",
    "\n",
    "    # Métriques NumPy\n",
    "    dice = dice_score(pred, label)\n",
    "    iou = iou_score(pred, label)\n",
    "\n",
    "# Normalisation de l'image dans [0, 1]\n",
    "image = (image + 1) / 2.0\n",
    "\n",
    "# Affichage\n",
    "fig, axes = plt.subplots(2, 3, figsize=(10, 8))\n",
    "\n",
    "# Première ligne : image, label, prédiction\n",
    "axes[0, 0].imshow(image, cmap='gray')\n",
    "axes[0, 0].set_title(\"Image d'origine\")\n",
    "axes[0, 0].axis('off')\n",
    "\n",
    "axes[0, 1].imshow(label, cmap='jet')\n",
    "axes[0, 1].set_title(\"Label\")\n",
    "axes[0, 1].axis('off')\n",
    "\n",
    "axes[0, 2].imshow(pred, cmap='jet')\n",
    "axes[0, 2].set_title(f\"Prediction\\nDice: {dice:.3f}\\nIoU: {iou:.3f}\")\n",
    "axes[0, 2].axis('off')\n",
    "\n",
    "# Deuxième ligne : overlay\n",
    "axes[1, 0].imshow(image, cmap='gray')\n",
    "axes[1, 0].set_title(\"Image d'origine\")\n",
    "axes[1, 0].axis('off')\n",
    "\n",
    "axes[1, 1].imshow(image, cmap='gray')\n",
    "axes[1, 1].imshow(label, cmap='jet', alpha=0.4)\n",
    "axes[1, 1].set_title(\"Label overlay\")\n",
    "axes[1, 1].axis('off')\n",
    "\n",
    "axes[1, 2].imshow(image, cmap='gray')\n",
    "axes[1, 2].imshow(pred, cmap='jet', alpha=0.4)\n",
    "axes[1, 2].set_title(f\"Prediction overlay\\nDice: {dice:.3f}\\nIoU: {iou:.3f}\")\n",
    "axes[1, 2].axis('off')\n",
    "\n",
    "plt.tight_layout()\n",
    "plt.show()\n",
    "\n",
    "print(f\"dice_metric_result (Monai) : {dice_metric_result:.3f}\")\n",
    "print(f\"iou_metric_result  (Monai) : {iou_metric_result:.3f}\")\n"
   ]
  },
  {
   "cell_type": "markdown",
   "metadata": {},
   "source": [
    "---\n",
    "### <span style=\"color:brown\"> 5.3 Computing Metrics on the Entire Test Dataset\n",
    "\n",
    "In this section, we evaluate the segmentation accuracy across the entire test dataset.\n",
    "\n",
    "Various metrics can be used for this purpose (refer to your lecture notes for details). You are encouraged to explore and implement additional metrics to test their performance.\n",
    "\n",
    "### Metrics Used:\n",
    "- **Dice Score**: Used here to measure segmentation accuracy.\n",
    "- **IoU Metric**: Add your own user-defined implementation to compute IoU.\n",
    "- **MONAI Metrics**: Experiment with MONAI's built-in metrics for comparison.\n",
    "    (https://docs.monai.io/en/stable/metrics.html"
   ]
  },
  {
   "cell_type": "code",
   "execution_count": 61,
   "metadata": {},
   "outputs": [
    {
     "name": "stderr",
     "output_type": "stream",
     "text": [
      "  0%|                                                | 0/1 [00:00<?, ?it/s]"
     ]
    },
    {
     "name": "stdout",
     "output_type": "stream",
     "text": [
      "0. img.shape: torch.Size([6, 1, 304, 752]) 0. mask.shape: torch.Size([6, 1, 304, 752])\n"
     ]
    },
    {
     "name": "stderr",
     "output_type": "stream",
     "text": [
      "100%|████████████████████████████████████████| 1/1 [00:00<00:00,  1.55it/s]"
     ]
    },
    {
     "name": "stdout",
     "output_type": "stream",
     "text": [
      "1.y_pred.shape: torch.Size([6, 1, 304, 752]) 1. mask.shape: torch.Size([6, 1, 304, 752]) 1. np_y_pred: (304, 752)\n",
      "Final Dice Metric 1 : 0.242\n",
      "Final Dice Metric 2  : 0.633\n",
      "test Loss : 0.094\n"
     ]
    },
    {
     "name": "stderr",
     "output_type": "stream",
     "text": [
      "\n"
     ]
    }
   ],
   "source": [
    "# Custom functions\n",
    "# Implementation 2: Dice Coefficient ( PyTorch version- Tensor operations)\n",
    "def dice_coefficient(prediction, target, epsilon=1e-07):\n",
    "    prediction_copy = prediction.clone()\n",
    "    prediction_copy[prediction_copy < 0] = 0\n",
    "    prediction_copy[prediction_copy > 0] = 1\n",
    "    intersection = abs(torch.sum(prediction_copy * target))\n",
    "    union = abs(torch.sum(prediction_copy) + torch.sum(target))\n",
    "    dice = (2. * intersection + epsilon) / (union + epsilon)\n",
    "    return dice\n",
    "\n",
    "# Implementation 1: Dice Score (NumPy Version - Array operations)\n",
    "def dice_score(pred, label):\n",
    "    smooth = 1e-6\n",
    "    intersection = np.sum(pred * label)\n",
    "    return 2. * intersection / (np.sum(pred) + np.sum(label) + smooth)\n",
    "    \n",
    "#  IoU Score (Intersection over Union)  (NumPy Version - Array operations)\n",
    "def iou_score(pred, label):\n",
    "    return jaccard_score(label.flatten(), pred.flatten())\n",
    "\n",
    "test_running_loss = 0\n",
    "test_running_dc1 = 0\n",
    "test_running_dc2 = 0  # comparison with dice_score function\n",
    "\n",
    "model.eval()\n",
    "with torch.no_grad():\n",
    "    for idx, img_mask in enumerate(tqdm(test_dataloader, position=0, leave=True)):\n",
    "        img = img_mask[0].float().to(device)\n",
    "        mask = img_mask[1].float().to(device)\n",
    "        if idx==0:\n",
    "            print(\"0. img.shape:\", img.shape,\"0. mask.shape:\",mask.shape)\n",
    "        y_pred = model(img)\n",
    "        loss = criterion(y_pred, mask)\n",
    "        dc1 = dice_coefficient(y_pred, mask)\n",
    "        \n",
    "        y_pred = (torch.sigmoid(y_pred) > 0.3).float()\n",
    "        np_mask = mask.squeeze(dim=0).squeeze(dim=0).detach().cpu().numpy()  # Same here\n",
    "        np_y_pred = y_pred.squeeze(dim=0).squeeze(dim=0).detach().cpu().numpy()  # Sequentially remove the first two dimensions\n",
    "        if idx==0:\n",
    "            print(\"1.y_pred.shape:\", y_pred.shape, \"1. mask.shape:\", mask.shape,\"1. np_y_pred:\", pred.shape)\n",
    "        dc2 = dice_score(np_y_pred, np_mask)\n",
    "       \n",
    "        test_running_loss += loss.item()\n",
    "        test_running_dc1 += dc1.item()\n",
    "        test_running_dc2 += dc2.item()\n",
    "\n",
    "    test_loss = test_running_loss / (idx + 1)\n",
    "    test_dc1 = test_running_dc1 / (idx + 1)\n",
    "    test_dc2 = test_running_dc2 / (idx + 1)\n",
    "\n",
    "print(f\"Final Dice Metric 1 : {test_dc1:.3f}\")\n",
    "print(f\"Final Dice Metric 2  : {test_dc2:.3f}\")\n",
    "print(f\"test Loss : {test_loss:.3f}\")\n",
    "\n",
    "\"\"\" Essai Dice et IoU de Monai à revoir, à ne pas effacer !!!!\"\"\"\n",
    "import torch\n",
    "import numpy as np\n",
    "import matplotlib.pyplot as plt\n",
    "import torch.nn.functional as F\n",
    "from monai.networks.nets import UNet\n",
    "from sklearn.metrics import jaccard_score\n",
    "from monai.metrics import  DiceMetric, MeanIoU\n",
    "\n",
    "# Check the device\n",
    "device = torch.device(\"cuda\" if torch.cuda.is_available() else \"cpu\")\n",
    "\n",
    "# Metrics initialisation\n",
    "dice_metric = DiceMetric(include_background=True, reduction=\"mean\")\n",
    "iou_metric = MeanIoU(include_background=True)  # No num_classes argument\n",
    "\n",
    "# Dice and IoU metrics from monai, reset before use\n",
    "dice_metric.reset()\n",
    "iou_metric.reset()\n",
    "\n",
    "\n"
   ]
  },
  {
   "cell_type": "markdown",
   "metadata": {},
   "source": [
    "### 5.4 Hidden"
   ]
  },
  {
   "cell_type": "code",
   "execution_count": 65,
   "metadata": {},
   "outputs": [
    {
     "name": "stdout",
     "output_type": "stream",
     "text": [
      "\n",
      "Évaluation pour le seuil 0.20\n"
     ]
    },
    {
     "name": "stderr",
     "output_type": "stream",
     "text": [
      "                                                                           "
     ]
    },
    {
     "name": "stdout",
     "output_type": "stream",
     "text": [
      "\n",
      "Évaluation pour le seuil 0.25\n"
     ]
    },
    {
     "name": "stderr",
     "output_type": "stream",
     "text": [
      "                                                                           "
     ]
    },
    {
     "name": "stdout",
     "output_type": "stream",
     "text": [
      "\n",
      "Évaluation pour le seuil 0.30\n"
     ]
    },
    {
     "name": "stderr",
     "output_type": "stream",
     "text": [
      "                                                                           "
     ]
    },
    {
     "name": "stdout",
     "output_type": "stream",
     "text": [
      "\n",
      "Évaluation pour le seuil 0.35\n"
     ]
    },
    {
     "name": "stderr",
     "output_type": "stream",
     "text": [
      "                                                                           "
     ]
    },
    {
     "name": "stdout",
     "output_type": "stream",
     "text": [
      "\n",
      "Évaluation pour le seuil 0.40\n"
     ]
    },
    {
     "name": "stderr",
     "output_type": "stream",
     "text": [
      "                                                                           "
     ]
    },
    {
     "name": "stdout",
     "output_type": "stream",
     "text": [
      "\n",
      "Évaluation pour le seuil 0.45\n"
     ]
    },
    {
     "name": "stderr",
     "output_type": "stream",
     "text": [
      "                                                                           "
     ]
    },
    {
     "name": "stdout",
     "output_type": "stream",
     "text": [
      "\n",
      "Évaluation pour le seuil 0.50\n"
     ]
    },
    {
     "name": "stderr",
     "output_type": "stream",
     "text": [
      "                                                                           "
     ]
    },
    {
     "name": "stdout",
     "output_type": "stream",
     "text": [
      "\n",
      "📊 Résultats par seuil :\n",
      "\n",
      "Seuil = 0.20\n",
      "  Loss           : 0.0941\n",
      "  Dice (custom)  : 0.5797\n",
      "  IoU  (custom)  : 0.4099\n",
      "  Dice (MONAI)   : 0.5797\n",
      "  IoU  (MONAI)   : 0.4099\n",
      "  HD95 (MedPy)   : 34.81\n",
      "\n",
      "Seuil = 0.25\n",
      "  Loss           : 0.0941\n",
      "  Dice (custom)  : 0.6217\n",
      "  IoU  (custom)  : 0.4525\n",
      "  Dice (MONAI)   : 0.6217\n",
      "  IoU  (MONAI)   : 0.4525\n",
      "  HD95 (MedPy)   : 31.75\n",
      "\n",
      "Seuil = 0.30\n",
      "  Loss           : 0.0941\n",
      "  Dice (custom)  : 0.6415\n",
      "  IoU  (custom)  : 0.4741\n",
      "  Dice (MONAI)   : 0.6415\n",
      "  IoU  (MONAI)   : 0.4741\n",
      "  HD95 (MedPy)   : 34.41\n",
      "\n",
      "Seuil = 0.35\n",
      "  Loss           : 0.0941\n",
      "  Dice (custom)  : 0.6394\n",
      "  IoU  (custom)  : 0.4727\n",
      "  Dice (MONAI)   : 0.6394\n",
      "  IoU  (MONAI)   : 0.4727\n",
      "  HD95 (MedPy)   : 45.00\n",
      "\n",
      "Seuil = 0.40\n",
      "  Loss           : 0.0941\n",
      "  Dice (custom)  : 0.6029\n",
      "  IoU  (custom)  : 0.4350\n",
      "  Dice (MONAI)   : 0.6029\n",
      "  IoU  (MONAI)   : 0.4350\n",
      "  HD95 (MedPy)   : 78.10\n",
      "\n",
      "Seuil = 0.45\n",
      "  Loss           : 0.0941\n",
      "  Dice (custom)  : 0.4761\n",
      "  IoU  (custom)  : 0.3162\n",
      "  Dice (MONAI)   : 0.4761\n",
      "  IoU  (MONAI)   : 0.3162\n",
      "  HD95 (MedPy)   : 136.04\n",
      "\n",
      "Seuil = 0.50\n",
      "  Loss           : 0.0941\n",
      "  Dice (custom)  : 0.2779\n",
      "  IoU  (custom)  : 0.1659\n",
      "  Dice (MONAI)   : 0.2779\n",
      "  IoU  (MONAI)   : 0.1659\n",
      "  HD95 (MedPy)   : 140.45\n"
     ]
    },
    {
     "name": "stderr",
     "output_type": "stream",
     "text": []
    }
   ],
   "source": [
    "import torch\n",
    "import numpy as np\n",
    "from tqdm import tqdm\n",
    "from sklearn.metrics import jaccard_score\n",
    "from monai.metrics import DiceMetric, MeanIoU\n",
    "from medpy.metric.binary import hd95\n",
    "\n",
    "# --- Fonctions personnalisées ---\n",
    "def dice_score(pred, label):\n",
    "    smooth = 1e-6\n",
    "    intersection = np.sum(pred * label)\n",
    "    return 2. * intersection / (np.sum(pred) + np.sum(label) + smooth)\n",
    "\n",
    "def iou_score(pred, label):\n",
    "    return jaccard_score(label.flatten(), pred.flatten())\n",
    "\n",
    "def compute_hd95(pred, label):\n",
    "    try:\n",
    "        return hd95(pred.astype(bool), label.astype(bool))\n",
    "    except:\n",
    "        return np.nan  # En cas de masque vide\n",
    "\n",
    "# Liste des seuils à tester\n",
    "thresholds = np.arange(0.2, 0.51, 0.05)\n",
    "results = {}\n",
    "\n",
    "model.eval()\n",
    "with torch.no_grad():\n",
    "    for threshold in thresholds:\n",
    "        print(f\"\\nÉvaluation pour le seuil {threshold:.2f}\")\n",
    "        \n",
    "        # Réinitialiser les métriques MONAI\n",
    "        dice_metric = DiceMetric(include_background=False, reduction=\"mean\")\n",
    "        iou_metric = MeanIoU(include_background=False)\n",
    "        dice_metric.reset()\n",
    "        iou_metric.reset()\n",
    "\n",
    "        test_running_loss = 0\n",
    "        test_running_dice = 0\n",
    "        test_running_iou = 0\n",
    "        test_running_hd95 = 0\n",
    "        hd95_count = 0\n",
    "\n",
    "        for idx, img_mask in enumerate(tqdm(test_dataloader, desc=f\"Seuil {threshold:.2f}\", leave=False)):\n",
    "            img = img_mask[0].float().to(device)\n",
    "            mask = img_mask[1].float().to(device)\n",
    "\n",
    "            output = model(img)\n",
    "            loss = criterion(output, mask)\n",
    "\n",
    "            # Sigmoid + seuillage\n",
    "            y_pred = (torch.sigmoid(output) > threshold).float()\n",
    "\n",
    "            # MONAI metrics\n",
    "            dice_metric(y_pred, mask)\n",
    "            iou_metric(y_pred, mask)\n",
    "\n",
    "            # Conversion pour calculs personnalisés\n",
    "            np_mask = mask.cpu().numpy().squeeze(1)\n",
    "            np_pred = y_pred.cpu().numpy().squeeze(1)\n",
    "\n",
    "            for p, m in zip(np_pred, np_mask):\n",
    "                test_running_dice += dice_score(p, m)\n",
    "                test_running_iou += iou_score(p, m)\n",
    "\n",
    "                hd = compute_hd95(p, m)\n",
    "                if not np.isnan(hd):\n",
    "                    test_running_hd95 += hd\n",
    "                    hd95_count += 1\n",
    "\n",
    "            test_running_loss += loss.item()\n",
    "\n",
    "        n_batches = idx + 1\n",
    "        n_samples = len(test_dataloader.dataset)\n",
    "\n",
    "        # Résultats moyens\n",
    "        avg_loss = test_running_loss / n_batches\n",
    "        avg_dice = test_running_dice / n_samples\n",
    "        avg_iou = test_running_iou / n_samples\n",
    "        avg_hd95 = test_running_hd95 / hd95_count if hd95_count > 0 else np.nan\n",
    "        dice_monai = dice_metric.aggregate().item()\n",
    "        iou_monai = iou_metric.aggregate().item()\n",
    "\n",
    "        # Stockage\n",
    "        results[threshold] = {\n",
    "            \"loss\": avg_loss,\n",
    "            \"dice_custom\": avg_dice,\n",
    "            \"iou_custom\": avg_iou,\n",
    "            \"dice_monai\": dice_monai,\n",
    "            \"iou_monai\": iou_monai,\n",
    "            \"hd95\": avg_hd95\n",
    "        }\n",
    "\n",
    "# --- Affichage final ---\n",
    "print(\"\\n📊 Résultats par seuil :\")\n",
    "for t, metrics in results.items():\n",
    "    print(f\"\\nSeuil = {t:.2f}\")\n",
    "    print(f\"  Loss           : {metrics['loss']:.4f}\")\n",
    "    print(f\"  Dice (custom)  : {metrics['dice_custom']:.4f}\")\n",
    "    print(f\"  IoU  (custom)  : {metrics['iou_custom']:.4f}\")\n",
    "    print(f\"  Dice (MONAI)   : {metrics['dice_monai']:.4f}\")\n",
    "    print(f\"  IoU  (MONAI)   : {metrics['iou_monai']:.4f}\")\n",
    "    print(f\"  HD95 (MedPy)   : {metrics['hd95']:.2f}\")\n"
   ]
  },
  {
   "cell_type": "code",
   "execution_count": null,
   "metadata": {},
   "outputs": [],
   "source": [
    "# Toolkit function\n",
    "# Windows may create an hidden file \"Thumbs.db\". If the error occurs, run the following funtion\n",
    "def delete_thumbs_db(directory):\n",
    "    # Parcours de tous les fichiers et sous-dossiers du répertoire\n",
    "    for root, dirs, files in os.walk(directory):\n",
    "        for file in files:\n",
    "            if file == \"Thumbs.db\":\n",
    "                file_path = os.path.join(root, file)\n",
    "                try:\n",
    "                    os.remove(file_path)\n",
    "                    print(f\"Supprimé : {file_path}\")\n",
    "                except Exception as e:\n",
    "                    print(f\"Erreur lors de la suppression de {file_path} : {e}\")\n",
    "\n",
    "# Remplacez 'chemin/vers/dossier' par le chemin réel de votre répertoire\n",
    "delete_thumbs_db(\"data/carvana/train\")\n",
    "delete_thumbs_db(\"data/carvana/train_masks\")"
   ]
  }
 ],
 "metadata": {
  "anaconda-cloud": {},
  "kernelspec": {
   "display_name": "Python 3 (ipykernel)",
   "language": "python",
   "name": "python3"
  },
  "language_info": {
   "codemirror_mode": {
    "name": "ipython",
    "version": 3
   },
   "file_extension": ".py",
   "mimetype": "text/x-python",
   "name": "python",
   "nbconvert_exporter": "python",
   "pygments_lexer": "ipython3",
   "version": "3.12.9"
  }
 },
 "nbformat": 4,
 "nbformat_minor": 4
}
